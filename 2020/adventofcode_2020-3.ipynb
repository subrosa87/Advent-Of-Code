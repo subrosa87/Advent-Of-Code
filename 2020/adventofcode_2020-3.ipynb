{
 "cells": [
  {
   "cell_type": "code",
   "execution_count": 1,
   "metadata": {},
   "outputs": [],
   "source": [
    "import re\n",
    "import numpy as np\n",
    "import pandas as pd \n",
    "import itertools"
   ]
  },
  {
   "cell_type": "code",
   "execution_count": 9,
   "metadata": {},
   "outputs": [],
   "source": [
    "def split(word):\n",
    "    return [char for char in word]"
   ]
  },
  {
   "cell_type": "code",
   "execution_count": 21,
   "metadata": {},
   "outputs": [
    {
     "name": "stdout",
     "output_type": "stream",
     "text": [
      "11 11\n"
     ]
    }
   ],
   "source": [
    "file1 = open('2020-03-ex', 'r')\n",
    "#file1 = open('2020-03', 'r')\n",
    "Lines = file1.readlines()\n",
    "Lines = [split(x.replace('\\n','')) for x in Lines]\n",
    "print(len(Lines),len(Lines[0]))"
   ]
  },
  {
   "cell_type": "code",
   "execution_count": 30,
   "metadata": {},
   "outputs": [
    {
     "name": "stdout",
     "output_type": "stream",
     "text": [
      "11 1 [['#' '.' '.' '.' '#' '.' '.' '.' '#' '.' '.' '#' '.' '.' '.' '#' '.' '.'\n",
      "  '.' '#' '.' '.']]\n",
      "[['.' '.' '#' '#' '.' '.' '.' '.' '.' '.' '.' '.' '.' '#' '#' '.' '.' '.'\n",
      "  '.' '.' '.' '.']\n",
      " ['#' '.' '.' '.' '#' '.' '.' '.' '#' '.' '.' '#' '.' '.' '.' '#' '.' '.'\n",
      "  '.' '#' '.' '.']\n",
      " ['.' '#' '.' '.' '.' '.' '#' '.' '.' '#' '.' '.' '#' '.' '.' '.' '.' '#'\n",
      "  '.' '.' '#' '.']\n",
      " ['.' '.' '#' '.' '#' '.' '.' '.' '#' '.' '#' '.' '.' '#' '.' '#' '.' '.'\n",
      "  '.' '#' '.' '#']\n",
      " ['.' '#' '.' '.' '.' '#' '#' '.' '.' '#' '.' '.' '#' '.' '.' '.' '#' '#'\n",
      "  '.' '.' '#' '.']\n",
      " ['.' '.' '#' '.' '#' '#' '.' '.' '.' '.' '.' '.' '.' '#' '.' '#' '#' '.'\n",
      "  '.' '.' '.' '.']\n",
      " ['.' '#' '.' '#' '.' '#' '.' '.' '.' '.' '#' '.' '#' '.' '#' '.' '#' '.'\n",
      "  '.' '.' '.' '#']\n",
      " ['.' '#' '.' '.' '.' '.' '.' '.' '.' '.' '#' '.' '#' '.' '.' '.' '.' '.'\n",
      "  '.' '.' '.' '#']\n",
      " ['#' '.' '#' '#' '.' '.' '.' '#' '.' '.' '.' '#' '.' '#' '#' '.' '.' '.'\n",
      "  '#' '.' '.' '.']\n",
      " ['#' '.' '.' '.' '#' '#' '.' '.' '.' '.' '#' '#' '.' '.' '.' '#' '#' '.'\n",
      "  '.' '.' '.' '#']\n",
      " ['.' '#' '.' '.' '#' '.' '.' '.' '#' '.' '#' '.' '#' '.' '.' '#' '.' '.'\n",
      "  '.' '#' '.' '#']]\n"
     ]
    }
   ],
   "source": [
    "#print(np.hstack((np.matrix(Lines), np.matrix(Lines))))\n",
    "lines_m = np.hstack((np.matrix(Lines), np.matrix(Lines)))\n",
    "print(len(lines_m),len(lines_m[0][0]),lines_m[1][0][0][0])\n",
    "print(lines_m)"
   ]
  },
  {
   "cell_type": "code",
   "execution_count": null,
   "metadata": {},
   "outputs": [],
   "source": []
  }
 ],
 "metadata": {
  "interpreter": {
   "hash": "bf8782ad878a65491fc6c9a2885f80b229bd085d21d8e07fc5ecd6e3b336a5da"
  },
  "kernelspec": {
   "display_name": "Python 3.8.8 64-bit",
   "language": "python",
   "name": "python3"
  },
  "language_info": {
   "codemirror_mode": {
    "name": "ipython",
    "version": 3
   },
   "file_extension": ".py",
   "mimetype": "text/x-python",
   "name": "python",
   "nbconvert_exporter": "python",
   "pygments_lexer": "ipython3",
   "version": "3.8.8"
  },
  "orig_nbformat": 4
 },
 "nbformat": 4,
 "nbformat_minor": 2
}
