{
 "cells": [
  {
   "cell_type": "code",
   "execution_count": 1,
   "metadata": {},
   "outputs": [],
   "source": [
    "import re\n",
    "import numpy as np\n",
    "import pandas as pd \n",
    "import itertools"
   ]
  },
  {
   "cell_type": "code",
   "execution_count": 80,
   "metadata": {},
   "outputs": [
    {
     "name": "stdout",
     "output_type": "stream",
     "text": [
      "454\n"
     ]
    }
   ],
   "source": [
    "file1 = open('2020-02-ex', 'r')\n",
    "file1 = open('2020-02', 'r')\n",
    "Lines = file1.readlines()\n",
    "Lines = [(x.replace('\\n','').split(':')[0].split(' '),x.replace('\\n','').split(':')[1]) for x in Lines]\n",
    "#print(Lines)\n",
    "r = 0\n",
    "for l in Lines:\n",
    "    low = l[0][0].split('-')[0]\n",
    "    upper = l[0][0].split('-')[1]\n",
    "    regEx_l = l[0][1]+'{'+low+'}'\n",
    "    regEx_u = l[0][1]+'{'+str(int(upper)+1)+'}'\n",
    "\n",
    "    if l[1].count(l[0][1]) in range(int(low),int(upper)+1):\n",
    "        #print(l,re.findall(regEx_l,l[1]),re.findall(regEx_u,l[1]))\n",
    "        r +=1\n",
    "    #else:\n",
    "    #    print(l,re.findall(regEx_l,l[1]),re.findall(regEx_u,l[1]))\n",
    "\n",
    "\n",
    "\n",
    "print(r)"
   ]
  },
  {
   "cell_type": "code",
   "execution_count": 77,
   "metadata": {},
   "outputs": [],
   "source": [
    "def xor(x, y):\n",
    "    return bool((x and not y) or (not x and y))"
   ]
  },
  {
   "cell_type": "code",
   "execution_count": 81,
   "metadata": {},
   "outputs": [
    {
     "name": "stdout",
     "output_type": "stream",
     "text": [
      "649\n"
     ]
    }
   ],
   "source": [
    "r = 0\n",
    "for l in Lines:\n",
    "    low = l[0][0].split('-')[0]\n",
    "    upper = l[0][0].split('-')[1]\n",
    "    regEx_l = l[0][1]+'{'+low+'}'\n",
    "    regEx_u = l[0][1]+'{'+str(int(upper)+1)+'}'\n",
    "\n",
    "    if xor(l[1].strip()[int(low)-1] == l[0][1], l[1].strip()[int(upper)-1] == l[0][1]):\n",
    "        #print(l)\n",
    "        r += 1\n",
    "print(r)\n"
   ]
  },
  {
   "cell_type": "code",
   "execution_count": null,
   "metadata": {},
   "outputs": [],
   "source": [
    "# false = 826\n",
    "# false = 697\n",
    "# false = 694\n",
    "\n",
    "\n",
    "l = (['1-13', 'j'], ' qjjjjjjjjjjjdj')\n",
    "low = l[0][0].split('-')[0]\n",
    "upper = l[0][0].split('-')[1]\n",
    "print(l[0][1])\n",
    "print(l[1].strip()[int(low)-1],l[1].strip()[int(upper)-1])\n",
    "# == l[0][1] or l[1][int(upper)-1] == l[0][1]:\n",
    "#    r += 1\n",
    "#else:\n",
    "#    print(l)"
   ]
  }
 ],
 "metadata": {
  "interpreter": {
   "hash": "bf8782ad878a65491fc6c9a2885f80b229bd085d21d8e07fc5ecd6e3b336a5da"
  },
  "kernelspec": {
   "display_name": "Python 3.8.8 64-bit",
   "language": "python",
   "name": "python3"
  },
  "language_info": {
   "codemirror_mode": {
    "name": "ipython",
    "version": 3
   },
   "file_extension": ".py",
   "mimetype": "text/x-python",
   "name": "python",
   "nbconvert_exporter": "python",
   "pygments_lexer": "ipython3",
   "version": "3.8.8"
  },
  "orig_nbformat": 4
 },
 "nbformat": 4,
 "nbformat_minor": 2
}
