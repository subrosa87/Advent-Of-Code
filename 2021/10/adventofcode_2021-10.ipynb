{
 "cells": [
  {
   "cell_type": "code",
   "execution_count": 1,
   "metadata": {},
   "outputs": [],
   "source": [
    "import re\n",
    "import numpy as np\n",
    "import pandas as pd \n",
    "import itertools\n",
    "#import plotly.express as px"
   ]
  },
  {
   "cell_type": "code",
   "execution_count": 48,
   "metadata": {},
   "outputs": [],
   "source": [
    "file1 = open('input.txt', 'r')\n",
    "Lines = file1.readlines()\n",
    "Lines = [x.replace('\\n','') for x in Lines]"
   ]
  },
  {
   "cell_type": "code",
   "execution_count": 3,
   "metadata": {},
   "outputs": [],
   "source": [
    "char_arr = ['(',')','[',']','{','}','<','>']\n",
    "open_c = ['(','[','{','<']\n",
    "close_c = [')',']','}','>']\n",
    "invalid = ['\\(\\]', '\\(\\}', '\\(>', '\\[\\)', '\\[\\}', '\\[>', '\\{\\)', '\\{\\]', '\\{>', '<\\)', '<\\]', '<\\}']\n",
    "invalid = '\\(\\]|\\(\\}|\\(>|\\[\\)|\\[\\}|\\[>|\\{\\)|\\{\\]|\\{>|<\\)|<\\]|<\\}'\n",
    "score = [3,57,1197,25137]\n",
    "score_2 = [1,2,3,4]"
   ]
  },
  {
   "cell_type": "code",
   "execution_count": 4,
   "metadata": {},
   "outputs": [],
   "source": [
    "def procString(str):\n",
    "    for k in range(0,len(open_c)):\n",
    "        str = str.replace(open_c[k]+close_c[k],'')\n",
    "    return str"
   ]
  },
  {
   "cell_type": "code",
   "execution_count": 5,
   "metadata": {},
   "outputs": [],
   "source": [
    "def inval(word):\n",
    "    for ele in invalid:\n",
    "        if len(re.findall(ele,word)) > 0:\n",
    "            match = re.findall(ele,word)\n",
    "            helpr = match[0]\n",
    "            for o in range(0,len(open_c)):\n",
    "                #print(open_c[o],helpr,helpr.replace(open_c[o],''))\n",
    "                helpr = helpr.replace(open_c[o],'')\n",
    "            return (match[0],helpr,score[close_c.index(helpr)])     \n",
    "def getScore(str):\n",
    "    r = 0\n",
    "    for i in range(0,len(str)):\n",
    "        r *= 5\n",
    "        r += (close_c.index(str[i])+1)\n",
    "    return r             "
   ]
  },
  {
   "cell_type": "code",
   "execution_count": 6,
   "metadata": {},
   "outputs": [
    {
     "name": "stdout",
     "output_type": "stream",
     "text": [
      "316851\n"
     ]
    }
   ],
   "source": [
    "result = []\n",
    "for line in Lines:\n",
    "    len_str = len(line)\n",
    "    line_old = line\n",
    "    len_str_prev = 9999999\n",
    "    while len_str_prev > len_str:\n",
    "        len_str_prev = len_str\n",
    "        line = procString(line)\n",
    "        len_str = len(line)\n",
    "\n",
    "    r = inval(line)\n",
    "    if not r == None:\n",
    "        result.append((inval(line),line_old))\n",
    "\n",
    "finalResult_a = 0\n",
    "for ele in result: \n",
    "    finalResult_a += ele[0][2]\n",
    "    #print(ele[1])\n",
    "    Lines.remove(ele[1])\n",
    "print(finalResult_a)        "
   ]
  },
  {
   "cell_type": "code",
   "execution_count": 7,
   "metadata": {},
   "outputs": [
    {
     "name": "stdout",
     "output_type": "stream",
     "text": [
      "<{({(([[<<({[<\n",
      "{<[<((<<({<\n",
      "<{[[{<[[{(<<([\n",
      "<{{[(<[<<[(<{\n",
      "{({<[<([[<<{({\n",
      "{<([[{<{{[{<<({\n",
      "<{[[([<<({(\n",
      "(<{<{[[({(((<{\n",
      "{(({{[[{<[{{[{\n",
      "[([{{[<([{(<<(\n",
      "{([<(<[(({{{[(\n",
      "<[<[<{[{<[[{{{<\n",
      "(({[[<<[\n",
      "(<(({{(([(<\n",
      "(<[<<(<[[[[<<{\n",
      "{[((<([<[{<[[({\n",
      "(({<[[{[([((\n",
      "[<([[[<[\n",
      "<{[<<[[<{[{{<\n",
      "[[([[{[[(({(\n",
      "([((<(<[([<{(<\n",
      "[(<[([[({[({<[\n",
      "([(<<[<{<<<<(\n",
      "[(<{((<([(<(<(\n",
      "((({([(<<<[({\n",
      "{<(({[<<<{<{<<[\n",
      "<<[((<<[{{([[\n",
      "{<<{<<{<({<{[[\n",
      "({{{{<([[({([\n",
      "({<{[[{({{[(<{(\n",
      "[{<<<[(<(<<<\n",
      "{{(([[([([{{{(\n",
      "([(<{[[{<{<<<{(\n",
      "([[{[{[{[((<((\n",
      "(({<({<{{<[{[{\n",
      "([[(<{[[\n",
      "(({{<<[{([([(\n",
      "((<<([[<{[{{[(\n",
      "<{(((([<[{(({(\n",
      "<{{<<{(<({[{(({\n",
      "<[{({[({[(<<<<\n",
      "[((([<(({({<(\n",
      "{({((<<{\n",
      "[([[[{[((({[<{<\n",
      "<{{({{{[<{{([[\n",
      "[[([[{[({[<([{<\n",
      "{((<(<({{(<[(\n",
      "<[<{<((({[{<{(\n",
      "(([{([{[<([((\n",
      "({(<{{({[[{<{[\n",
      "(<[{{(([<[{<({\n",
      "(({[[({{{[[{(<{\n",
      "<[({{[<[{({<((\n",
      "2182912364\n"
     ]
    }
   ],
   "source": [
    "result_b = []\n",
    "for line in Lines:\n",
    "    s = line \n",
    "    s_old = s\n",
    "    l_prev = 999999\n",
    "    r = ''\n",
    "    while l_prev > len(s):\n",
    "        l_prev = len(s)\n",
    "        s = procString(s)\n",
    "\n",
    "    print(s)\n",
    "    for i in range(0,len(s)):\n",
    "        r = close_c[open_c.index(s[i])] + r \n",
    "    result_b.append(getScore(r))\n",
    "middleIndex = (len(result_b) - 1)/2  \n",
    "result_b = sorted(result_b)  \n",
    "print(result_b[int(middleIndex)])\n",
    "    "
   ]
  },
  {
   "cell_type": "code",
   "execution_count": 29,
   "metadata": {},
   "outputs": [
    {
     "name": "stdout",
     "output_type": "stream",
     "text": [
      "9"
     ]
    }
   ],
   "source": [
    "import sys \n",
    "import time\n",
    "for x in range(10):\n",
    "    sys.stdout.write('\\r'+str(x))\n",
    "    time.sleep(1)\n",
    "    sys.stdout.flush()"
   ]
  },
  {
   "cell_type": "code",
   "execution_count": 1,
   "metadata": {},
   "outputs": [],
   "source": [
    "import re"
   ]
  },
  {
   "cell_type": "code",
   "execution_count": 12,
   "metadata": {},
   "outputs": [
    {
     "name": "stdout",
     "output_type": "stream",
     "text": []
    }
   ],
   "source": [
    "for x in range(10):\n",
    "    print(\"Progress {:2.1%}\".format(x / 10), end=\"\\r\")"
   ]
  },
  {
   "cell_type": "code",
   "execution_count": 52,
   "metadata": {},
   "outputs": [],
   "source": [
    "file1 = open('input_ex.txt', 'r')\n",
    "Lines = file1.readlines()\n",
    "Lines = [x.replace('\\n','') for x in Lines]"
   ]
  },
  {
   "cell_type": "code",
   "execution_count": 27,
   "metadata": {},
   "outputs": [],
   "source": [
    "import sys"
   ]
  },
  {
   "cell_type": "code",
   "execution_count": 90,
   "metadata": {},
   "outputs": [
    {
     "name": "stdout",
     "output_type": "stream",
     "text": [
      "<{({(([[<<({[<                                                                  0\tvalid? False\n",
      "{<[<((<<({<                                                                     0\tvalid? False\n",
      "<{[[{<[[{(<<([                                                                  0\tvalid? False\n",
      "<[[<[([({[>[{[[{{                                                               25137\tvalid? True\n",
      "[((<{((([[<<<[]{}>>(([])<()>)>([[[][>]<{}[]>])]]<{[<[                           25137\tvalid? True\n",
      "([{([[[{(<({<[]>{()}})<(<(>>([]))<[(){}]((){})>>>)}{                            25137\tvalid? True\n",
      "<{{[(<[<<[(<{                                                                   0\tvalid? False\n",
      "{({<[<([[<<{({                                                                  0\tvalid? False\n",
      "{[(((((<{[({<{}()>{{}}}(<[]{}>({})))[<[[](>]({                                  25137\tvalid? True\n",
      "(([((<{<[((<{{}{}}><<[]>([])>)[[{{}}[[](>]](<[                                  25137\tvalid? True\n",
      "{<([[{<{{[{<<({                                                                 0\tvalid? False\n",
      "<{[[([<<({(                                                                     0\tvalid? False\n",
      "(<{<{[[({(((<{                                                                  0\tvalid? False\n",
      "{(({{[[{<[{{[{                                                                  0\tvalid? False\n",
      "(([<(([({{<{[]}{[}[]}>(({}){[<{                                                 1197\tvalid? True\n",
      "[[{{(<<[[[[<<()>[()()]>]<<<{}>[[]]>[([]<))<[]{                                  3\tvalid? True\n",
      "{[{(((([<[{([(){}][[)])[({})({}[])]}(<({})({                                    3\tvalid? True\n",
      "<<([(([{<{]({({{                                                                57\tvalid? True\n",
      "[{((<{<[[<[{[{}]{[][]}}[<()>((){})]]<{(<]){[]()}}({{                            57\tvalid? True\n",
      "<[<{(<[[<(((<]){{}})[([]{})[[{                                                  57\tvalid? True\n",
      "[([{{[<([{(<<(                                                                  0\tvalid? False\n",
      "<<[[([([(<(<<[]<]><{}[]>>)>[<<({})[{}]><({}())((                                57\tvalid? True\n",
      "<({<{(<[({([[]()](())){({})<<}>}}((([[<                                         1197\tvalid? True\n",
      "{([<(<[(({{{[(                                                                  0\tvalid? False\n",
      "<[<[<{[{<[[{{{<                                                                 0\tvalid? False\n",
      "(({[[<<[                                                                        0\tvalid? False\n",
      "<((<([[({(<{[[]]}>({<[]()>(()())}<{[]{}}((])>))}<{[<[(                          57\tvalid? True\n",
      "{({{{[[{{[{(())[[]]}[(<)())                                                     3\tvalid? True\n",
      "[[(({[{(<({[{{}}<()>]<((){])((){})>}([[()[]][{}]]{([[                           57\tvalid? True\n",
      "[[{<[([<[((<()()>[(){}])<({))>)([<<(                                            3\tvalid? True\n",
      "<<({{{<{[<{<{[]}[{}]>[[[][]]{(}()}]}><[[({}{}){()[<                             1197\tvalid? True\n",
      "{{(({[[[{<[<()(}>]>}([<{[]}()>((([                                              1197\tvalid? True\n",
      "(<(({{(([(<                                                                     0\tvalid? False\n",
      "((([<([([{{}(}}]<{[[<                                                           1197\tvalid? True\n",
      "{{(<[<[<[<>]>[{{[>[[<{                                                          25137\tvalid? True\n",
      "<[{[[([[{[(<[{}][{}<]]>(([][]){[]()}))[[<[]>[()()]]<([                          57\tvalid? True\n",
      "({<<<{<({{{{{}[)}(())}{(())((                                                   3\tvalid? True\n",
      "([<({[{({(<<{}{}>>)<<{[]}<()>>{<<)<{<                                           3\tvalid? True\n",
      "(<[<<(<[[[[<<{                                                                  0\tvalid? False\n",
      "(({[[(([<(([))[<<{(                                                             3\tvalid? True\n",
      "{[((<([<[{<[[({                                                                 0\tvalid? False\n",
      "{{<{({{({[<(((){}){{}})>(<{}>[[{>{}]{()}])]}(<{[{{}{[                           25137\tvalid? True\n",
      "(({<[[{[([((                                                                    0\tvalid? False\n",
      "[<([[[<[                                                                        0\tvalid? False\n",
      "<{[<<[[<{[{{<                                                                   0\tvalid? False\n",
      "[[([[{[[(({(                                                                    0\tvalid? False\n",
      "{(<<[[{[{{(<()>[{]()])}[[{()}([<                                                57\tvalid? True\n",
      "([((<(<[([<{(<                                                                  0\tvalid? False\n",
      "[(<[([[({[({<[                                                                  0\tvalid? False\n",
      "([(<<[<{<<<<(                                                                   0\tvalid? False\n",
      "[(<{((<([(<(<(                                                                  0\tvalid? False\n",
      "((({([(<<<[({                                                                   0\tvalid? False\n",
      "{<(({[<<<{<{<<[                                                                 0\tvalid? False\n",
      "[{<(<<<((<<<{[]{}}>[[[]]<()[]>]>{[[[][]]]({(}{}})}>){({                         1197\tvalid? True\n",
      "<<[((<<[{{([[                                                                   0\tvalid? False\n",
      "{<<{<<{<({<{[[                                                                  0\tvalid? False\n",
      "{<<[{((([<([[][{}]]{<[][]>[{>{}]}){[([])[[][]                                   25137\tvalid? True\n",
      "({{{{<([[({([                                                                   0\tvalid? False\n",
      "({<{[[{({{[(<{(                                                                 0\tvalid? False\n",
      "[{<<<[(<(<<<                                                                    0\tvalid? False\n",
      "{{(([[([([{{{(                                                                  0\tvalid? False\n",
      "([(<{[[{<{<<<{(                                                                 0\tvalid? False\n",
      "([[{[{[{[((<((                                                                  0\tvalid? False\n",
      "(({<({<{{<[{[{                                                                  0\tvalid? False\n",
      "([[(<{[[                                                                        0\tvalid? False\n",
      "{{(<[{[([<<<[()]<()[]>>({}<>)>>(((({}[]))<[{)]                                  3\tvalid? True\n",
      "(({{<<[{([([(                                                                   0\tvalid? False\n",
      "((<<([[<{[{{[(                                                                  0\tvalid? False\n",
      "<{(((([<[{(({(                                                                  0\tvalid? False\n",
      "<{{<<{(<({[{(({                                                                 0\tvalid? False\n",
      "[([[(({([{{(]}}{[]{<{[(                                                         57\tvalid? True\n",
      "[{[{[([<<}{(<<<(                                                                1197\tvalid? True\n",
      "<[{({[({[(<<<<                                                                  0\tvalid? False\n",
      "[((([<(({({<(                                                                   0\tvalid? False\n",
      "{({((<<{                                                                        0\tvalid? False\n",
      "<{<[<(<{<[({{{}}{[][]}}[({}{})[[]{}]])({{<)()}})](<<[[]](                       3\tvalid? True\n",
      "[([[[{[((({[<{<                                                                 0\tvalid? False\n",
      "<{{({{{[<{{([[                                                                  0\tvalid? False\n",
      "[[([[{[({[<([{<                                                                 0\tvalid? False\n",
      "{(<<(((<((((<)[]){[][]})))<[{{[]}}(                                             3\tvalid? True\n",
      "{[(<{[<{{({[{[]()}{()()}]}({<()>(())}[<}[{}{}]])){[({(                          1197\tvalid? True\n",
      "<([{[(<(<<([(())]<{()(]}{[]()}>)<[[]{{}}](({}[[                                 57\tvalid? True\n",
      "<[<[<{{{[{((<(){)><[]()>))({[[]{}]({}())})}]}([{((({}[<                         3\tvalid? True\n",
      "[{([({[<(<{[){}}<{}{<(                                                          3\tvalid? True\n",
      "{((<(<({{(<[(                                                                   0\tvalid? False\n",
      "{<<([<(<{[[{{}{]}{{}}](<{}>)]<[{{}<(                                            57\tvalid? True\n",
      "[[{{{<{[{({<><{}>}((<]{})[([(                                                   57\tvalid? True\n",
      "[[{<<{{[(([[[][]]({})][({}){<]}]))<<                                            57\tvalid? True\n",
      "[(({[<<{<({<([])[{>{}]>(()[{}()])})<{{([])([]{}                                 25137\tvalid? True\n",
      "[([(({(<[<[<(()[]){[](>}>]>]>)}[(({(<<[{}[]]>[<(){}>[[][]]]>)                   25137\tvalid? True\n",
      "{<{{<({<{((<{()}((){})>))}((<{((){})[[]]}(([]()))><{{{}(}}((                    1197\tvalid? True\n",
      "<[<{<((({[{<{(                                                                  0\tvalid? False\n",
      "(([{([{[<([((                                                                   0\tvalid? False\n",
      "{<(<<{<[{<{<<){}>({})}>[<([])({})>]}{<<[(                                       3\tvalid? True\n",
      "<{([({{{<{[{}]}(<{}(}>)>([{<(                                                   1197\tvalid? True\n",
      "((([{)]{{{{[[{[[[{                                                              3\tvalid? True\n",
      "({(<{{({[[{<{[                                                                  0\tvalid? False\n",
      "(<[{{(([<[{<({                                                                  0\tvalid? False\n",
      "(<<{{{((<{({>([]))(({}[]){<[                                                    25137\tvalid? True\n",
      "<[(((<({([({{[]{}}([])}[[{}]([])]){[((){}){[){[                                 3\tvalid? True\n",
      "(({[[({{{[[{(<{                                                                 0\tvalid? False\n",
      "<[({{[<[{({<((                                                                  0\tvalid? False\n",
      "[{[{<{{[<<[[<>][{{}()}]]([{()}{{}}]{{{}()}})><({{}}){<{{>}>[<                   25137\tvalid? True\n",
      "{{({([<({(<[({})]>[(((){]))[<()()>{{}}]]){{[<()>()]([<                          57\tvalid? True\n",
      "[({[<(<<[{<({})({}[})><[()()]>}<{(<((                                           1197\tvalid? True\n",
      "[<{{{<<(<[[{<(){}>}{<[]{}><{}>}]<<{()[]}><((){})[()(}]>>](                      1197\tvalid? True\n",
      "                      sum: 316851\t\n"
     ]
    }
   ],
   "source": [
    "file1 = open('input.txt', 'r')\n",
    "Lines = file1.readlines()\n",
    "Lines = [x.replace('\\n','') for x in Lines]\n",
    "\n",
    "\n",
    "invalid = '\\(\\]|\\(\\}|\\(>|\\[\\)|\\[\\}|\\[>|\\{\\)|\\{\\]|\\{>|<\\)|<\\]|<\\}'\n",
    "l = '{([(<{}[<>[]}>{[]{[(<()>'\n",
    "score = {')':3,']':57,'}':1197,'>':25137}\n",
    "#\n",
    "#       ): 3 points.\n",
    "#       ]: 57 points.\n",
    "#       }: 1197 points.\n",
    "#       >: 25137 points.\n",
    "#\n",
    "r_2 = 0\n",
    "incomplete = []\n",
    "for l in Lines:\n",
    "    r = 0\n",
    "    while len(re.findall('\\(\\)|\\[\\]|\\{\\}|<>',l)) > 0:\n",
    "        l = re.sub('\\(\\)|\\[\\]|\\{\\}|<>','',l).replace('<>','')\n",
    "        sys.stdout.write('\\r'+l)\n",
    "        if len(re.findall(invalid,l)) > 0:\n",
    "            r = score[re.findall(invalid,l)[0][-1]]\n",
    "            if r == 0:\n",
    "                incomplete.append(l)\n",
    "            break\n",
    "        time.sleep(0.1)\n",
    "    sys.stdout.write((80-len(l))*' '+str(r)+'\\t'+'valid? '+str(r>0)+'\\n')\n",
    "    r_2 += r\n",
    "sys.stdout.write((80-len(l))*' ' + 'sum: '+str(r_2)+'\\t'+'\\n')"
   ]
  },
  {
   "cell_type": "code",
   "execution_count": 85,
   "metadata": {},
   "outputs": [],
   "source": []
  },
  {
   "cell_type": "code",
   "execution_count": 17,
   "metadata": {},
   "outputs": [
    {
     "data": {
      "text/plain": [
       "['<>']"
      ]
     },
     "execution_count": 17,
     "metadata": {},
     "output_type": "execute_result"
    }
   ],
   "source": [
    "re.findall('\\(\\)|\\[\\]|\\{\\}|<>','[({(<>[[{{')"
   ]
  },
  {
   "cell_type": "code",
   "execution_count": 18,
   "metadata": {},
   "outputs": [
    {
     "name": "stdout",
     "output_type": "stream",
     "text": [
      "[({([[{{\n"
     ]
    }
   ],
   "source": [
    "print(re.sub('\\(\\)|\\[\\]|\\{\\}|<>','','[({(<>[[{{'))"
   ]
  },
  {
   "cell_type": "code",
   "execution_count": null,
   "metadata": {},
   "outputs": [],
   "source": []
  }
 ],
 "metadata": {
  "interpreter": {
   "hash": "bf8782ad878a65491fc6c9a2885f80b229bd085d21d8e07fc5ecd6e3b336a5da"
  },
  "kernelspec": {
   "display_name": "Python 3.8.8 64-bit",
   "language": "python",
   "name": "python3"
  },
  "language_info": {
   "codemirror_mode": {
    "name": "ipython",
    "version": 3
   },
   "file_extension": ".py",
   "mimetype": "text/x-python",
   "name": "python",
   "nbconvert_exporter": "python",
   "pygments_lexer": "ipython3",
   "version": "3.8.8"
  },
  "orig_nbformat": 4
 },
 "nbformat": 4,
 "nbformat_minor": 2
}
