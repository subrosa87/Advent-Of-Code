{
 "cells": [
  {
   "cell_type": "code",
   "execution_count": 1,
   "metadata": {},
   "outputs": [],
   "source": [
    "import pandas as pd\n",
    "import re\n",
    "import matplotlib.pyplot as plt\n",
    "import numpy as np\n",
    "import random\n",
    "from collections import Counter\n",
    "import itertools\n",
    "import copy\n",
    "import networkx as nx\n",
    "import binascii"
   ]
  },
  {
   "cell_type": "code",
   "execution_count": 2,
   "metadata": {},
   "outputs": [],
   "source": [
    "def split(word):\n",
    "    return [char for char in word]"
   ]
  },
  {
   "cell_type": "code",
   "execution_count": 3,
   "metadata": {},
   "outputs": [
    {
     "name": "stdout",
     "output_type": "stream",
     "text": [
      "['target area: x=20..30, y=-10..-5']\n"
     ]
    }
   ],
   "source": [
    "# Using readlines()\n",
    "file1 = open('aoc-17', 'r')\n",
    "file1 = open('aoc-17-ex', 'r')\n",
    "Lines = file1.readlines()\n",
    "print(Lines)"
   ]
  },
  {
   "cell_type": "code",
   "execution_count": 4,
   "metadata": {},
   "outputs": [],
   "source": [
    "result17b = [(23,-10),\n",
    "(25,-9),\n",
    "(27,-5),\n",
    "(29,-6),\n",
    "(22,-6),\n",
    "(21,-7),\n",
    "(9,0),\n",
    "(27,-7),\n",
    "(24,-5),\n",
    "(25,-7),\n",
    "(26,-6),\n",
    "(25,-5),\n",
    "(6,8),\n",
    "(11,-2),\n",
    "(20,-5),\n",
    "(29,-10),\n",
    "(6,3),\n",
    "(28,-7),\n",
    "(8,0),\n",
    "(30,-6),\n",
    "(29,-8),\n",
    "(20,-10),\n",
    "(6,7),\n",
    "(6,4),\n",
    "(6,1),\n",
    "(14,-4),\n",
    "(21,-6),\n",
    "(26,-10),\n",
    "(7,-1),\n",
    "(7,7),\n",
    "(8,-1),\n",
    "(21,-9),\n",
    "(6,2),\n",
    "(20,-7),\n",
    "(30,-10),\n",
    "(14,-3),\n",
    "(20,-8),\n",
    "(13,-2),\n",
    "(7,3),\n",
    "(28,-8),\n",
    "(29,-9),\n",
    "(15,-3),\n",
    "(22,-5),\n",
    "(26,-8),\n",
    "(25,-8),\n",
    "(25,-6),\n",
    "(15,-4),\n",
    "(9,-2),\n",
    "(15,-2),\n",
    "(12,-2),\n",
    "(28,-9),\n",
    "(12,-3),\n",
    "(24,-6),\n",
    "(23,-7),\n",
    "(25,-10),\n",
    "(7,8),\n",
    "(11,-3),\n",
    "(26,-7),\n",
    "(7,1),\n",
    "(23,-9),\n",
    "(6,0),\n",
    "(22,-10),\n",
    "(27,-6),\n",
    "(8,1),\n",
    "(22,-8),\n",
    "(13,-4),\n",
    "(7,6),\n",
    "(28,-6),\n",
    "(11,-4),\n",
    "(12,-4),\n",
    "(26,-9),\n",
    "(7,4),\n",
    "(24,-10),\n",
    "(23,-8),\n",
    "(30,-8),\n",
    "(7,0),\n",
    "(9,-1),\n",
    "(10,-1),\n",
    "(26,-5),\n",
    "(22,-9),\n",
    "(6,5),\n",
    "(7,5),\n",
    "(23,-6),\n",
    "(28,-10),\n",
    "(10,-2),\n",
    "(11,-1),\n",
    "(20,-9),\n",
    "(14,-2),\n",
    "(29,-7),\n",
    "(13,-3),\n",
    "(23,-5),\n",
    "(24,-8),\n",
    "(27,-9),\n",
    "(30,-7),\n",
    "(28,-5),\n",
    "(21,-10),\n",
    "(7,9),\n",
    "(6,6),\n",
    "(21,-5),\n",
    "(27,-10),\n",
    "(7,2),\n",
    "(30,-9),\n",
    "(21,-8),\n",
    "(22,-7),\n",
    "(24,-9),\n",
    "(20,-6),\n",
    "(6,9),\n",
    "(29,-5),\n",
    "(8,-2),\n",
    "(27,-8),\n",
    "(30,-5),\n",
    "(24,-7)]"
   ]
  },
  {
   "cell_type": "code",
   "execution_count": 34,
   "metadata": {},
   "outputs": [
    {
     "name": "stdout",
     "output_type": "stream",
     "text": [
      "[0, 0]\n"
     ]
    }
   ],
   "source": [
    "probeStart = [0,0]\n",
    "#target area: x=14..50, y=-267..-225\n",
    "targetAera = [[20,31],[-10,-4]] # plus / minus one every direction\n",
    "targetAera = [[14,51],[-267,-224]] # plus / minus one every direction\n",
    "velocity  = [6,3]\n",
    "velocity  = [6,9]\n",
    "velocity  = [7,2]\n",
    "velocity  = [9,0]\n",
    "velocity  = [17,-4]\n",
    "#\n",
    "#steps:\n",
    "def takeStep(position,velocity):\n",
    "    position[0] += velocity[0]\n",
    "    position[1] += velocity[1] \n",
    "    if velocity[0] > 0:\n",
    "        velocity[0] -= 1 \n",
    "    if velocity[0] < 0:\n",
    "        velocity[0] += 1\n",
    "    velocity[1] -= 1 \n",
    "    return (position ,velocity) \n",
    "print(probeStart)\n",
    "\n",
    "def launchProbe(velocity,targetAera):\n",
    "    probeStart = [0,0]\n",
    "    probe_y_max = -99999\n",
    "    for i in range(1500):\n",
    "        probeStart,velocity = takeStep(probeStart,velocity)\n",
    "        #print(i,'probe in target Area',probeStart, velocity,probe_y_max)\n",
    "        if probeStart[1] > probe_y_max:\n",
    "            probe_y_max = probeStart[1]\n",
    "    \n",
    "        if probeStart[0] in range(targetAera[0][0],targetAera[0][1]) and probeStart[1] in range(targetAera[1][0],targetAera[1][1]):\n",
    "            return (i,velocity,probe_y_max,probeStart)\n",
    "\n",
    "        if probeStart[0] > targetAera[0][1]*2 or probeStart[1] < targetAera[1][1]+targetAera[1][1]:\n",
    "            break\n",
    "\n",
    "    return (-1,velocity,probe_y_max,probeStart)"
   ]
  },
  {
   "cell_type": "code",
   "execution_count": 35,
   "metadata": {},
   "outputs": [
    {
     "name": "stdout",
     "output_type": "stream",
     "text": [
      "3282\n"
     ]
    }
   ],
   "source": [
    "r = []\n",
    "r_2 = []\n",
    "#target area: x=20..30, y=-10..-5\n",
    "#target area: x=14..50, y=-267..-225\n",
    "for x in range(-300,300):\n",
    "    for y in range(-300,300):\n",
    "        i,velocity,probe_y_max,probeStart = launchProbe([x,y],targetAera)\n",
    "        if i != -1:\n",
    "            #print(i,x,y,velocity,probe_y_max)\n",
    "            r.append(probe_y_max)\n",
    "            r_2.append((i,x,y,velocity,probe_y_max,probeStart))\n",
    "#\n",
    "#print(r_2[r.index(max(r))],max(r))\n",
    "print(len(r_2))\n",
    "#2827 false\n",
    "# 3067 too low "
   ]
  },
  {
   "cell_type": "code",
   "execution_count": 18,
   "metadata": {},
   "outputs": [
    {
     "data": {
      "text/plain": [
       "(-1, [4, -4], -1, [18, -6])"
      ]
     },
     "execution_count": 18,
     "metadata": {},
     "output_type": "execute_result"
    }
   ],
   "source": [
    "launchProbe([7,-1],targetAera)"
   ]
  },
  {
   "cell_type": "code",
   "execution_count": null,
   "metadata": {},
   "outputs": [],
   "source": [
    "probeStart = [22,-10]"
   ]
  },
  {
   "cell_type": "code",
   "execution_count": null,
   "metadata": {},
   "outputs": [],
   "source": [
    "probeStart[0] in range(targetAera[0][0],targetAera[0][1])"
   ]
  },
  {
   "cell_type": "code",
   "execution_count": null,
   "metadata": {},
   "outputs": [],
   "source": [
    "probeStart[0] in range(targetAera[0][0],targetAera[0][1])"
   ]
  },
  {
   "cell_type": "code",
   "execution_count": 8,
   "metadata": {},
   "outputs": [],
   "source": []
  },
  {
   "cell_type": "code",
   "execution_count": 17,
   "metadata": {},
   "outputs": [
    {
     "name": "stdout",
     "output_type": "stream",
     "text": [
      "(7, -1) False\n",
      "(9, -2) False\n",
      "(6, 0) False\n",
      "(10, -2) False\n",
      "(8, -2) False\n"
     ]
    }
   ],
   "source": [
    "result17buwe = [(x[1],x[2]) for x in r_2]\n",
    "for ele in result17b:\n",
    "    if not ele in result17buwe:\n",
    "        print(ele,ele in result17buwe)"
   ]
  },
  {
   "cell_type": "code",
   "execution_count": null,
   "metadata": {},
   "outputs": [],
   "source": []
  }
 ],
 "metadata": {
  "interpreter": {
   "hash": "f21f743cc6c41fc33e520d2d26f99532d48e5b1bbd397170bfb0442f3e446286"
  },
  "kernelspec": {
   "display_name": "Python 3.9.1 64-bit",
   "name": "python3"
  },
  "language_info": {
   "codemirror_mode": {
    "name": "ipython",
    "version": 3
   },
   "file_extension": ".py",
   "mimetype": "text/x-python",
   "name": "python",
   "nbconvert_exporter": "python",
   "pygments_lexer": "ipython3",
   "version": "3.8.1"
  },
  "orig_nbformat": 4
 },
 "nbformat": 4,
 "nbformat_minor": 2
}
