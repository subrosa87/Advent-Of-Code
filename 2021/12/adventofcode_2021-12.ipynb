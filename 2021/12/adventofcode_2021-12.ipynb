{
 "cells": [
  {
   "cell_type": "code",
   "execution_count": 2,
   "metadata": {},
   "outputs": [],
   "source": [
    "import re\n",
    "import numpy as np\n",
    "import pandas as pd \n",
    "import itertools\n",
    "from collections import defaultdict\n",
    "from collections import Counter\n",
    "import networkx as nx\n",
    "import matplotlib.pyplot as plt\n",
    "import sys"
   ]
  },
  {
   "cell_type": "code",
   "execution_count": 7,
   "metadata": {},
   "outputs": [
    {
     "name": "stdout",
     "output_type": "stream",
     "text": [
      "[['start', 'A'], ['start', 'b'], ['A', 'c'], ['A', 'b'], ['b', 'd'], ['A', 'end'], ['b', 'end']]\n",
      "-----\n",
      "{'c', 'd', 'b', 'start', 'end', 'A'}\n",
      "-----\n",
      "{'c': {'name': 'c', 'cnt': 0, 'routes': ['A']}, 'd': {'name': 'd', 'cnt': 0, 'routes': ['b']}, 'b': {'name': 'b', 'cnt': 0, 'routes': ['A', 'd', 'end']}, 'start': {'name': 'start', 'cnt': 0, 'routes': ['A', 'b']}, 'end': {'name': 'end', 'cnt': 0, 'routes': ['A', 'b']}, 'A': {'name': 'A', 'cnt': 0, 'routes': ['c', 'b', 'end']}}\n",
      "-----\n",
      "small: ['c', 'd', 'b']\n",
      "big: ['A']\n",
      "-----\n",
      "{'c': {'name': 'c', 'cnt': 0, 'routes': ['A']}, 'd': {'name': 'd', 'cnt': 0, 'routes': ['b']}, 'b': {'name': 'b', 'cnt': 0, 'routes': ['A', 'd', 'end']}, 'start': {'name': 'start', 'cnt': 0, 'routes': ['A', 'b']}, 'end': {'name': 'end', 'cnt': 0, 'routes': ['A', 'b']}, 'A': {'name': 'A', 'cnt': 0, 'routes': ['c', 'b', 'end']}}\n",
      "-----\n",
      "36\n"
     ]
    }
   ],
   "source": [
    "ex2_r = open('2020-12-ex2-r', 'r')\n",
    "file1 = open('2020-12-ex2', 'r')\n",
    "file1 = open('2020-12-ex', 'r')\n",
    "file1 = open('2020-12', 'r')\n",
    "Lines = file1.readlines()\n",
    "example2result = ex2_r.readlines()\n",
    "Lines = [(x.replace('\\n','').split('-')) for x in Lines]\n",
    "print(Lines)\n",
    "print('-----')\n",
    "points = set(np.array(Lines).flatten())\n",
    "print(points)\n",
    "\n",
    "p_2 = {}\n",
    "for ele in points: \n",
    "    p_2[ele] = {}\n",
    "    p_2[ele]['name'] = ele\n",
    "    p_2[ele]['cnt'] = 0\n",
    "    p_2[ele]['routes'] = []\n",
    "    for l in Lines: \n",
    "        if l[0] == ele :\n",
    "            p_2[ele]['routes'].append(l[1])\n",
    "        if l[1] == ele and not l[0] == 'start': \n",
    "            p_2[ele]['routes'].append(l[0])\n",
    "        #if not l[0].islower() and l[1].islower() and l[1] == ele:\n",
    "        #    p_2[ele]['routes'].append([l[1],l[0]])\n",
    "print('-----')\n",
    "print(p_2)\n",
    "print('-----')\n",
    "small = [x for x in p_2 if x.islower() and len(x) < 3]\n",
    "big = [x for x in p_2 if not x.islower() and len(x) < 3]\n",
    "print('small:',small)\n",
    "print('big:',big)\n",
    "#insert loops \n",
    "\n",
    "print('-----')\n",
    "print(p_2)\n",
    "print('-----')\n",
    "\n",
    "def takeStep(p,ans):\n",
    "\n",
    "    #print(ans)\n",
    "    xo = Counter(ans)\n",
    "    twoCounter = 0\n",
    "    for ele in small:\n",
    "        if xo[ele] == 2:\n",
    "            twoCounter += 1 \n",
    "        if xo[ele] > 2:\n",
    "            return 0\n",
    "        if twoCounter > 1:\n",
    "            return 0        \n",
    "\n",
    "\n",
    "    if p_2[p]['name'] == 'end':\n",
    "        #print(ans)\n",
    "        return 1\n",
    "    #if p_2[p]['name'] in ans and p_2[p]['name'] in small:\n",
    "    #    return 0\n",
    "    \n",
    "    ans.append(p_2[p]['name'])\n",
    "    result = 0\n",
    "\n",
    "    for r in p_2[p]['routes']:\n",
    "        ans_cpy = ans.copy()\n",
    "        result += takeStep(r,ans_cpy)\n",
    "\n",
    "    return result \n",
    "print(takeStep('start',[]))"
   ]
  },
  {
   "cell_type": "code",
   "execution_count": null,
   "metadata": {},
   "outputs": [],
   "source": []
  }
 ],
 "metadata": {
  "interpreter": {
   "hash": "bf8782ad878a65491fc6c9a2885f80b229bd085d21d8e07fc5ecd6e3b336a5da"
  },
  "kernelspec": {
   "display_name": "Python 3.8.8 64-bit",
   "language": "python",
   "name": "python3"
  },
  "language_info": {
   "codemirror_mode": {
    "name": "ipython",
    "version": 3
   },
   "file_extension": ".py",
   "mimetype": "text/x-python",
   "name": "python",
   "nbconvert_exporter": "python",
   "pygments_lexer": "ipython3",
   "version": "3.8.8"
  },
  "orig_nbformat": 4
 },
 "nbformat": 4,
 "nbformat_minor": 2
}
