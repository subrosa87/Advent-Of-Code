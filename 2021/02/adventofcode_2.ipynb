{
 "cells": [
  {
   "cell_type": "code",
   "execution_count": 73,
   "metadata": {},
   "outputs": [],
   "source": [
    "import numpy as np\n",
    "import re"
   ]
  },
  {
   "cell_type": "code",
   "execution_count": 74,
   "metadata": {},
   "outputs": [],
   "source": [
    "# Using readlines()\n",
    "file1 = open('input.txt', 'r')\n",
    "Lines = file1.readlines()\n",
    "## vowels list\n",
    "#vowels = Lines\n",
    "## sort the vowels\n",
    "#vowels.sort()"
   ]
  },
  {
   "cell_type": "code",
   "execution_count": 75,
   "metadata": {},
   "outputs": [
    {
     "name": "stdout",
     "output_type": "stream",
     "text": [
      "x: 1970 y: 1000556 result: 1971095320\n"
     ]
    }
   ],
   "source": [
    "x = 0\n",
    "y = 0\n",
    "aim = 0\n",
    "for ele in Lines:\n",
    "    matches = re.findall('\\w+',ele)\n",
    "    if matches[0] == 'forward':\n",
    "        x += int(matches[1])\n",
    "        y += aim*int(matches[1])\n",
    "    if matches[0] == 'down':\n",
    "        aim += int(matches[1])\n",
    "    if matches[0] == 'up':\n",
    "        aim -= int(matches[1])               \n",
    "    #print(ele.replace('\\n',''),'aim: ',aim,'y:',y)#,x,y,int(matches[1]),y)\n",
    "print('x:',x,'y:',y,'result:',x*y) "
   ]
  },
  {
   "cell_type": "code",
   "execution_count": null,
   "metadata": {},
   "outputs": [],
   "source": []
  }
 ],
 "metadata": {
  "interpreter": {
   "hash": "bf8782ad878a65491fc6c9a2885f80b229bd085d21d8e07fc5ecd6e3b336a5da"
  },
  "kernelspec": {
   "display_name": "Python 3.8.8 64-bit",
   "name": "python3"
  },
  "language_info": {
   "codemirror_mode": {
    "name": "ipython",
    "version": 3
   },
   "file_extension": ".py",
   "mimetype": "text/x-python",
   "name": "python",
   "nbconvert_exporter": "python",
   "pygments_lexer": "ipython3",
   "version": "3.8.8"
  },
  "orig_nbformat": 4
 },
 "nbformat": 4,
 "nbformat_minor": 2
}
