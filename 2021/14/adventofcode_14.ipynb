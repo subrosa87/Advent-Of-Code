{
 "cells": [
  {
   "cell_type": "code",
   "execution_count": 231,
   "metadata": {},
   "outputs": [],
   "source": [
    "import pandas as pd\n",
    "import re\n",
    "import matplotlib.pyplot as plt\n",
    "import numpy as np\n",
    "import random\n",
    "from collections import Counter\n",
    "import itertools\n",
    "import copy"
   ]
  },
  {
   "cell_type": "code",
   "execution_count": 413,
   "metadata": {},
   "outputs": [
    {
     "name": "stdout",
     "output_type": "stream",
     "text": [
      "[['VFHKKOKKCPBONFHNPHPN'], [''], ['VS ', ' B'], ['HK ', ' B'], ['FO ', ' P'], ['NC ', ' F'], ['VN ', ' C'], ['BS ', ' O'], ['HS ', ' K'], ['NS ', ' C'], ['CV ', ' P'], ['NV ', ' C'], ['PH ', ' H'], ['PB ', ' B'], ['PK ', ' K'], ['HF ', ' P'], ['FV ', ' C'], ['NN ', ' H'], ['VO ', ' K'], ['VP ', ' P'], ['BC ', ' B'], ['KK ', ' S'], ['OK ', ' C'], ['PN ', ' H'], ['SB ', ' V'], ['KO ', ' P'], ['KH ', ' C'], ['KS ', ' S'], ['FP ', ' B'], ['PV ', ' B'], ['BO ', ' C'], ['OS ', ' H'], ['NB ', ' S'], ['SP ', ' C'], ['HN ', ' N'], ['FN ', ' B'], ['PO ', ' O'], ['FS ', ' O'], ['NH ', ' B'], ['SO ', ' P'], ['OB ', ' S'], ['KC ', ' C'], ['OO ', ' H'], ['BB ', ' V'], ['SC ', ' F'], ['NP ', ' P'], ['SH ', ' C'], ['BH ', ' O'], ['BP ', ' F'], ['CC ', ' S'], ['BN ', ' H'], ['SS ', ' P'], ['BF ', ' B'], ['VK ', ' P'], ['OV ', ' H'], ['FC ', ' S'], ['VB ', ' S'], ['PF ', ' N'], ['HH ', ' O'], ['HC ', ' V'], ['CH ', ' B'], ['HP ', ' H'], ['FF ', ' H'], ['VF ', ' V'], ['CS ', ' F'], ['KP ', ' F'], ['OP ', ' H'], ['KF ', ' F'], ['PP ', ' V'], ['OC ', ' C'], ['PS ', ' F'], ['ON ', ' H'], ['BK ', ' B'], ['HV ', ' S'], ['CO ', ' K'], ['FH ', ' C'], ['FB ', ' F'], ['OF ', ' V'], ['SN ', ' S'], ['PC ', ' K'], ['NF ', ' F'], ['NK ', ' P'], ['NO ', ' P'], ['CP ', ' P'], ['CK ', ' S'], ['HB ', ' H'], ['BV ', ' C'], ['SF ', ' K'], ['HO ', ' H'], ['OH ', ' B'], ['KV ', ' S'], ['KN ', ' F'], ['SK ', ' K'], ['VH ', ' S'], ['CN ', ' S'], ['VC ', ' P'], ['CB ', ' H'], ['SV ', ' S'], ['VV ', ' P'], ['CF ', ' F'], ['FK ', ' F'], ['KB ', ' V']]\n",
      "VFHKKOKKCPBONFHNPHPN [('VS', 'B'), ('HK', 'B'), ('FO', 'P'), ('NC', 'F'), ('VN', 'C'), ('BS', 'O'), ('HS', 'K'), ('NS', 'C'), ('CV', 'P'), ('NV', 'C'), ('PH', 'H'), ('PB', 'B'), ('PK', 'K'), ('HF', 'P'), ('FV', 'C'), ('NN', 'H'), ('VO', 'K'), ('VP', 'P'), ('BC', 'B'), ('KK', 'S'), ('OK', 'C'), ('PN', 'H'), ('SB', 'V'), ('KO', 'P'), ('KH', 'C'), ('KS', 'S'), ('FP', 'B'), ('PV', 'B'), ('BO', 'C'), ('OS', 'H'), ('NB', 'S'), ('SP', 'C'), ('HN', 'N'), ('FN', 'B'), ('PO', 'O'), ('FS', 'O'), ('NH', 'B'), ('SO', 'P'), ('OB', 'S'), ('KC', 'C'), ('OO', 'H'), ('BB', 'V'), ('SC', 'F'), ('NP', 'P'), ('SH', 'C'), ('BH', 'O'), ('BP', 'F'), ('CC', 'S'), ('BN', 'H'), ('SS', 'P'), ('BF', 'B'), ('VK', 'P'), ('OV', 'H'), ('FC', 'S'), ('VB', 'S'), ('PF', 'N'), ('HH', 'O'), ('HC', 'V'), ('CH', 'B'), ('HP', 'H'), ('FF', 'H'), ('VF', 'V'), ('CS', 'F'), ('KP', 'F'), ('OP', 'H'), ('KF', 'F'), ('PP', 'V'), ('OC', 'C'), ('PS', 'F'), ('ON', 'H'), ('BK', 'B'), ('HV', 'S'), ('CO', 'K'), ('FH', 'C'), ('FB', 'F'), ('OF', 'V'), ('SN', 'S'), ('PC', 'K'), ('NF', 'F'), ('NK', 'P'), ('NO', 'P'), ('CP', 'P'), ('CK', 'S'), ('HB', 'H'), ('BV', 'C'), ('SF', 'K'), ('HO', 'H'), ('OH', 'B'), ('KV', 'S'), ('KN', 'F'), ('SK', 'K'), ('VH', 'S'), ('CN', 'S'), ('VC', 'P'), ('CB', 'H'), ('SV', 'S'), ('VV', 'P'), ('CF', 'F'), ('FK', 'F'), ('KB', 'V')]\n",
      "VFHKKOKKCPBONFHNPHPN\n",
      "-----\n",
      "3572761917024.0\n"
     ]
    }
   ],
   "source": [
    "# Using readlines()\n",
    "file1 = open('aoc-14-ex', 'r')\n",
    "file1 = open('aoc-14', 'r')\n",
    "#file1 = open('input.txt', 'r')\n",
    "Lines = file1.readlines()\n",
    "Lines_2 = Lines\n",
    "Lines = [x.replace('\\n','').split('->') for x in Lines]\n",
    "print(Lines)\n",
    "input_str = Lines[0][0]\n",
    "commands = Lines[2:]\n",
    "commands = [(x[0].strip(), x[1][1]) for x in commands]\n",
    "print(input_str,commands)\n",
    "print(input_str)\n",
    "def takeStep(input_str):\n",
    "    r = ''\n",
    "    for c in range(0,len(input_str)-1,1):\n",
    "        r += input_str[c]\n",
    "        for ele in commands:\n",
    "            if ele[0] == input_str[c]+input_str[c+1]:\n",
    "                r += ele[1]\n",
    "        #r += input_str[c+1]\n",
    "    r += input_str[-1]\n",
    "    return r\n",
    "\n",
    "ans_1 = input_str\n",
    "for i in range(10):\n",
    "    ans_1 = takeStep(ans_1)\n",
    "    #print(i,len(ans_1),Counter(ans_1))#,ans_1)\n",
    "\n",
    "ans_1_c = Counter(ans_1)\n",
    "#print(Counter(ans_1))\n",
    "#print(ans_1_c.most_common(1))\n",
    "#print(ans_1_c.most_common(len(ans_1_c))[0],ans_1_c.most_common(len(ans_1_c))[-1])\n",
    "ans_1_r = ans_1_c.most_common(len(ans_1_c))[0][1] - ans_1_c.most_common(len(ans_1_c))[-1][1]\n",
    "#print('final result:',ans_1_r)\n",
    "\n",
    "set(input_str)\n",
    "#print(Counter(input_str))\n",
    "\n",
    "small = [x[1] for x in commands]\n",
    "big = [x[0] for x in commands]\n",
    "    \n",
    "\n",
    "def getPairs(input_str):\n",
    "    r = []\n",
    "    for i in range(len(input_str)-1):\n",
    "        r.append(input_str[i]+input_str[i+1])\n",
    "    return r \n",
    "\n",
    "#print(small,set(small))\n",
    "#print(big,set(big))\n",
    "#print(list(set(small)))\n",
    "\n",
    "r = [] + list(set(small)) + list(set(big))\n",
    "r_counter = np.array(np.zeros(len(r)))\n",
    "r_commands = [None] *len(r)\n",
    "\n",
    "for i in range(len(input_str)):\n",
    "    r_counter[r.index(input_str[i])] += 1.0\n",
    "\n",
    "for i in getPairs(input_str):\n",
    "    #print(i)\n",
    "    r_counter[r.index(i)] += 1.0\n",
    "\n",
    "for c in commands:\n",
    "    r_commands[r.index(c[0])] = np.array(np.zeros(len(r)))\n",
    "    r_commands[r.index(c[0])][r.index(c[0])]            += -1\n",
    "    r_commands[r.index(c[0])][r.index(c[1])]            += 1\n",
    "    r_commands[r.index(c[0])][r.index(c[0][0]+c[1][0])] += 1\n",
    "    r_commands[r.index(c[0])][r.index(c[1][0]+c[0][1])] += 1\n",
    "    #print(c,c[0],c[0][0]+c[1][0],c[1][0]+c[0][1],sum(r_commands[r.index(c[0])]), r_commands[r.index(c[0])][r.index(c[0])],r_commands[r.index(c[0])])\n",
    "\n",
    "\n",
    "\n",
    "\n",
    "#r_counter += r_commands[r.index('NC')]\n",
    "#r_counter += r_commands[r.index('CB')]\n",
    "#r_counter += r_commands[r.index('NN')]\n",
    "\n",
    "\n",
    "\n",
    "for y in range(40):\n",
    "    rr_counter = r_counter.copy()\n",
    "\n",
    "    for ele in r[len(set(small)):]:\n",
    "        #print(ele,r_counter[r.index(ele)])\n",
    "        if r_counter[r.index(ele)] > 0:\n",
    "            rr_counter += r_counter[r.index(ele)] * r_commands[r.index(ele)]\n",
    "    \n",
    "    r_counter = rr_counter.copy()\n",
    "\n",
    "    #print('----')\n",
    "\n",
    "    l_1 = ''\n",
    "    l_2 = ''\n",
    "    for i in range(len(r)):\n",
    "        l_1 += r[i] + '\\t'\n",
    "        l_2 += str(rr_counter[i]) + '\\t'\n",
    "    #print(l_1)\n",
    "    #print(y,l_2)\n",
    "\n",
    "\n",
    "print('-----')\n",
    "print(max(r_counter[:len(set(small))])-min(r_counter[:len(set(small))]))\n",
    "#Counter({'NC': 1, 'CN': 1, 'NB': 1, 'BC': 1, 'CH': 1, 'HB': 1})\n",
    "#print(r_commands[r.index('NC')])\n",
    "#print(r_commands[r.index('CN')])\n",
    "#print(r_commands[r.index('NB')])\n",
    "#print(r_commands[r.index('BC')])\n",
    "#print(r_commands[r.index('CH')])\n",
    "#print(r_commands[r.index('HB')])\n"
   ]
  },
  {
   "cell_type": "code",
   "execution_count": 403,
   "metadata": {},
   "outputs": [
    {
     "name": "stdout",
     "output_type": "stream",
     "text": [
      "0 Counter({'N': 2, 'C': 2, 'B': 2, 'H': 1}) Counter({'NC': 1, 'CN': 1, 'NB': 1, 'BC': 1, 'CH': 1, 'HB': 1})\n",
      "1 Counter({'B': 6, 'C': 4, 'N': 2, 'H': 1}) Counter({'NB': 2, 'BC': 2, 'BB': 2, 'CB': 2, 'CC': 1, 'CN': 1, 'BH': 1, 'HC': 1})\n",
      "2 Counter({'B': 11, 'N': 5, 'C': 5, 'H': 4}) Counter({'NB': 4, 'BB': 4, 'BC': 3, 'HB': 3, 'CN': 2, 'BN': 2, 'CH': 2, 'NC': 1, 'CC': 1, 'BH': 1, 'HH': 1})\n",
      "4 Counter({'B': 23, 'N': 11, 'C': 10, 'H': 5}) ['NB', 'BB', 'BN', 'NB', 'BN', 'NB', 'BB', 'BC', 'CC', 'CN', 'NB', 'BC', 'CN', 'NC', 'CC', 'CN', 'NB', 'BB', 'BN', 'NB', 'BB', 'BN', 'NB', 'BB', 'BB', 'BN', 'NB', 'BB', 'BN', 'NB', 'BB', 'BC', 'CB', 'BH', 'HC', 'CB', 'BH', 'HH', 'HN', 'NH', 'HC', 'CB', 'BB', 'BC', 'CB', 'BH', 'HC', 'CB']\n"
     ]
    }
   ],
   "source": [
    "#print(0,Counter('NNCB'),getPairs('NNCB'))\n",
    "print(0,Counter('NCNBCHB'),Counter(getPairs('NCNBCHB')))\n",
    "print(1,Counter('NBCCNBBBCBHCB'),Counter(getPairs('NBCCNBBBCBHCB')))\n",
    "print(2,Counter('NBBBCNCCNBBNBNBBCHBHHBCHB'),Counter(getPairs('NBBBCNCCNBBNBNBBCHBHHBCHB')))\n",
    "print(4,Counter('NBBNBNBBCCNBCNCCNBBNBBNBBBNBBNBBCBHCBHHNHCBBCBHCB'),getPairs('NBBNBNBBCCNBCNCCNBBNBBNBBBNBBNBBCBHCBHHNHCBBCBHCB'))"
   ]
  },
  {
   "cell_type": "code",
   "execution_count": 244,
   "metadata": {},
   "outputs": [
    {
     "name": "stdout",
     "output_type": "stream",
     "text": [
      "Counter({'NB': 2, 'BC': 2, 'BB': 2, 'CB': 2, 'CC': 1, 'CN': 1, 'BH': 1, 'HC': 1})\n",
      "Counter({'NB': 4, 'BB': 4, 'BC': 3, 'HB': 3, 'CN': 2, 'BN': 2, 'CH': 2, 'NC': 1, 'CC': 1, 'BH': 1, 'HH': 1})\n",
      "Counter({'NB': 9, 'BB': 9, 'BN': 6, 'CB': 5, 'BC': 4, 'CN': 3, 'BH': 3, 'HC': 3, 'CC': 2, 'NC': 1, 'HH': 1, 'HN': 1, 'NH': 1})\n"
     ]
    }
   ],
   "source": [
    "print(Counter(getPairs('NBCCNBBBCBHCB')))\n",
    "print(Counter(getPairs('NBBBCNCCNBBNBNBBCHBHHBCHB')))\n",
    "print(Counter(getPairs('NBBNBNBBCCNBCNCCNBBNBBNBBBNBBNBBCBHCBHHNHCBBCBHCB')))"
   ]
  },
  {
   "cell_type": "code",
   "execution_count": null,
   "metadata": {},
   "outputs": [],
   "source": [
    "gegeben singles + pairs \n",
    "2x n\n",
    "1x c \n",
    "1x b\n",
    "NN NC CN CB\n",
    "\n",
    "für jedes pair einen single hoch zählen \n",
    "2x n +0\n",
    "1x c +1\n",
    "1x b +1\n",
    "1x h +1 \n",
    "0 B: 2\tN: 2\tH: 1\tC: 2\t\n",
    "\n",
    "gegeben pairs zählne singles hoch \n",
    "\n"
   ]
  }
 ],
 "metadata": {
  "interpreter": {
   "hash": "f21f743cc6c41fc33e520d2d26f99532d48e5b1bbd397170bfb0442f3e446286"
  },
  "kernelspec": {
   "display_name": "Python 3.9.1 64-bit",
   "name": "python3"
  },
  "language_info": {
   "codemirror_mode": {
    "name": "ipython",
    "version": 3
   },
   "file_extension": ".py",
   "mimetype": "text/x-python",
   "name": "python",
   "nbconvert_exporter": "python",
   "pygments_lexer": "ipython3",
   "version": "3.9.1"
  },
  "orig_nbformat": 4
 },
 "nbformat": 4,
 "nbformat_minor": 2
}
