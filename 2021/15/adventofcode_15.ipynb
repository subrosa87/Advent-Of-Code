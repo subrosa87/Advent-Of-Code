{
 "cells": [
  {
   "cell_type": "code",
   "execution_count": 1,
   "metadata": {},
   "outputs": [],
   "source": [
    "import pandas as pd\n",
    "import re\n",
    "import matplotlib.pyplot as plt\n",
    "import numpy as np\n",
    "import random\n",
    "from collections import Counter\n",
    "import itertools\n",
    "import copy\n",
    "import networkx as nx"
   ]
  },
  {
   "cell_type": "code",
   "execution_count": 2,
   "metadata": {},
   "outputs": [],
   "source": [
    "def split(word):\n",
    "    return [char for char in word]"
   ]
  },
  {
   "cell_type": "code",
   "execution_count": 3,
   "metadata": {},
   "outputs": [],
   "source": [
    "# Using readlines()\n",
    "file1 = open('aoc-15-ex', 'r')\n",
    "file1 = open('aoc-15-ex2', 'r')\n",
    "file1 = open('aoc-15', 'r')\n",
    "#file1 = open('input.txt', 'r')\n",
    "Lines = file1.readlines()\n",
    "Lines = [[int(y) for y in split(x.replace('\\n',''))] for x in Lines]\n",
    "#print(Lines)\n",
    "m = np.matrix(Lines)\n"
   ]
  },
  {
   "cell_type": "code",
   "execution_count": 4,
   "metadata": {},
   "outputs": [],
   "source": [
    "def getNeighbours(point,matrix):\n",
    "    r = [(point[0]+1,point[1]) , (point[0],point[1]-1), (point[0],point[1]+1) , (point[0]-1,point[1])]\n",
    "    r_2 = []\n",
    "    for ele in r:\n",
    "        if  (0<=ele[0]<matrix.shape[0] and 0<=ele[1]<matrix.shape[1]):\n",
    "            r_2.append(ele)\n",
    "    return r_2"
   ]
  },
  {
   "cell_type": "code",
   "execution_count": 7,
   "metadata": {},
   "outputs": [],
   "source": [
    "m = m_big\n"
   ]
  },
  {
   "cell_type": "code",
   "execution_count": 8,
   "metadata": {},
   "outputs": [],
   "source": [
    "G = nx.DiGraph()\n",
    "for x in range(0,m.shape[0]):\n",
    "    for y in range(0,m.shape[1]):\n",
    "        name = '('+str(x)+','+str(y)+')'\n",
    "        G.add_node(name,value=m[x,y])\n",
    "\n",
    "for x in range(0,m.shape[0]):\n",
    "    for y in range(0,m.shape[1]):      \n",
    "        name = '('+str(x)+','+str(y)+')'\n",
    "        neighbours = getNeighbours((x,y),m)  \n",
    "        for n in neighbours:\n",
    "            name_1 = '('+str(n[0])+','+str(n[1])+')'\n",
    "            if not name == name_1:\n",
    "                G.add_edge(name,name_1,weight=m[n])\n",
    "##\n",
    "endPoint = '('+str(m.shape[0]-1)+','+str(m.shape[1]-1)+')'\n",
    "\n",
    "path = nx.shortest_path(G, source='(0,0)', target=endPoint, weight=\"weight\")\n",
    "path_weight = nx.path_weight(G, path, weight=\"weight\")\n",
    "print('result 15a: ',path_weight)\n"
   ]
  },
  {
   "cell_type": "code",
   "execution_count": 6,
   "metadata": {},
   "outputs": [
    {
     "name": "stdout",
     "output_type": "stream",
     "text": [
      "[[6 8 5 ... 3 4 3]\n",
      " [9 4 2 ... 1 3 5]\n",
      " [3 7 9 ... 4 2 2]\n",
      " ...\n",
      " [6 5 6 ... 9 8 6]\n",
      " [2 3 1 ... 1 1 6]\n",
      " [3 3 3 ... 2 8 3]]\n"
     ]
    }
   ],
   "source": [
    "m_big = m\n",
    "for i in range(0,4):\n",
    "    m_h = m_big[:,i*10:].copy()\n",
    "    m_h[m_h == 9] = 0\n",
    "    m_h += 1\n",
    "    m_big = np.hstack((m_big, m_h))\n",
    "\n",
    "for i in range(0,4):\n",
    "    m_h = m_big[i*10:,:].copy()\n",
    "    m_h[m_h == 9] = 0\n",
    "    m_h += 1\n",
    "    m_big = np.vstack((m_big, m_h))\n",
    "print(m_big)"
   ]
  },
  {
   "cell_type": "code",
   "execution_count": 12,
   "metadata": {},
   "outputs": [],
   "source": [
    "with open('outfile.txt','wb') as f:\n",
    "    for line in m_big:\n",
    "        np.savetxt(f, line, fmt='%.0f')"
   ]
  },
  {
   "cell_type": "code",
   "execution_count": null,
   "metadata": {},
   "outputs": [],
   "source": []
  }
 ],
 "metadata": {
  "interpreter": {
   "hash": "f21f743cc6c41fc33e520d2d26f99532d48e5b1bbd397170bfb0442f3e446286"
  },
  "kernelspec": {
   "display_name": "Python 3.9.1 64-bit",
   "name": "python3"
  },
  "language_info": {
   "codemirror_mode": {
    "name": "ipython",
    "version": 3
   },
   "file_extension": ".py",
   "mimetype": "text/x-python",
   "name": "python",
   "nbconvert_exporter": "python",
   "pygments_lexer": "ipython3",
   "version": "3.8.1"
  },
  "orig_nbformat": 4
 },
 "nbformat": 4,
 "nbformat_minor": 2
}
