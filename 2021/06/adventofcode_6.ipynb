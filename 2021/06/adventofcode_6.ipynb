{
 "cells": [
  {
   "cell_type": "code",
   "execution_count": 1,
   "metadata": {},
   "outputs": [],
   "source": [
    "import pandas as pd\n",
    "import re\n",
    "import numpy as np\n"
   ]
  },
  {
   "cell_type": "code",
   "execution_count": null,
   "metadata": {},
   "outputs": [],
   "source": [
    "#3,4,3,1,2\n",
    "live_len = 7\n",
    "initial_pop = 5\n",
    "days = 265 \n",
    "#second list add one 8 for every live cycle\n",
    "# 265 = 2^8 = pow(2,8)\n",
    "# result = 26984457539\n",
    "result = \n"
   ]
  },
  {
   "cell_type": "code",
   "execution_count": 54,
   "metadata": {},
   "outputs": [
    {
     "data": {
      "text/plain": [
       "256"
      ]
     },
     "execution_count": 54,
     "metadata": {},
     "output_type": "execute_result"
    }
   ],
   "source": [
    "pow(2,8)"
   ]
  },
  {
   "cell_type": "code",
   "execution_count": 137,
   "metadata": {},
   "outputs": [
    {
     "name": "stdout",
     "output_type": "stream",
     "text": [
      "<class 'numpy.int32'>\n",
      "init: [3 4 3 1 2] 13\n",
      "index \t len(input_np) \t prev_sum \t sum(input_np) \t input_np\n",
      "0 \t 5 \t 13 \t 8.0 \t [2. 3. 2. 0. 1.]\n",
      "0 \t prev_sum: 13\n",
      "0 \t len_counter: 5\n",
      "0 \t prev_sum-len_counter: 8\n",
      "0 \t ------\n",
      "1 \t 6 \t 8 \t 18.0 \t [1. 2. 1. 6. 0. 8.]\n",
      "ELSE\n",
      "1 \t prev_sum:\t 8\n",
      "1 \t arr_SUM:\t 18\n",
      "1 \t (prev_sum-len_counter):\t 13\n",
      "1 \t len_counter:\t 6\n",
      "1 \t ------\n",
      "2 \t 7 \t 18 \t 27.0 \t [0. 1. 0. 5. 6. 7. 8.]\n",
      "ELSE\n",
      "2 \t prev_sum:\t 18\n",
      "2 \t arr_SUM:\t 27\n",
      "2 \t (prev_sum-len_counter):\t 21\n",
      "2 \t len_counter:\t 7\n",
      "2 \t ------\n",
      "3 \t 9 \t 27 \t 50.0 \t [6. 0. 6. 4. 5. 6. 7. 8. 8.]\n",
      "ELSE\n",
      "3 \t prev_sum:\t 27\n",
      "3 \t arr_SUM:\t 35\n",
      "3 \t (prev_sum-len_counter):\t 28\n",
      "3 \t len_counter:\t 8\n",
      "3 \t ------\n",
      "4 \t 10 \t 35 \t 56.0 \t [5. 6. 5. 3. 4. 5. 6. 7. 7. 8.]\n",
      "ELSE\n",
      "4 \t prev_sum:\t 35\n",
      "4 \t arr_SUM:\t 42\n",
      "4 \t (prev_sum-len_counter):\t 34\n",
      "4 \t len_counter:\t 9\n",
      "4 \t ------\n",
      "5 \t 10 \t 42 \t 46.0 \t [4. 5. 4. 2. 3. 4. 5. 6. 6. 7.]\n",
      "ELSE\n",
      "5 \t prev_sum:\t 42\n",
      "5 \t arr_SUM:\t 48\n",
      "5 \t (prev_sum-len_counter):\t 39\n",
      "5 \t len_counter:\t 10\n",
      "5 \t ------\n",
      "6 \t 10 \t 48 \t 36.0 \t [3. 4. 3. 1. 2. 3. 4. 5. 5. 6.]\n",
      "ELSE\n",
      "6 \t prev_sum:\t 48\n",
      "6 \t arr_SUM:\t 53\n",
      "6 \t (prev_sum-len_counter):\t 43\n",
      "6 \t len_counter:\t 11\n",
      "6 \t ------\n",
      "7 \t 10 \t 53 \t 26.0 \t [2. 3. 2. 0. 1. 2. 3. 4. 4. 5.]\n",
      "ELSE\n",
      "7 \t prev_sum:\t 53\n",
      "7 \t arr_SUM:\t 57\n",
      "7 \t (prev_sum-len_counter):\t 46\n",
      "7 \t len_counter:\t 12\n",
      "7 \t ------\n",
      "8 \t 11 \t 57 \t 31.0 \t [1. 2. 1. 6. 0. 1. 2. 3. 3. 4. 8.]\n",
      "ELSE\n",
      "8 \t prev_sum:\t 57\n",
      "8 \t arr_SUM:\t 60\n",
      "8 \t (prev_sum-len_counter):\t 48\n",
      "8 \t len_counter:\t 13\n",
      "8 \t ------\n",
      "9 \t 12 \t 60 \t 35.0 \t [0. 1. 0. 5. 6. 0. 1. 2. 2. 3. 7. 8.]\n",
      "ELSE\n",
      "9 \t prev_sum:\t 60\n",
      "9 \t arr_SUM:\t 62\n",
      "9 \t (prev_sum-len_counter):\t 49\n",
      "9 \t len_counter:\t 14\n",
      "9 \t ------\n",
      "10 \t 15 \t 62 \t 68.0 \t [6. 0. 6. 4. 5. 6. 0. 1. 1. 2. 6. 7. 8. 8. 8.]\n",
      "ELSE\n",
      "10 \t prev_sum:\t 62\n",
      "10 \t arr_SUM:\t 63\n",
      "10 \t (prev_sum-len_counter):\t 49\n",
      "10 \t len_counter:\t 15\n",
      "10 \t ------\n",
      "11 \t 17 \t 63 \t 83.0 \t [5. 6. 5. 3. 4. 5. 6. 0. 0. 1. 5. 6. 7. 7. 7. 8. 8.]\n",
      "ELSE\n",
      "11 \t prev_sum:\t 63\n",
      "11 \t arr_SUM:\t 63\n",
      "11 \t (prev_sum-len_counter):\t 48\n",
      "11 \t len_counter:\t 16\n",
      "11 \t ------\n",
      "12 \t 19 \t 63 \t 96.0 \t [4. 5. 4. 2. 3. 4. 5. 6. 6. 0. 4. 5. 6. 6. 6. 7. 7. 8. 8.]\n",
      "ELSE\n",
      "12 \t prev_sum:\t 63\n",
      "12 \t arr_SUM:\t 62\n",
      "12 \t (prev_sum-len_counter):\t 46\n",
      "12 \t len_counter:\t 17\n",
      "12 \t ------\n",
      "13 \t 20 \t 62 \t 92.0 \t [3. 4. 3. 1. 2. 3. 4. 5. 5. 6. 3. 4. 5. 5. 5. 6. 6. 7. 7. 8.]\n",
      "ELSE\n",
      "13 \t prev_sum:\t 62\n",
      "13 \t arr_SUM:\t 60\n",
      "13 \t (prev_sum-len_counter):\t 43\n",
      "13 \t len_counter:\t 18\n",
      "13 \t ------\n",
      "14 \t 20 \t 60 \t 72.0 \t [2. 3. 2. 0. 1. 2. 3. 4. 4. 5. 2. 3. 4. 4. 4. 5. 5. 6. 6. 7.]\n",
      "ELSE\n",
      "14 \t prev_sum:\t 60\n",
      "14 \t arr_SUM:\t 57\n",
      "14 \t (prev_sum-len_counter):\t 39\n",
      "14 \t len_counter:\t 19\n",
      "14 \t ------\n",
      "15 \t 21 \t 57 \t 67.0 \t [1. 2. 1. 6. 0. 1. 2. 3. 3. 4. 1. 2. 3. 3. 3. 4. 4. 5. 5. 6. 8.]\n",
      "ELSE\n",
      "15 \t prev_sum:\t 57\n",
      "15 \t arr_SUM:\t 53\n",
      "15 \t (prev_sum-len_counter):\t 34\n",
      "15 \t len_counter:\t 20\n",
      "15 \t ------\n",
      "16 \t 22 \t 53 \t 61.0 \t [0. 1. 0. 5. 6. 0. 1. 2. 2. 3. 0. 1. 2. 2. 2. 3. 3. 4. 4. 5. 7. 8.]\n",
      "ELSE\n",
      "16 \t prev_sum:\t 53\n",
      "16 \t arr_SUM:\t 48\n",
      "16 \t (prev_sum-len_counter):\t 28\n",
      "16 \t len_counter:\t 21\n",
      "16 \t ------\n",
      "17 \t 26 \t 48 \t 99.0 \t [6. 0. 6. 4. 5. 6. 0. 1. 1. 2. 6. 0. 1. 1. 1. 2. 2. 3. 3. 4. 6. 7. 8. 8.\n",
      " 8. 8.]\n",
      "ELSE\n",
      "17 \t prev_sum:\t 48\n",
      "17 \t arr_SUM:\t 42\n",
      "17 \t (prev_sum-len_counter):\t 21\n",
      "17 \t len_counter:\t 22\n",
      "17 \t ------\n",
      "<class 'numpy.float64'>\n"
     ]
    }
   ],
   "source": [
    "# Using readlines()\n",
    "file1 = open('input_ex.txt', 'r')\n",
    "#file1 = open('input.txt', 'r')\n",
    "Lines = file1.readlines()\n",
    "Lines\n",
    "\n",
    "input_str = re.findall('\\d+',Lines[0].replace(',', ' ' ))\n",
    "\n",
    "input_str = [int(x) for x in input_str]\n",
    "input_np = np.array(input_str)\n",
    "\n",
    "\n",
    "\n",
    "\n",
    "print(type(input_np[1]))\n",
    "\n",
    "print('init:',input_np , sum(input_np))\n",
    "prev_sum = 13\n",
    "print('index','\\t','len(input_np)','\\t','prev_sum','\\t','sum(input_np)','\\t','input_np')\n",
    "\n",
    "input_np_2 = input_np\n",
    "\n",
    "\n",
    "len_counter = len(input_np)\n",
    "\n",
    "for k in range(0,18):\n",
    "#for k in range(0,80):\n",
    "#for k in range(0,265):\n",
    "    new_jelly = []\n",
    "    for i in range(0,len(input_np)):\n",
    "        if input_np[i] == 0:\n",
    "            input_np[i] = 6\n",
    "            new_jelly.append(8)\n",
    "        else:\n",
    "            input_np[i] -= 1\n",
    "    input_np = np.concatenate((input_np,new_jelly), axis=None)\n",
    "\n",
    "    print(k,'\\t',len(input_np),'\\t',prev_sum,'\\t',sum(input_np),'\\t',input_np)\n",
    "    if( prev_sum-len_counter > (k+1)*7):\n",
    "        print(k,'\\t','prev_sum:',prev_sum)\n",
    "        print(k,'\\t','len_counter:',len_counter)\n",
    "        print(k,'\\t','prev_sum-len_counter:',prev_sum-len_counter)\n",
    "        print(k,'\\t','------')\n",
    "        prev_sum -= len_counter\n",
    "    else:\n",
    "        print('ELSE')\n",
    "        print(k,'\\t','prev_sum:\\t',prev_sum)\n",
    "        print(k,'\\t','arr_SUM:\\t',(prev_sum-len_counter)+8+7)\n",
    "        prev_sum = (prev_sum-len_counter)+8+7\n",
    "        print(k,'\\t','(prev_sum-len_counter):\\t',(prev_sum-len_counter))\n",
    "        #\n",
    "        len_counter += 1\n",
    "        print(k,'\\t','len_counter:\\t',len_counter)\n",
    "        print(k,'\\t','------')\n",
    "\n",
    "    \n",
    "\n",
    "#print(len(input_np))\n",
    "print(type(input_np[1]))\n",
    "#12+15\n",
    "#27-9 18"
   ]
  },
  {
   "cell_type": "code",
   "execution_count": 76,
   "metadata": {},
   "outputs": [
    {
     "name": "stdout",
     "output_type": "stream",
     "text": [
      "1695929023803\n"
     ]
    }
   ],
   "source": [
    "#\n",
    "#0: 0\n",
    "#1: 168\n",
    "#2: 31\n",
    "#3: 29\n",
    "#4: 37\n",
    "#5: 35\n",
    "#6: 0\n",
    "#7: 0\n",
    "#8: 0\n",
    "#\n",
    "\n",
    "\n",
    "arr_input = [0,168,31,29,37,35,0,0,0]\n",
    "for y in range(1,257):\n",
    "    arr_input_old = arr_input.copy()\n",
    "    for i in range(0,len(arr_input)-1):\n",
    "        #shift everything to left \n",
    "        arr_input[i] = arr_input[i+1]\n",
    "\n",
    "    arr_input[7] = arr_input_old[8]\n",
    "    arr_input[8] = 0\n",
    "    arr_input[6] += arr_input_old[0]\n",
    "    arr_input[8] += arr_input_old[0]\n",
    "\n",
    "    #print('day(',y,')',arr_input,arr_input_old)\n",
    "    #print(arr_input_old,printArray(arr_input))\n",
    "\n",
    "print(sum(arr_input))    \n"
   ]
  },
  {
   "cell_type": "code",
   "execution_count": 73,
   "metadata": {},
   "outputs": [
    {
     "data": {
      "text/plain": [
       "True"
      ]
     },
     "execution_count": 73,
     "metadata": {},
     "output_type": "execute_result"
    }
   ],
   "source": [
    "26984457539 == 26984457539"
   ]
  },
  {
   "cell_type": "code",
   "execution_count": 53,
   "metadata": {},
   "outputs": [],
   "source": [
    "#3, 5, 3, 2, 2, 1, 5, 1, 4\n",
    "#3, 5, 3, 2, 2, 1, 5, 1, 4\n",
    "def printArray(arr_input):\n",
    "    array_layout = '['\n",
    "    arr_sum = arr_input[0] * 0 + arr_input[1] * 1 + arr_input[2] * 2 + arr_input[3] * 3 + arr_input[4] * 4 + arr_input[5] * 5 + arr_input[6] * 6 + arr_input[7] * 7\n",
    "    for i in range(0,len(arr_input)):\n",
    "        #print(i,' mal ',arr_input[i])\n",
    "        for k in range(0,arr_input[i]):\n",
    "            array_layout += str(i) + ','\n",
    "    array_layout += ']'    \n",
    "\n",
    "    return (arr_sum)"
   ]
  },
  {
   "cell_type": "code",
   "execution_count": 10,
   "metadata": {},
   "outputs": [
    {
     "data": {
      "text/plain": [
       "'0b11110'"
      ]
     },
     "execution_count": 10,
     "metadata": {},
     "output_type": "execute_result"
    }
   ],
   "source": [
    "#nicht richtig: 113724757181"
   ]
  },
  {
   "cell_type": "code",
   "execution_count": 74,
   "metadata": {},
   "outputs": [],
   "source": [
    "helperr = [5,1,1,5,4,2,1,2,1,2,2,1,1,1,4,2,2,4,1,1,1,1,1,4,1,1,1,1,1,5,3,1,4,1,1,1,1,1,4,1,5,1,1,1,4,1,2,2,3,1,5,1,1,5,1,1,5,4,1,1,1,4,3,1,1,1,3,1,5,5,1,1,1,1,5,3,2,1,2,3,1,5,1,1,4,1,1,2,1,5,1,1,1,1,5,4,5,1,3,1,3,3,5,5,1,3,1,5,3,1,1,4,2,3,3,1,2,4,1,1,1,1,1,1,1,2,1,1,4,1,3,2,5,2,1,1,1,4,2,1,1,1,4,2,4,1,1,1,1,4,1,3,5,5,1,2,1,3,1,1,4,1,1,1,1,2,1,1,4,2,3,1,1,1,1,1,1,1,4,5,1,1,3,1,1,2,1,1,1,5,1,1,1,1,1,3,2,1,2,4,5,1,5,4,1,1,3,1,1,5,5,1,3,1,1,1,1,4,4,2,1,2,1,1,5,1,1,4,5,1,1,1,1,1,1,1,1,1,1,3,1,1,1,1,1,4,2,1,1,1,2,5,1,4,1,1,1,4,1,1,5,4,4,3,1,1,4,5,1,1,3,5,3,1,2,5,3,4,1,3,5,4,1,3,1,5,1,4,1,1,4,2,1,1,1,3,2,1,1,4]\n",
    "#helperr = [424, 729, 558, 790, 739, 762, 991, 370, 571]\n",
    "\n",
    "#print(sum(helperr))"
   ]
  },
  {
   "cell_type": "code",
   "execution_count": 75,
   "metadata": {},
   "outputs": [
    {
     "name": "stdout",
     "output_type": "stream",
     "text": [
      "0 168 31 29 37 35 0 0 0\n",
      "0: 0\n",
      "1: 168\n",
      "2: 31\n",
      "3: 29\n",
      "4: 37\n",
      "5: 35\n",
      "6: 0\n",
      "7: 0\n",
      "8: 0\n"
     ]
    }
   ],
   "source": [
    "print(helperr.count(0),helperr.count(1),helperr.count(2),helperr.count(3),helperr.count(4),helperr.count(5),helperr.count(6),helperr.count(7),helperr.count(8))\n",
    "\n",
    "print('0:',helperr.count(0))\n",
    "print('1:',helperr.count(1))\n",
    "print('2:',helperr.count(2))\n",
    "print('3:',helperr.count(3))\n",
    "print('4:',helperr.count(4))\n",
    "print('5:',helperr.count(5))\n",
    "print('6:',helperr.count(6))\n",
    "print('7:',helperr.count(7))\n",
    "print('8:',helperr.count(8))"
   ]
  },
  {
   "cell_type": "code",
   "execution_count": null,
   "metadata": {},
   "outputs": [],
   "source": []
  }
 ],
 "metadata": {
  "interpreter": {
   "hash": "f21f743cc6c41fc33e520d2d26f99532d48e5b1bbd397170bfb0442f3e446286"
  },
  "kernelspec": {
   "display_name": "Python 3.9.1 64-bit",
   "name": "python3"
  },
  "language_info": {
   "codemirror_mode": {
    "name": "ipython",
    "version": 3
   },
   "file_extension": ".py",
   "mimetype": "text/x-python",
   "name": "python",
   "nbconvert_exporter": "python",
   "pygments_lexer": "ipython3",
   "version": "3.9.1"
  },
  "orig_nbformat": 4
 },
 "nbformat": 4,
 "nbformat_minor": 2
}
