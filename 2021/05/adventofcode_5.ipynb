{
 "cells": [
  {
   "cell_type": "code",
   "execution_count": 17,
   "metadata": {},
   "outputs": [],
   "source": [
    "import re\n",
    "import numpy as np\n",
    "import pandas as pd "
   ]
  },
  {
   "cell_type": "code",
   "execution_count": 214,
   "metadata": {},
   "outputs": [
    {
     "name": "stdout",
     "output_type": "stream",
     "text": [
      "990 990\n"
     ]
    }
   ],
   "source": [
    "file1 = open('input.txt', 'r')\n",
    "#file1 = open('input.txt', 'r')\n",
    "Lines = file1.readlines()\n",
    "Lines = [x.replace('\\n','') for x in Lines]\n",
    "#print(Lines)\n",
    "coordinates = []\n",
    "max_x = 0\n",
    "max_y = 0\n",
    "for ele in Lines: \n",
    "    #print(re.findall('\\d+',ele))\n",
    "    matches_arr = re.findall('\\d+',ele)\n",
    "    coordinates.append({'start':(int(matches_arr[0]),int(matches_arr[1])),'end':(int(matches_arr[2]),int(matches_arr[3]))})\n",
    "    if int(matches_arr[0]) > max_x:\n",
    "        max_x = int(matches_arr[0])\n",
    "    if int(matches_arr[3]) > max_x:\n",
    "        max_x = int(matches_arr[3])\n",
    "    if int(matches_arr[2]) > max_y:\n",
    "        max_y = int(matches_arr[2])\n",
    "    if int(matches_arr[1]) > max_y:\n",
    "        max_y = int(matches_arr[1])        \n",
    "\n",
    "\n",
    "\n",
    "print(max_x,max_y)\n",
    "#matrix = np.zeros((max_x+1, max_y+1))"
   ]
  },
  {
   "cell_type": "code",
   "execution_count": 215,
   "metadata": {},
   "outputs": [
    {
     "name": "stdout",
     "output_type": "stream",
     "text": [
      "[[0. 0. 0. ... 0. 0. 0.]\n",
      " [0. 0. 0. ... 0. 0. 0.]\n",
      " [0. 0. 0. ... 0. 0. 0.]\n",
      " ...\n",
      " [0. 0. 0. ... 0. 0. 0.]\n",
      " [0. 0. 0. ... 0. 0. 0.]\n",
      " [0. 0. 0. ... 0. 0. 0.]]\n",
      "21466\n"
     ]
    }
   ],
   "source": [
    "matrix = np.zeros((max_x+1, max_y+1))\n",
    "for ele in coordinates:\n",
    "\n",
    "#\n",
    "# LINES\n",
    "#\n",
    "    start = ele['start']\n",
    "    end = ele['end']\n",
    "\n",
    "    if start[0] == end[0] and start[1] < end[1]:\n",
    "        #print(ele)\n",
    "        for i in range(0,end[1]-start[1]+1):\n",
    "        #    print(i,start[0],start[1]+i)\n",
    "            matrix[start[0]][start[1]+i] += 1\n",
    "\n",
    "    if start[0] == end[0] and start[1] > end[1]:\n",
    "        #print(ele)\n",
    "        for i in range(0,start[1]-end[1]+1):\n",
    "        #    print(i,start[0],start[1]-i)\n",
    "            matrix[start[0]][start[1]-i] += 1     \n",
    "\n",
    "    if start[1] == end[1] and start[0] < end[0]:\n",
    "        #print(ele)\n",
    "        for i in range(0,end[0]-start[0]+1):\n",
    "        #    print(i,start[0]+i,start[1])\n",
    "            matrix[start[0]+i][start[1]] += 1    \n",
    "\n",
    "    if start[1] == end[1] and start[0] > end[0]:\n",
    "        #print(ele)\n",
    "        for i in range(0,start[0]-end[0]+1):\n",
    "        #    print(i,start[0]-i,start[1])\n",
    "            matrix[start[0]-i][start[1]] += 1                \n",
    "\n",
    "\n",
    "#\n",
    "# Diaglonals\n",
    "#\n",
    "for ele in coordinates:\n",
    "    start = ele['start']\n",
    "    end = ele['end']\n",
    "    \n",
    "    if start[0] < end[0] and start[1] > end[1]:\n",
    "        #print(ele)\n",
    "        for i in range(0,end[0]-start[0]+1):\n",
    "        #    print(i,start[0]+i,start[1]-i)\n",
    "            matrix[start[0]+i][start[1]-i] += 1       \n",
    "    if start[0] > end[0] and start[1] > end[1]:\n",
    "        #print(ele)\n",
    "        for i in range(0,start[0]-end[0]+1):\n",
    "        #    print(i,start[0]-i,start[1]-i)\n",
    "            matrix[start[0]-i][start[1]-i] += 1 \n",
    "\n",
    "    if start[0] < end[0] and start[1] < end[1]:\n",
    "        #print(ele)\n",
    "        for i in range(0,end[0]-start[0]+1):\n",
    "        #    print(i,start[0]+i,start[1]+i)\n",
    "            matrix[start[0]+i][start[1]+i] += 1   \n",
    "\n",
    "    if start[0] > end[0] and start[1] < end[1]:\n",
    "        #print(ele)\n",
    "        for i in range(0,start[0]-end[0]+1):\n",
    "        #    print(i,start[0]-i,start[1]+i)\n",
    "            matrix[start[0]-i][start[1]+i] += 1                                  \n",
    "\n",
    "print(matrix)            \n",
    "print(np.count_nonzero(matrix > 1))"
   ]
  },
  {
   "cell_type": "code",
   "execution_count": 154,
   "metadata": {},
   "outputs": [
    {
     "data": {
      "text/plain": [
       "19402"
      ]
     },
     "execution_count": 154,
     "metadata": {},
     "output_type": "execute_result"
    }
   ],
   "source": [
    "np.count_nonzero(matrix > 1)"
   ]
  },
  {
   "cell_type": "code",
   "execution_count": null,
   "metadata": {},
   "outputs": [],
   "source": [
    "\n",
    "#\n",
    "# Diaglonals\n",
    "#\n",
    "#for ele in coordinates:\n",
    "#    start = ele['start']\n",
    "#    end = ele['end']\n",
    "#    if start[0] < end[0] and start[1] < end[1]:\n",
    "#        print(ele)\n",
    "        #for i in range(start[0],end[1]):\n",
    "        #    matrix[i,i] += 1 \n",
    "    \n",
    "    \n",
    "    \n",
    "    \n",
    "    #if start[0] < end[0] and start[1] > end[1]:\n",
    "    #    #print(ele)\n",
    "    #    for i in range(0,end[0]-start[0]+1):\n",
    "    #        matrix[start[0]+i,start[1]-i] += 1       \n",
    "    #if start[0] > end[0] and start[1] < end[1]:\n",
    "    #    print(ele)\n",
    "    #    for i in range(0,end[1]+1):\n",
    "    #        #print(start[0]-i,start[1]+i)\n",
    "    #        y = start[1]+i\n",
    "    #        #if y >= 991:\n",
    "    #        #    y = 990\n",
    "    #        #matrix[start[0]-i,y] += 1 \n",
    "    #    #for i in range(0,end[0]-start[0]+1):\n",
    "    #    #    matrix[start[0]+i,start[1]-i] += 1    \n",
    "    #if start[0] > end[0] and start[1] > end[1]:  \n",
    "    #    #print(ele)\n",
    "    #    for i in range(0,start[0]-end[0]+1):\n",
    "    #    #    print(i,start[0]-i,start[1]-i)\n",
    "    #        matrix[start[0]-i,start[1]-i] += 1"
   ]
  }
 ],
 "metadata": {
  "interpreter": {
   "hash": "bf8782ad878a65491fc6c9a2885f80b229bd085d21d8e07fc5ecd6e3b336a5da"
  },
  "kernelspec": {
   "display_name": "Python 3.8.8 64-bit",
   "language": "python",
   "name": "python3"
  },
  "language_info": {
   "codemirror_mode": {
    "name": "ipython",
    "version": 3
   },
   "file_extension": ".py",
   "mimetype": "text/x-python",
   "name": "python",
   "nbconvert_exporter": "python",
   "pygments_lexer": "ipython3",
   "version": "3.8.8"
  },
  "orig_nbformat": 4
 },
 "nbformat": 4,
 "nbformat_minor": 2
}
