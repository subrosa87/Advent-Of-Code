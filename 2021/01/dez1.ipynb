{
 "cells": [
  {
   "cell_type": "code",
   "execution_count": 21,
   "metadata": {},
   "outputs": [],
   "source": [
    "import xml.etree.ElementTree as ET\n",
    "import glob, os\n",
    "import re"
   ]
  },
  {
   "cell_type": "code",
   "execution_count": 73,
   "metadata": {},
   "outputs": [],
   "source": [
    "def validateArr(arr):\n",
    "    count = 0\n",
    "    prev = arr[0]\n",
    "    for i in range(1,len(arr)):\n",
    "        if prev < arr[i]: \n",
    "            count += 1\n",
    "        prev = arr[i]\n",
    "    return count"
   ]
  },
  {
   "cell_type": "code",
   "execution_count": 74,
   "metadata": {},
   "outputs": [
    {
     "name": "stdout",
     "output_type": "stream",
     "text": [
      "Quest#1:  1184\n",
      "Quest#2:  1158\n"
     ]
    }
   ],
   "source": [
    "# Using readlines()\n",
    "file1 = open('input.txt', 'r')\n",
    "Lines = file1.readlines()\n",
    "Lines\n",
    "numbers = []\n",
    "for ele in Lines:\n",
    "    numbers.append(int(ele.replace('\\n','')))\n",
    "\n",
    "print('Quest#1: ', validateArr(numbers))       \n",
    "\n",
    "seq = numbers\n",
    "window_size = 3\n",
    "arr_new = []\n",
    "for i in range(len(seq) - window_size + 1):\n",
    "    #print(sum(seq[i: i + window_size]))\n",
    "    arr_new.append(sum(seq[i: i + window_size]))\n",
    "print('Quest#2: ', validateArr(arr_new))         "
   ]
  },
  {
   "cell_type": "code",
   "execution_count": null,
   "metadata": {},
   "outputs": [],
   "source": [
    "#Quest#1:  1184\n",
    "#Quest#2:  1158"
   ]
  }
 ],
 "metadata": {
  "interpreter": {
   "hash": "f21f743cc6c41fc33e520d2d26f99532d48e5b1bbd397170bfb0442f3e446286"
  },
  "kernelspec": {
   "display_name": "Python 3.9.1 64-bit",
   "name": "python3"
  },
  "language_info": {
   "codemirror_mode": {
    "name": "ipython",
    "version": 3
   },
   "file_extension": ".py",
   "mimetype": "text/x-python",
   "name": "python",
   "nbconvert_exporter": "python",
   "pygments_lexer": "ipython3",
   "version": "3.9.1"
  },
  "orig_nbformat": 4
 },
 "nbformat": 4,
 "nbformat_minor": 2
}
