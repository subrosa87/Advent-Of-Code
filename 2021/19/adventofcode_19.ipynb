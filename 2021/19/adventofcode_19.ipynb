{
 "cells": [
  {
   "cell_type": "code",
   "execution_count": 1,
   "metadata": {},
   "outputs": [],
   "source": [
    "import pandas as pd\n",
    "import re\n",
    "import matplotlib.pyplot as plt\n",
    "import numpy as np\n",
    "import random\n",
    "from collections import Counter\n",
    "import itertools\n",
    "import networkx as nx\n",
    "import ast\n",
    "import math"
   ]
  },
  {
   "cell_type": "code",
   "execution_count": 2,
   "metadata": {},
   "outputs": [],
   "source": [
    "def centeroidnp(arr):\n",
    "    length = arr.shape[0]\n",
    "    sum_x = np.sum(arr[:, 0])\n",
    "    sum_y = np.sum(arr[:, 1])\n",
    "    sum_z = np.sum(arr[:, 2])\n",
    "    return (sum_x/length, sum_y/length, sum_z/length)"
   ]
  },
  {
   "cell_type": "code",
   "execution_count": 3,
   "metadata": {},
   "outputs": [],
   "source": [
    "def split(word):\n",
    "    return [char for char in word]"
   ]
  },
  {
   "cell_type": "code",
   "execution_count": 4,
   "metadata": {},
   "outputs": [],
   "source": [
    "def getDistances(list1):\n",
    "    distances_list1 = {}\n",
    "    for p1 in list1:\n",
    "        index_str = '[' + str(p1[0]) +','+ str(p1[1]) +','+ str(p1[2]) + ']'\n",
    "        distances_list1[index_str] = []\n",
    "        for p2 in list1:\n",
    "                distances_list1[index_str].append(math.dist(p1,p2))\n",
    "    return distances_list1"
   ]
  },
  {
   "cell_type": "code",
   "execution_count": 23,
   "metadata": {},
   "outputs": [],
   "source": [
    "def getOverlap(list1,list2):\n",
    "    list1 = getDistances(list1)\n",
    "    list2 = getDistances(list2)\n",
    "    result = []\n",
    "    for d1 in list1:\n",
    "        maxOverlap = 0\n",
    "        maxOverlapIndex = None \n",
    "        for d2 in list2:\n",
    "            setA = set(list1[d1])\n",
    "            setB = set(list2[d2])\n",
    "            overlap = setA & setB\n",
    "            result1 = float(len(overlap)) / len(setA) * 100\n",
    "            if result1 > maxOverlap:\n",
    "                maxOverlap = result1 \n",
    "                maxOverlapIndex = d2\n",
    "        result.append((d1,maxOverlapIndex,maxOverlap))\n",
    "    result.sort(key=lambda i:i[2],reverse=True)    \n",
    "    cnt = 0\n",
    "    score = result[0][2]\n",
    "    for ele in result:\n",
    "        if ele[2] == score:\n",
    "            cnt += 1\n",
    "    if cnt == 12:\n",
    "        return result[:12]\n",
    "    else:\n",
    "        return -1"
   ]
  },
  {
   "cell_type": "code",
   "execution_count": 6,
   "metadata": {},
   "outputs": [],
   "source": [
    "def getOrigin(list1,list2):\n",
    "    overlap = getOverlap((list1),(list2))\n",
    "    overScan1 = [ast.literal_eval(x[0]) for x in overlap]\n",
    "    overScan2 = [ast.literal_eval(x[1]) for x in overlap]\n",
    "    center1 = centeroidnp(np.array(overScan1))\n",
    "    center2 = centeroidnp(np.array(overScan2))\n",
    "    #print(center1,center2)\n",
    "    for ele in overScan1:\n",
    "        ele[0] -= center1[0]\n",
    "        ele[1] -= center1[1]\n",
    "        ele[2] -= center1[2]\n",
    "    for ele in overScan2:\n",
    "        ele[0] -= center2[0]\n",
    "        ele[1] -= center2[1]\n",
    "        ele[2] -= center2[2]    \n",
    "\n",
    "    P = np.matrix([[x[0] for x in overScan1],[x[1] for x in overScan1],[x[2] for x in overScan1]]).T\n",
    "    Q = np.matrix([[x[0] for x in overScan2],[x[1] for x in overScan2],[x[2] for x in overScan2]]).T\n",
    "    #print(P.shape,Q.shape)\n",
    "    H = P.T * Q \n",
    "    u, s, vh = np.linalg.svd(H, full_matrices=True)\n",
    "    v = vh.T\n",
    "    d = np.linalg.det(v @ u.T)\n",
    "    e = np.array([[1, 0, 0], [0, 1, 0], [0, 0, d]])\n",
    "    r = v @ e @ u.T\n",
    "    t = ast.literal_eval(overlap[1][0]) - ast.literal_eval(overlap[1][1]) * r\n",
    "    return ([0,0,0]*r+t,r,t)"
   ]
  },
  {
   "cell_type": "code",
   "execution_count": 62,
   "metadata": {},
   "outputs": [
    {
     "data": {
      "text/plain": [
       "[]"
      ]
     },
     "execution_count": 62,
     "metadata": {},
     "output_type": "execute_result"
    }
   ],
   "source": [
    "# Using readlines()\n",
    "file1 = open('aoc-19-ex', 'r')\n",
    "file1 = open('aoc-19', 'r')\n",
    "Lines = file1.readlines()\n",
    "Lines = [x.replace('\\n','') for x in Lines]\n",
    "scanners = []\n",
    "helper = []\n",
    "for ele in Lines:\n",
    "    if ele.find('scanner') > 0 :\n",
    "        scanners.append(helper)\n",
    "        helper = []\n",
    "    else:\n",
    "        xo = ele.split(',')\n",
    "        helper.append([int(xo[0]),int(xo[1]),int(xo[2])])\n",
    "scanners.append(helper)\n",
    "scanners.pop(0)"
   ]
  },
  {
   "cell_type": "code",
   "execution_count": 63,
   "metadata": {},
   "outputs": [
    {
     "name": "stdout",
     "output_type": "stream",
     "text": [
      "scanner found 3\n",
      "scanner at:  [[  77. -115. 1203.]]\n",
      "scanner found 1\n",
      "scanner at:  [[1242. -114. 1281.]]\n",
      "scanner found 4\n",
      "scanner at:  [[-1037.   -79.  1249.]]\n",
      "scanner found 10\n",
      "scanner at:  [[   21. -1353.  1367.]]\n",
      "scanner found 5\n",
      "scanner at:  [[  134. -2389.  1296.]]\n",
      "scanner found 7\n",
      "scanner at:  [[   85. -1257.  2529.]]\n",
      "scanner found 8\n",
      "scanner at:  [[  150.   -54. -1133.]]\n",
      "scanner found 7\n",
      "scanner at:  [[-1.60e+01 -1.00e+00 -2.29e+03]]\n",
      "scanner found 5\n",
      "scanner at:  [[   49. -1358. -2423.]]\n",
      "scanner found 2\n",
      "scanner at:  [[ 1312. -1365. -2268.]]\n",
      "scanner found 8\n",
      "scanner at:  [[ 1225. -2488.  1310.]]\n",
      "scanner found 10\n",
      "scanner at:  [[ 135. 1083. 1298.]]\n",
      "scanner found 1\n",
      "scanner at:  [[1260. 1127.  130.]]\n",
      "scanner found 2\n",
      "scanner at:  [[  15. 1071. 2503.]]\n",
      "scanner found 5\n",
      "scanner at:  [[-2.000e+00 -5.800e+01  3.593e+03]]\n",
      "scanner found 11\n",
      "scanner at:  [[-1160.  -130.  3771.]]\n",
      "scanner found 11\n",
      "scanner at:  [[-2345.     4.  1359.]]\n",
      "scanner found 11\n",
      "scanner at:  [[ 1203. -1191. -3577.]]\n"
     ]
    },
    {
     "ename": "TypeError",
     "evalue": "'NoneType' object is not iterable",
     "output_type": "error",
     "traceback": [
      "\u001b[1;31m---------------------------------------------------------------------------\u001b[0m",
      "\u001b[1;31mTypeError\u001b[0m                                 Traceback (most recent call last)",
      "\u001b[1;32m<ipython-input-63-fe83e104a256>\u001b[0m in \u001b[0;36m<module>\u001b[1;34m\u001b[0m\n\u001b[0;32m      9\u001b[0m             \u001b[1;32mbreak\u001b[0m\u001b[1;33m\u001b[0m\u001b[1;33m\u001b[0m\u001b[0m\n\u001b[0;32m     10\u001b[0m     \u001b[1;31m#print(scannerToMatch)\u001b[0m\u001b[1;33m\u001b[0m\u001b[1;33m\u001b[0m\u001b[1;33m\u001b[0m\u001b[0m\n\u001b[1;32m---> 11\u001b[1;33m     \u001b[0mp1\u001b[0m\u001b[1;33m,\u001b[0m\u001b[0ms1_r\u001b[0m\u001b[1;33m,\u001b[0m\u001b[0ms1_t\u001b[0m \u001b[1;33m=\u001b[0m \u001b[0mgetOrigin\u001b[0m\u001b[1;33m(\u001b[0m\u001b[0mscanners\u001b[0m\u001b[1;33m[\u001b[0m\u001b[1;36m0\u001b[0m\u001b[1;33m]\u001b[0m\u001b[1;33m,\u001b[0m\u001b[0mscannerToMatch\u001b[0m\u001b[1;33m)\u001b[0m\u001b[1;33m\u001b[0m\u001b[1;33m\u001b[0m\u001b[0m\n\u001b[0m\u001b[0;32m     12\u001b[0m     \u001b[0mprint\u001b[0m\u001b[1;33m(\u001b[0m\u001b[1;34m'scanner at: '\u001b[0m\u001b[1;33m,\u001b[0m \u001b[1;33m[\u001b[0m\u001b[1;36m0\u001b[0m\u001b[1;33m,\u001b[0m\u001b[1;36m0\u001b[0m\u001b[1;33m,\u001b[0m\u001b[1;36m0\u001b[0m\u001b[1;33m]\u001b[0m\u001b[1;33m*\u001b[0m\u001b[0ms1_r\u001b[0m\u001b[1;33m+\u001b[0m\u001b[0ms1_t\u001b[0m\u001b[1;33m)\u001b[0m\u001b[1;33m\u001b[0m\u001b[1;33m\u001b[0m\u001b[0m\n\u001b[0;32m     13\u001b[0m     \u001b[0mhelper\u001b[0m \u001b[1;33m=\u001b[0m \u001b[1;33m[\u001b[0m\u001b[1;33m]\u001b[0m\u001b[1;33m\u001b[0m\u001b[1;33m\u001b[0m\u001b[0m\n",
      "\u001b[1;32m<ipython-input-6-c6962d98251c>\u001b[0m in \u001b[0;36mgetOrigin\u001b[1;34m(list1, list2)\u001b[0m\n\u001b[0;32m      1\u001b[0m \u001b[1;32mdef\u001b[0m \u001b[0mgetOrigin\u001b[0m\u001b[1;33m(\u001b[0m\u001b[0mlist1\u001b[0m\u001b[1;33m,\u001b[0m\u001b[0mlist2\u001b[0m\u001b[1;33m)\u001b[0m\u001b[1;33m:\u001b[0m\u001b[1;33m\u001b[0m\u001b[1;33m\u001b[0m\u001b[0m\n\u001b[1;32m----> 2\u001b[1;33m     \u001b[0moverlap\u001b[0m \u001b[1;33m=\u001b[0m \u001b[0mgetOverlap\u001b[0m\u001b[1;33m(\u001b[0m\u001b[1;33m(\u001b[0m\u001b[0mlist1\u001b[0m\u001b[1;33m)\u001b[0m\u001b[1;33m,\u001b[0m\u001b[1;33m(\u001b[0m\u001b[0mlist2\u001b[0m\u001b[1;33m)\u001b[0m\u001b[1;33m)\u001b[0m\u001b[1;33m\u001b[0m\u001b[1;33m\u001b[0m\u001b[0m\n\u001b[0m\u001b[0;32m      3\u001b[0m     \u001b[0moverScan1\u001b[0m \u001b[1;33m=\u001b[0m \u001b[1;33m[\u001b[0m\u001b[0mast\u001b[0m\u001b[1;33m.\u001b[0m\u001b[0mliteral_eval\u001b[0m\u001b[1;33m(\u001b[0m\u001b[0mx\u001b[0m\u001b[1;33m[\u001b[0m\u001b[1;36m0\u001b[0m\u001b[1;33m]\u001b[0m\u001b[1;33m)\u001b[0m \u001b[1;32mfor\u001b[0m \u001b[0mx\u001b[0m \u001b[1;32min\u001b[0m \u001b[0moverlap\u001b[0m\u001b[1;33m]\u001b[0m\u001b[1;33m\u001b[0m\u001b[1;33m\u001b[0m\u001b[0m\n\u001b[0;32m      4\u001b[0m     \u001b[0moverScan2\u001b[0m \u001b[1;33m=\u001b[0m \u001b[1;33m[\u001b[0m\u001b[0mast\u001b[0m\u001b[1;33m.\u001b[0m\u001b[0mliteral_eval\u001b[0m\u001b[1;33m(\u001b[0m\u001b[0mx\u001b[0m\u001b[1;33m[\u001b[0m\u001b[1;36m1\u001b[0m\u001b[1;33m]\u001b[0m\u001b[1;33m)\u001b[0m \u001b[1;32mfor\u001b[0m \u001b[0mx\u001b[0m \u001b[1;32min\u001b[0m \u001b[0moverlap\u001b[0m\u001b[1;33m]\u001b[0m\u001b[1;33m\u001b[0m\u001b[1;33m\u001b[0m\u001b[0m\n\u001b[0;32m      5\u001b[0m     \u001b[0mcenter1\u001b[0m \u001b[1;33m=\u001b[0m \u001b[0mcenteroidnp\u001b[0m\u001b[1;33m(\u001b[0m\u001b[0mnp\u001b[0m\u001b[1;33m.\u001b[0m\u001b[0marray\u001b[0m\u001b[1;33m(\u001b[0m\u001b[0moverScan1\u001b[0m\u001b[1;33m)\u001b[0m\u001b[1;33m)\u001b[0m\u001b[1;33m\u001b[0m\u001b[1;33m\u001b[0m\u001b[0m\n",
      "\u001b[1;32m<ipython-input-23-7019bc2657c3>\u001b[0m in \u001b[0;36mgetOverlap\u001b[1;34m(list1, list2)\u001b[0m\n\u001b[0;32m      1\u001b[0m \u001b[1;32mdef\u001b[0m \u001b[0mgetOverlap\u001b[0m\u001b[1;33m(\u001b[0m\u001b[0mlist1\u001b[0m\u001b[1;33m,\u001b[0m\u001b[0mlist2\u001b[0m\u001b[1;33m)\u001b[0m\u001b[1;33m:\u001b[0m\u001b[1;33m\u001b[0m\u001b[1;33m\u001b[0m\u001b[0m\n\u001b[0;32m      2\u001b[0m     \u001b[0mlist1\u001b[0m \u001b[1;33m=\u001b[0m \u001b[0mgetDistances\u001b[0m\u001b[1;33m(\u001b[0m\u001b[0mlist1\u001b[0m\u001b[1;33m)\u001b[0m\u001b[1;33m\u001b[0m\u001b[1;33m\u001b[0m\u001b[0m\n\u001b[1;32m----> 3\u001b[1;33m     \u001b[0mlist2\u001b[0m \u001b[1;33m=\u001b[0m \u001b[0mgetDistances\u001b[0m\u001b[1;33m(\u001b[0m\u001b[0mlist2\u001b[0m\u001b[1;33m)\u001b[0m\u001b[1;33m\u001b[0m\u001b[1;33m\u001b[0m\u001b[0m\n\u001b[0m\u001b[0;32m      4\u001b[0m     \u001b[0mresult\u001b[0m \u001b[1;33m=\u001b[0m \u001b[1;33m[\u001b[0m\u001b[1;33m]\u001b[0m\u001b[1;33m\u001b[0m\u001b[1;33m\u001b[0m\u001b[0m\n\u001b[0;32m      5\u001b[0m     \u001b[1;32mfor\u001b[0m \u001b[0md1\u001b[0m \u001b[1;32min\u001b[0m \u001b[0mlist1\u001b[0m\u001b[1;33m:\u001b[0m\u001b[1;33m\u001b[0m\u001b[1;33m\u001b[0m\u001b[0m\n",
      "\u001b[1;32m<ipython-input-4-7272a09332c6>\u001b[0m in \u001b[0;36mgetDistances\u001b[1;34m(list1)\u001b[0m\n\u001b[0;32m      1\u001b[0m \u001b[1;32mdef\u001b[0m \u001b[0mgetDistances\u001b[0m\u001b[1;33m(\u001b[0m\u001b[0mlist1\u001b[0m\u001b[1;33m)\u001b[0m\u001b[1;33m:\u001b[0m\u001b[1;33m\u001b[0m\u001b[1;33m\u001b[0m\u001b[0m\n\u001b[0;32m      2\u001b[0m     \u001b[0mdistances_list1\u001b[0m \u001b[1;33m=\u001b[0m \u001b[1;33m{\u001b[0m\u001b[1;33m}\u001b[0m\u001b[1;33m\u001b[0m\u001b[1;33m\u001b[0m\u001b[0m\n\u001b[1;32m----> 3\u001b[1;33m     \u001b[1;32mfor\u001b[0m \u001b[0mp1\u001b[0m \u001b[1;32min\u001b[0m \u001b[0mlist1\u001b[0m\u001b[1;33m:\u001b[0m\u001b[1;33m\u001b[0m\u001b[1;33m\u001b[0m\u001b[0m\n\u001b[0m\u001b[0;32m      4\u001b[0m         \u001b[0mindex_str\u001b[0m \u001b[1;33m=\u001b[0m \u001b[1;34m'['\u001b[0m \u001b[1;33m+\u001b[0m \u001b[0mstr\u001b[0m\u001b[1;33m(\u001b[0m\u001b[0mp1\u001b[0m\u001b[1;33m[\u001b[0m\u001b[1;36m0\u001b[0m\u001b[1;33m]\u001b[0m\u001b[1;33m)\u001b[0m \u001b[1;33m+\u001b[0m\u001b[1;34m','\u001b[0m\u001b[1;33m+\u001b[0m \u001b[0mstr\u001b[0m\u001b[1;33m(\u001b[0m\u001b[0mp1\u001b[0m\u001b[1;33m[\u001b[0m\u001b[1;36m1\u001b[0m\u001b[1;33m]\u001b[0m\u001b[1;33m)\u001b[0m \u001b[1;33m+\u001b[0m\u001b[1;34m','\u001b[0m\u001b[1;33m+\u001b[0m \u001b[0mstr\u001b[0m\u001b[1;33m(\u001b[0m\u001b[0mp1\u001b[0m\u001b[1;33m[\u001b[0m\u001b[1;36m2\u001b[0m\u001b[1;33m]\u001b[0m\u001b[1;33m)\u001b[0m \u001b[1;33m+\u001b[0m \u001b[1;34m']'\u001b[0m\u001b[1;33m\u001b[0m\u001b[1;33m\u001b[0m\u001b[0m\n\u001b[0;32m      5\u001b[0m         \u001b[0mdistances_list1\u001b[0m\u001b[1;33m[\u001b[0m\u001b[0mindex_str\u001b[0m\u001b[1;33m]\u001b[0m \u001b[1;33m=\u001b[0m \u001b[1;33m[\u001b[0m\u001b[1;33m]\u001b[0m\u001b[1;33m\u001b[0m\u001b[1;33m\u001b[0m\u001b[0m\n",
      "\u001b[1;31mTypeError\u001b[0m: 'NoneType' object is not iterable"
     ]
    }
   ],
   "source": [
    "# get scanner ovelap\n",
    "while len(scanners) > 1:\n",
    "    scannerToMatch = None\n",
    "    for s1 in scanners[1:]:\n",
    "        if getOverlap(scanners[0],s1) != -1:\n",
    "            print('scanner found',scanners.index(s1))\n",
    "            scannerToMatch = s1.copy()\n",
    "            scanners.remove(s1)\n",
    "            break\n",
    "    #print(scannerToMatch)\n",
    "    p1,s1_r,s1_t = getOrigin(scanners[0],scannerToMatch)\n",
    "    print('scanner at: ', [0,0,0]*s1_r+s1_t)\n",
    "    helper = []\n",
    "    for ele in scannerToMatch:\n",
    "        xo = ele*s1_r+s1_t\n",
    "        if not np.round(xo).tolist()[0] in scanners[0]:\n",
    "            helper.append(np.round(xo).tolist()[0])\n",
    "    scanners[0] += helper\n",
    "print(len(scanners[0]))"
   ]
  },
  {
   "cell_type": "code",
   "execution_count": 51,
   "metadata": {},
   "outputs": [],
   "source": [
    "p1,s1_r,s1_t = getOrigin(scanners[0],scannerToMatch)"
   ]
  },
  {
   "cell_type": "code",
   "execution_count": 32,
   "metadata": {},
   "outputs": [
    {
     "name": "stdout",
     "output_type": "stream",
     "text": [
      "scanner 1 at:  [[   68. -1246.   -43.]] 25\n",
      "scanner 4 at:  [[  -20. -1133.  1061.]]\n",
      "scanner 3 at:  [[  -92. -2380.   -20.]]\n",
      "scanner 2 at:  [[ 1105. -1205.  1229.]]\n",
      "79\n"
     ]
    }
   ],
   "source": [
    "p1,s1_r,s1_t = getOrigin(scanners[0],scanners[1])\n",
    "print('scanner 1 at: ', [0,0,0]*s1_r+s1_t,len(scanners[0]))\n",
    "helper = []\n",
    "for ele in scanners[1]:\n",
    "    xo = ele*s1_r+s1_t\n",
    "    if not np.round(xo).tolist()[0] in scanners[0]:\n",
    "        helper.append(np.round(xo).tolist()[0])\n",
    "scanners[0] += helper\n",
    "\n",
    "p4,s4_r,s4_t = getOrigin(scanners[0],scanners[4])\n",
    "print('scanner 4 at: ', [0,0,0]*s4_r+s4_t)\n",
    "helper = []\n",
    "for ele in scanners[4]:\n",
    "    xo = ele*s4_r+s4_t\n",
    "    if not np.round(xo).tolist()[0] in scanners[0]:\n",
    "        helper.append(np.round(xo).tolist()[0])\n",
    "scanners[0] += helper\n",
    "\n",
    "p3,s3_r,s3_t = getOrigin(scanners[0],scanners[3])\n",
    "print('scanner 3 at: ', [0,0,0]*s3_r+s3_t)\n",
    "helper = []\n",
    "for ele in scanners[3]:\n",
    "    xo = ele*s3_r+s3_t\n",
    "    if not np.round(xo).tolist()[0] in scanners[0]:\n",
    "        helper.append(np.round(xo).tolist()[0])\n",
    "scanners[0] += helper\n",
    "\n",
    "p2,s2_r,s2_t = getOrigin(scanners[0],scanners[2])\n",
    "print('scanner 2 at: ', [0,0,0]*s2_r+s2_t)\n",
    "helper = []\n",
    "for ele in scanners[2]:\n",
    "    xo = ele*s2_r+s2_t\n",
    "    if not np.round(xo).tolist()[0] in scanners[0]:\n",
    "        helper.append(np.round(xo).tolist()[0])\n",
    "scanners[0] += helper\n",
    "print(len(scanners[0]))"
   ]
  },
  {
   "cell_type": "code",
   "execution_count": 26,
   "metadata": {},
   "outputs": [
    {
     "name": "stdout",
     "output_type": "stream",
     "text": [
      "79\n"
     ]
    }
   ],
   "source": []
  },
  {
   "cell_type": "code",
   "execution_count": null,
   "metadata": {},
   "outputs": [],
   "source": []
  }
 ],
 "metadata": {
  "interpreter": {
   "hash": "f21f743cc6c41fc33e520d2d26f99532d48e5b1bbd397170bfb0442f3e446286"
  },
  "kernelspec": {
   "display_name": "Python 3.9.1 64-bit",
   "name": "python3"
  },
  "language_info": {
   "codemirror_mode": {
    "name": "ipython",
    "version": 3
   },
   "file_extension": ".py",
   "mimetype": "text/x-python",
   "name": "python",
   "nbconvert_exporter": "python",
   "pygments_lexer": "ipython3",
   "version": "3.9.1"
  },
  "orig_nbformat": 4
 },
 "nbformat": 4,
 "nbformat_minor": 2
}
