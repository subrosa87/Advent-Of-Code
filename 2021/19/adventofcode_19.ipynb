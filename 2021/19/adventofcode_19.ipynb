{
 "cells": [
  {
   "cell_type": "code",
   "execution_count": null,
   "metadata": {},
   "outputs": [],
   "source": [
    "import pandas as pd\n",
    "import re\n",
    "import matplotlib.pyplot as plt\n",
    "import numpy as np\n",
    "import random\n",
    "from collections import Counter\n",
    "import itertools\n",
    "import networkx as nx\n",
    "import ast\n",
    "import math"
   ]
  },
  {
   "cell_type": "code",
   "execution_count": null,
   "metadata": {},
   "outputs": [],
   "source": [
    "def centeroidnp(arr):\n",
    "    length = arr.shape[0]\n",
    "    sum_x = np.sum(arr[:, 0])\n",
    "    sum_y = np.sum(arr[:, 1])\n",
    "    sum_z = np.sum(arr[:, 2])\n",
    "    return (sum_x/length, sum_y/length, sum_z/length)"
   ]
  },
  {
   "cell_type": "code",
   "execution_count": null,
   "metadata": {},
   "outputs": [],
   "source": [
    "def split(word):\n",
    "    return [char for char in word]"
   ]
  },
  {
   "cell_type": "code",
   "execution_count": 313,
   "metadata": {},
   "outputs": [
    {
     "name": "stdout",
     "output_type": "stream",
     "text": [
      "25 25\n",
      "[[ 404 -588 -901]\n",
      " [ 528 -643  409]\n",
      " [-838  591  734]\n",
      " [ 390 -675 -793]\n",
      " [-537 -823 -458]\n",
      " [-485 -357  347]\n",
      " [-345 -311  381]\n",
      " [-661 -816 -575]\n",
      " [-876  649  763]\n",
      " [-618 -824 -621]\n",
      " [ 553  345 -567]\n",
      " [ 474  580  667]\n",
      " [-447 -329  318]\n",
      " [-584  868 -557]\n",
      " [ 544 -627 -890]\n",
      " [ 564  392 -477]\n",
      " [ 455  729  728]\n",
      " [-892  524  684]\n",
      " [-689  845 -530]\n",
      " [ 423 -701  434]\n",
      " [   7  -33  -71]\n",
      " [ 630  319 -379]\n",
      " [ 443  580  662]\n",
      " [-789  900 -551]\n",
      " [ 459 -707  401]]\n"
     ]
    }
   ],
   "source": [
    "# Using readlines()\n",
    "file1 = open('aoc-19', 'r')\n",
    "file1 = open('aoc-19-ex2', 'r')\n",
    "file1 = open('aoc-19-ex', 'r')\n",
    "Lines = file1.readlines()\n",
    "Lines = [x.replace('\\n','') for x in Lines]\n",
    "scanners = []\n",
    "helper = []\n",
    "for ele in Lines:\n",
    "    if ele.find('scanner') > 0 :\n",
    "        scanners.append(np.array(helper))\n",
    "        helper = []\n",
    "    else:\n",
    "        xo = ele.split(',')\n",
    "        helper.append([int(xo[0]),int(xo[1]),int(xo[2])])\n",
    "scanners.append(np.array(helper))\n",
    "print(len(scanners[1]),len(scanners[2]))\n",
    "print(scanners[1])"
   ]
  },
  {
   "cell_type": "code",
   "execution_count": 315,
   "metadata": {},
   "outputs": [
    {
     "data": {
      "text/plain": [
       "False"
      ]
     },
     "execution_count": 315,
     "metadata": {},
     "output_type": "execute_result"
    }
   ],
   "source": [
    "all(np.array([553,889,-390])) in scanners[1]"
   ]
  },
  {
   "cell_type": "code",
   "execution_count": null,
   "metadata": {},
   "outputs": [],
   "source": [
    "asdf = [np.array([1,1,1])]\n",
    "print(all(np.array([1,1,1])) in asdf)"
   ]
  },
  {
   "cell_type": "code",
   "execution_count": 226,
   "metadata": {},
   "outputs": [],
   "source": [
    "dist1 = {}\n",
    "dist_all = []\n",
    "for x in scanners[1]:\n",
    "    #if np.array_equal(x,[-618,-824,-621]):\n",
    "    for y in scanners[1]:\n",
    "        if not np.array_equal(x,y):\n",
    "            #print(x,y,abs(x-y))\n",
    "            dist1[str(abs(x-y))] = (x,y) #.append(((x,y),str(abs(x-y))))\n",
    "            dist_all.append(str(abs(x-y)))\n",
    "\n",
    "dist2 = {}\n",
    "for x in scanners[2]:\n",
    "    #if np.array_equal(x,[686,422,578]):\n",
    "    for y in scanners[2]:\n",
    "        if not np.array_equal(x,y):\n",
    "            #print(x,y,abs(x-y))\n",
    "            dist_all.append(str(abs(x-y)))\n",
    "            dist2[str(abs(x-y))] = (x,y)\n",
    "#\n",
    "##cnt = Counter(dist_all)\n",
    "##print(cnt.most_common(12))\n",
    "#print(dist_all)"
   ]
  },
  {
   "cell_type": "code",
   "execution_count": 254,
   "metadata": {},
   "outputs": [],
   "source": [
    "cnt = Counter(dist_all)\n",
    "fours = []\n",
    "for ele in cnt:\n",
    "    if cnt[ele] == 4:\n",
    "        fours.append(ele)\n",
    "#print(set(fours),len(set(fours)))\n",
    "final_points = []\n",
    "for ele in set(fours):\n",
    "    #print(ele, dist1[ele],dist2[ele])\n",
    "    final_points.append(str(dist1[ele][0]))\n",
    "    final_points.append(str(dist1[ele][1]))\n",
    "    final_points.append(str(dist2[ele][0]))\n",
    "    final_points.append(str(dist2[ele][1]))\n",
    "\n"
   ]
  },
  {
   "cell_type": "code",
   "execution_count": 269,
   "metadata": {},
   "outputs": [],
   "source": [
    "def strToArray(input):\n",
    "    helper = re.findall('\\-*\\d+',input)\n",
    "    #print(helper)\n",
    "    return np.array([int(helper[0]),int(helper[1]),int(helper[2])])"
   ]
  },
  {
   "cell_type": "code",
   "execution_count": 306,
   "metadata": {},
   "outputs": [
    {
     "data": {
      "text/plain": [
       "24"
      ]
     },
     "execution_count": 306,
     "metadata": {},
     "output_type": "execute_result"
    }
   ],
   "source": [
    "len(np.unique(final_points))"
   ]
  },
  {
   "cell_type": "code",
   "execution_count": 321,
   "metadata": {},
   "outputs": [],
   "source": [
    "def elementInList(element,array):\n",
    "    for ele in array:\n",
    "        if np.array_equal(ele,element):\n",
    "            return True\n",
    "    return False"
   ]
  },
  {
   "cell_type": "code",
   "execution_count": 324,
   "metadata": {},
   "outputs": [
    {
     "data": {
      "text/plain": [
       "'[-345 -311  381]'"
      ]
     },
     "execution_count": 324,
     "metadata": {},
     "output_type": "execute_result"
    }
   ],
   "source": [
    "final_points[0]"
   ]
  },
  {
   "cell_type": "code",
   "execution_count": 326,
   "metadata": {},
   "outputs": [
    {
     "data": {
      "text/plain": [
       "True"
      ]
     },
     "execution_count": 326,
     "metadata": {},
     "output_type": "execute_result"
    }
   ],
   "source": [
    "elementInList(strToArray(final_points[0]),scanners[1])"
   ]
  },
  {
   "cell_type": "code",
   "execution_count": 327,
   "metadata": {},
   "outputs": [
    {
     "name": "stdout",
     "output_type": "stream",
     "text": [
      "24\n"
     ]
    }
   ],
   "source": [
    "V0 = []\n",
    "V1 = []\n",
    "print(len(np.unique(final_points)))\n",
    "for ele in np.unique(final_points):\n",
    "    if elementInList(strToArray(ele),scanners[1]):\n",
    "        V0.append(strToArray(ele))\n",
    "    if elementInList(strToArray(ele),scanners[2]):\n",
    "        V1.append(strToArray(ele))        \n",
    "V0 = np.matrix(V0)\n",
    "V1 = np.matrix(V1)"
   ]
  },
  {
   "cell_type": "code",
   "execution_count": 329,
   "metadata": {},
   "outputs": [
    {
     "name": "stdout",
     "output_type": "stream",
     "text": [
      "12 12\n"
     ]
    }
   ],
   "source": [
    "print(len(V0),len(V1))"
   ]
  },
  {
   "cell_type": "code",
   "execution_count": 302,
   "metadata": {},
   "outputs": [
    {
     "data": {
      "text/plain": [
       "True"
      ]
     },
     "execution_count": 302,
     "metadata": {},
     "output_type": "execute_result"
    }
   ],
   "source": [
    "strToArray('[-355,  545, -477]') in scanners[2]"
   ]
  },
  {
   "cell_type": "code",
   "execution_count": 336,
   "metadata": {},
   "outputs": [],
   "source": [
    "A =np.matrix([[-618,-824,-621],\n",
    "[-537,-823,-458],\n",
    "[-447,-329,318],\n",
    "[404,-588,-901],\n",
    "[544,-627,-890],\n",
    "[528,-643,409],\n",
    "[-661,-816,-575],\n",
    "[390,-675,-793],\n",
    "[423,-701,434],\n",
    "[-345,-311,381],\n",
    "[459,-707,401],\n",
    "[-485,-357,347]])\n",
    "\n",
    "B = np.matrix([[686,422,578],\n",
    "[605,423,415],\n",
    "[515,917,-361],\n",
    "[-336,658,858],\n",
    "[-476,619,847],\n",
    "[-460,603,-452],\n",
    "[729,430,532],\n",
    "[-322,571,750],\n",
    "[-355,545,-477],\n",
    "[413,935,-424],\n",
    "[-391,539,-444],\n",
    "[553,889,-390]])"
   ]
  },
  {
   "cell_type": "code",
   "execution_count": null,
   "metadata": {},
   "outputs": [],
   "source": []
  },
  {
   "cell_type": "code",
   "execution_count": 289,
   "metadata": {},
   "outputs": [],
   "source": [
    "# Input: expects 3xN matrix of points\n",
    "# Returns R,t\n",
    "# R = 3x3 rotation matrix\n",
    "# t = 3x1 column vector\n",
    "\n",
    "def rigid_transform_3D(A, B):\n",
    "    assert A.shape == B.shape\n",
    "\n",
    "    num_rows, num_cols = A.shape\n",
    "    if num_rows != 3:\n",
    "        raise Exception(f\"matrix A is not 3xN, it is {num_rows}x{num_cols}\")\n",
    "\n",
    "    num_rows, num_cols = B.shape\n",
    "    if num_rows != 3:\n",
    "        raise Exception(f\"matrix B is not 3xN, it is {num_rows}x{num_cols}\")\n",
    "\n",
    "    # find mean column wise\n",
    "    centroid_A = np.mean(A, axis=1)\n",
    "    centroid_B = np.mean(B, axis=1)\n",
    "\n",
    "    # ensure centroids are 3x1\n",
    "    centroid_A = centroid_A.reshape(-1, 1)\n",
    "    centroid_B = centroid_B.reshape(-1, 1)\n",
    "\n",
    "    # subtract mean\n",
    "    Am = A - centroid_A\n",
    "    Bm = B - centroid_B\n",
    "\n",
    "    H = Am @ np.transpose(Bm)\n",
    "\n",
    "    # sanity check\n",
    "    #if linalg.matrix_rank(H) < 3:\n",
    "    #    raise ValueError(\"rank of H = {}, expecting 3\".format(linalg.matrix_rank(H)))\n",
    "\n",
    "    # find rotation\n",
    "    U, S, Vt = np.linalg.svd(H)\n",
    "    R = Vt.T @ U.T\n",
    "\n",
    "    # special reflection case\n",
    "    if np.linalg.det(R) < 0:\n",
    "        print(\"det(R) < R, reflection detected!, correcting for it ...\")\n",
    "        Vt[2,:] *= -1\n",
    "        R = Vt.T @ U.T\n",
    "\n",
    "    t = -R @ centroid_A + centroid_B\n",
    "\n",
    "    return R, t"
   ]
  },
  {
   "cell_type": "code",
   "execution_count": 340,
   "metadata": {},
   "outputs": [
    {
     "data": {
      "text/plain": [
       "matrix([[-618, -537, -447,  404,  544,  528, -661,  390,  423, -345,\n",
       "          459, -485],\n",
       "        [-824, -823, -329, -588, -627, -643, -816, -675, -701, -311,\n",
       "         -707, -357],\n",
       "        [-621, -458,  318, -901, -890,  409, -575, -793,  434,  381,\n",
       "          401,  347]])"
      ]
     },
     "execution_count": 340,
     "metadata": {},
     "output_type": "execute_result"
    }
   ],
   "source": [
    "A.H"
   ]
  },
  {
   "cell_type": "code",
   "execution_count": 339,
   "metadata": {},
   "outputs": [
    {
     "data": {
      "text/plain": [
       "matrix([[ 390,  404,  423,  459,  528,  544, -345, -447, -485, -537,\n",
       "         -618, -661],\n",
       "        [-675, -588, -701, -707, -643, -627, -311, -329, -357, -823,\n",
       "         -824, -816],\n",
       "        [-793, -901,  434,  401,  409, -890,  381,  318,  347, -458,\n",
       "         -621, -575]])"
      ]
     },
     "execution_count": 339,
     "metadata": {},
     "output_type": "execute_result"
    }
   ],
   "source": [
    "V0.H"
   ]
  },
  {
   "cell_type": "code",
   "execution_count": 337,
   "metadata": {},
   "outputs": [
    {
     "name": "stdout",
     "output_type": "stream",
     "text": [
      "[[-1.00000000e+00 -1.38777878e-17 -3.29597460e-17]\n",
      " [ 0.00000000e+00  1.00000000e+00  2.22044605e-16]\n",
      " [ 1.38777878e-17  1.94289029e-16 -1.00000000e+00]] [[  68.]\n",
      " [1246.]\n",
      " [ -43.]]\n"
     ]
    }
   ],
   "source": [
    "ret_R, ret_t = rigid_transform_3D(A.H,B.H)\n",
    "print(ret_R,ret_t)"
   ]
  },
  {
   "cell_type": "code",
   "execution_count": 341,
   "metadata": {},
   "outputs": [
    {
     "ename": "NameError",
     "evalue": "name 'ret_r' is not defined",
     "output_type": "error",
     "traceback": [
      "\u001b[1;31m---------------------------------------------------------------------------\u001b[0m",
      "\u001b[1;31mNameError\u001b[0m                                 Traceback (most recent call last)",
      "\u001b[1;32m<ipython-input-341-020702e0fa1d>\u001b[0m in \u001b[0;36m<module>\u001b[1;34m\u001b[0m\n\u001b[1;32m----> 1\u001b[1;33m \u001b[1;33m[\u001b[0m\u001b[1;36m0\u001b[0m\u001b[1;33m,\u001b[0m\u001b[1;36m0\u001b[0m\u001b[1;33m,\u001b[0m\u001b[1;36m0\u001b[0m\u001b[1;33m]\u001b[0m \u001b[1;33m*\u001b[0m \u001b[0mret_r\u001b[0m \u001b[1;33m+\u001b[0m \u001b[0mret_t\u001b[0m\u001b[1;33m\u001b[0m\u001b[1;33m\u001b[0m\u001b[0m\n\u001b[0m",
      "\u001b[1;31mNameError\u001b[0m: name 'ret_r' is not defined"
     ]
    }
   ],
   "source": [
    "[0,0,0] * ret_R + ret_t"
   ]
  },
  {
   "cell_type": "code",
   "execution_count": null,
   "metadata": {},
   "outputs": [],
   "source": [
    "C = np.matrix([[459,-707,401],\n",
    "[-739,-1745,668],\n",
    "[-485,-357,347],\n",
    "[432,-2009,850],\n",
    "[528,-643,409],\n",
    "[423,-701,434],\n",
    "[-345,-311,381],\n",
    "[408,-1815,803],\n",
    "[534,-1912,768],\n",
    "[-687,-1600,576],\n",
    "[-447,-329,318],\n",
    "[-635,-1737,486]])"
   ]
  },
  {
   "cell_type": "code",
   "execution_count": 293,
   "metadata": {},
   "outputs": [
    {
     "data": {
      "text/plain": [
       "(12, 3)"
      ]
     },
     "execution_count": 293,
     "metadata": {},
     "output_type": "execute_result"
    }
   ],
   "source": [
    "V1.shape"
   ]
  },
  {
   "cell_type": "code",
   "execution_count": 334,
   "metadata": {},
   "outputs": [],
   "source": []
  },
  {
   "cell_type": "code",
   "execution_count": 335,
   "metadata": {},
   "outputs": [
    {
     "name": "stdout",
     "output_type": "stream",
     "text": [
      "[[-0.25925617 -0.52762642 -0.80894783]\n",
      " [ 0.82372971 -0.55809171  0.100015  ]\n",
      " [-0.50423764 -0.64042486  0.57931028]] [[-367.43640727]\n",
      " [ 324.96493319]\n",
      " [-196.10416212]]\n"
     ]
    }
   ],
   "source": []
  }
 ],
 "metadata": {
  "interpreter": {
   "hash": "f21f743cc6c41fc33e520d2d26f99532d48e5b1bbd397170bfb0442f3e446286"
  },
  "kernelspec": {
   "display_name": "Python 3.9.1 64-bit",
   "name": "python3"
  },
  "language_info": {
   "codemirror_mode": {
    "name": "ipython",
    "version": 3
   },
   "file_extension": ".py",
   "mimetype": "text/x-python",
   "name": "python",
   "nbconvert_exporter": "python",
   "pygments_lexer": "ipython3",
   "version": "3.8.1"
  },
  "orig_nbformat": 4
 },
 "nbformat": 4,
 "nbformat_minor": 2
}
