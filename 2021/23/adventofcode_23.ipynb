{
 "cells": [
  {
   "cell_type": "code",
   "execution_count": 1,
   "metadata": {},
   "outputs": [],
   "source": [
    "import pandas as pd\n",
    "import re\n",
    "import matplotlib.pyplot as plt\n",
    "import numpy as np\n",
    "import random\n",
    "from collections import Counter\n",
    "import itertools\n",
    "import networkx as nx\n",
    "import ast\n",
    "import math"
   ]
  },
  {
   "cell_type": "code",
   "execution_count": 8,
   "metadata": {},
   "outputs": [],
   "source": [
    "# Using readlines()\n",
    "file1 = open('aoc-23', 'r')\n",
    "file1 = open('aoc-23-ex', 'r')\n",
    "Lines = file1.readlines()\n",
    "\n",
    "#Amber amphipods require 1 energy per step, \n",
    "#Bronze amphipods require 10 energy, \n",
    "#Copper amphipods require 100, \n",
    "#Desert ones require 1000.\n",
    "costs = {'A' : 1 , 'B' : 10, 'C' : 100, 'D' : 1000} \n",
    "floor = ['#']+['.']*11+['#']\n",
    "rooms = [['C','B'],['D','A'],['D','B'],['A','C']]\n",
    "rooms_2 = [['A','A'],['B','B'],['C','C'],['D','D']]\n",
    "\n",
    "def checkGameState(rooms):\n",
    "    return rooms[0] == ['A','A'] and rooms[1] == ['B','B'] and rooms[2] == ['C','C'] and rooms[3] == ['D','D']\n",
    "#Input\n",
    "#############\n",
    "#...........#\n",
    "###C#D#D#A###\n",
    "  #B#A#B#C#\n",
    "  #########\n"
   ]
  },
  {
   "cell_type": "code",
   "execution_count": 9,
   "metadata": {},
   "outputs": [
    {
     "name": "stdout",
     "output_type": "stream",
     "text": [
      "['#', '.', '.', '.', '.', '.', '.', '.', '.', '.', '.', '.', '#']\n",
      "False\n"
     ]
    }
   ],
   "source": [
    "print(floor)\n",
    "print(checkGameState(rooms))"
   ]
  },
  {
   "cell_type": "code",
   "execution_count": null,
   "metadata": {},
   "outputs": [],
   "source": []
  }
 ],
 "metadata": {
  "interpreter": {
   "hash": "f21f743cc6c41fc33e520d2d26f99532d48e5b1bbd397170bfb0442f3e446286"
  },
  "kernelspec": {
   "display_name": "Python 3.9.1 64-bit",
   "name": "python3"
  },
  "language_info": {
   "codemirror_mode": {
    "name": "ipython",
    "version": 3
   },
   "file_extension": ".py",
   "mimetype": "text/x-python",
   "name": "python",
   "nbconvert_exporter": "python",
   "pygments_lexer": "ipython3",
   "version": "3.8.1"
  },
  "orig_nbformat": 4
 },
 "nbformat": 4,
 "nbformat_minor": 2
}
