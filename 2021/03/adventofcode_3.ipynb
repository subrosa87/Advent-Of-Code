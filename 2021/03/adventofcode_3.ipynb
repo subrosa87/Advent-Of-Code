{
 "cells": [
  {
   "cell_type": "code",
   "execution_count": 1,
   "metadata": {},
   "outputs": [],
   "source": [
    "import pandas as pd"
   ]
  },
  {
   "cell_type": "code",
   "execution_count": 33,
   "metadata": {},
   "outputs": [],
   "source": []
  },
  {
   "cell_type": "code",
   "execution_count": 154,
   "metadata": {},
   "outputs": [
    {
     "name": "stdout",
     "output_type": "stream",
     "text": [
      "101000000110\n",
      "010111111001\n",
      "------\n",
      "2566\n",
      "1529\n",
      "------\n",
      "result:  3923414\n",
      "------\n",
      "result_1_str 101101100111\n",
      "result_1_str 2919\n",
      "------\n",
      "result_2_str 011111010101\n",
      "result_2_str 2005\n",
      "------\n",
      "endresult:  5852595\n"
     ]
    }
   ],
   "source": [
    "file1 = open('input.txt', 'r')\n",
    "#file1 = open('input.txt', 'r')\n",
    "Lines = file1.readlines()\n",
    "\n",
    "input_len = len(Lines[0].replace('\\n',''))\n",
    "\n",
    "bits_arr = []\n",
    "for i in range(0,input_len):\n",
    "    bits_arr.append([])\n",
    "for ele in Lines:\n",
    "    ele_str = ele.replace('\\n','')\n",
    "    for i in range(0,input_len):\n",
    "        bits_arr[i].append(int(ele_str[i]))\n",
    "\n",
    "gamma_rate_str = ''\n",
    "epsilon_rate_str = ''\n",
    "for ele in bits_arr:\n",
    "    ones = 0\n",
    "    zeros = 0\n",
    "    for bit in ele:\n",
    "        if bit == 1:\n",
    "            ones += 1\n",
    "        if bit == 0:\n",
    "            zeros += 1    \n",
    "    if ones > zeros:\n",
    "        gamma_rate_str +='1'              \n",
    "        epsilon_rate_str += '0'\n",
    "    else:\n",
    "        gamma_rate_str +='0'              \n",
    "        epsilon_rate_str += '1'        \n",
    "\n",
    "print(gamma_rate_str)                    \n",
    "print(epsilon_rate_str)                    \n",
    "print('------')  \n",
    "print(int(gamma_rate_str,2))\n",
    "print(int(epsilon_rate_str,2))\n",
    "print('------')  \n",
    "print('result: ' , int(gamma_rate_str,2)*int(epsilon_rate_str,2))\n",
    "\n",
    "numbers = []\n",
    "for ele in Lines: \n",
    "    numbers.append([int(c) for c in ele.replace('\\n','')] )\n",
    "df = pd.DataFrame(data=numbers)\n",
    "\n",
    "\n",
    "def validateDF(input_df,index):\n",
    "    if len(input_df) == 1:\n",
    "        return input_df\n",
    "    else:\n",
    "        if (input_df[index].sum() / input_df[index].count() >= 0.5):\n",
    "            return validateDF(input_df[input_df[index]==1],index+1)\n",
    "        else:\n",
    "            return validateDF(input_df[input_df[index]==0],index+1)\n",
    "\n",
    "\n",
    "def validateDF_2(input_df,index):\n",
    "    if len(input_df) == 1:\n",
    "        return input_df\n",
    "    else:\n",
    "        if (input_df[input_df[index]==1].count() >= input_df[input_df[index]==0].count())[0]:\n",
    "            return validateDF_2(input_df[input_df[index]==0],index+1)\n",
    "        else:\n",
    "            return validateDF_2(input_df[input_df[index]==1],index+1)\n",
    "\n",
    "\n",
    "helper_df = df\n",
    "result_1 = validateDF(helper_df,0)\n",
    "\n",
    "helper_df = df\n",
    "result_2 = validateDF_2(helper_df,0)\n",
    "\n",
    "print('------')  \n",
    "result_1_str = ''\n",
    "for ele in result_1.iloc()[0]:\n",
    "    result_1_str += str(ele)\n",
    "print('result_1_str',result_1_str)    \n",
    "print('result_1_str',int(result_1_str,2))    \n",
    "print('------')  \n",
    "result_2_str = ''\n",
    "for ele in result_2.iloc()[0]:\n",
    "    result_2_str += str(ele)\n",
    "print('result_2_str',result_2_str)    \n",
    "print('result_2_str',int(result_2_str,2))    \n",
    "print('------')  \n",
    "print('endresult: ', int(result_2_str,2)*int(result_1_str,2))"
   ]
  },
  {
   "cell_type": "code",
   "execution_count": 151,
   "metadata": {},
   "outputs": [
    {
     "name": "stdout",
     "output_type": "stream",
     "text": [
      "result_1_str 10111\n",
      "result_1_str 23\n"
     ]
    }
   ],
   "source": [
    "result_1_str = ''\n",
    "for ele in result_1.iloc()[0]:\n",
    "    result_1_str += str(ele)\n",
    "print('result_1_str',result_1_str)    \n",
    "print('result_1_str',int(result_1_str,2))    "
   ]
  },
  {
   "cell_type": "code",
   "execution_count": 72,
   "metadata": {},
   "outputs": [],
   "source": [
    "def validateDF(input_df,index):\n",
    "    if len(input_df) == 1:\n",
    "        return input_df\n",
    "    else:\n",
    "        if (input_df[index].sum() / input_df[index].count() >= 0.5):\n",
    "            return validateDF(input_df[input_df[index]==1],index+1)\n",
    "        else:\n",
    "            return validateDF(input_df[input_df[index]==0],index+1)"
   ]
  },
  {
   "cell_type": "code",
   "execution_count": 139,
   "metadata": {},
   "outputs": [],
   "source": [
    "def validateDF_2(input_df,index):\n",
    "    if len(input_df) == 1:\n",
    "        return input_df\n",
    "    else:\n",
    "        if (input_df[input_df[index]==1].count() >= input_df[input_df[index]==0].count())[0]:\n",
    "            return validateDF_2(input_df[input_df[index]==0],index+1)\n",
    "        else:\n",
    "            return validateDF_2(input_df[input_df[index]==1],index+1)"
   ]
  },
  {
   "cell_type": "code",
   "execution_count": 140,
   "metadata": {},
   "outputs": [
    {
     "data": {
      "text/html": [
       "<div>\n",
       "<style scoped>\n",
       "    .dataframe tbody tr th:only-of-type {\n",
       "        vertical-align: middle;\n",
       "    }\n",
       "\n",
       "    .dataframe tbody tr th {\n",
       "        vertical-align: top;\n",
       "    }\n",
       "\n",
       "    .dataframe thead th {\n",
       "        text-align: right;\n",
       "    }\n",
       "</style>\n",
       "<table border=\"1\" class=\"dataframe\">\n",
       "  <thead>\n",
       "    <tr style=\"text-align: right;\">\n",
       "      <th></th>\n",
       "      <th>0</th>\n",
       "      <th>1</th>\n",
       "      <th>2</th>\n",
       "      <th>3</th>\n",
       "      <th>4</th>\n",
       "    </tr>\n",
       "  </thead>\n",
       "  <tbody>\n",
       "    <tr>\n",
       "      <th>11</th>\n",
       "      <td>0</td>\n",
       "      <td>1</td>\n",
       "      <td>0</td>\n",
       "      <td>1</td>\n",
       "      <td>0</td>\n",
       "    </tr>\n",
       "  </tbody>\n",
       "</table>\n",
       "</div>"
      ],
      "text/plain": [
       "    0  1  2  3  4\n",
       "11  0  1  0  1  0"
      ]
     },
     "execution_count": 140,
     "metadata": {},
     "output_type": "execute_result"
    }
   ],
   "source": [
    "validateDF_2(helper_df,0)"
   ]
  },
  {
   "cell_type": "code",
   "execution_count": 122,
   "metadata": {},
   "outputs": [],
   "source": [
    "helper_df = df\n",
    "result_1 = validateDF(helper_df,0)"
   ]
  },
  {
   "cell_type": "code",
   "execution_count": 89,
   "metadata": {},
   "outputs": [
    {
     "data": {
      "text/html": [
       "<div>\n",
       "<style scoped>\n",
       "    .dataframe tbody tr th:only-of-type {\n",
       "        vertical-align: middle;\n",
       "    }\n",
       "\n",
       "    .dataframe tbody tr th {\n",
       "        vertical-align: top;\n",
       "    }\n",
       "\n",
       "    .dataframe thead th {\n",
       "        text-align: right;\n",
       "    }\n",
       "</style>\n",
       "<table border=\"1\" class=\"dataframe\">\n",
       "  <thead>\n",
       "    <tr style=\"text-align: right;\">\n",
       "      <th></th>\n",
       "      <th>0</th>\n",
       "      <th>1</th>\n",
       "      <th>2</th>\n",
       "      <th>3</th>\n",
       "      <th>4</th>\n",
       "    </tr>\n",
       "  </thead>\n",
       "  <tbody>\n",
       "    <tr>\n",
       "      <th>3</th>\n",
       "      <td>1</td>\n",
       "      <td>0</td>\n",
       "      <td>1</td>\n",
       "      <td>1</td>\n",
       "      <td>1</td>\n",
       "    </tr>\n",
       "  </tbody>\n",
       "</table>\n",
       "</div>"
      ],
      "text/plain": [
       "   0  1  2  3  4\n",
       "3  1  0  1  1  1"
      ]
     },
     "execution_count": 89,
     "metadata": {},
     "output_type": "execute_result"
    }
   ],
   "source": [
    "result_1"
   ]
  },
  {
   "cell_type": "code",
   "execution_count": 93,
   "metadata": {},
   "outputs": [
    {
     "name": "stdout",
     "output_type": "stream",
     "text": [
      "result_1_str: 3    1\n",
      "Name: 0, dtype: int643    0\n",
      "Name: 1, dtype: int643    1\n",
      "Name: 2, dtype: int643    1\n",
      "Name: 3, dtype: int643    1\n",
      "Name: 4, dtype: int64\n"
     ]
    }
   ],
   "source": [
    "result_1_str = ''\n",
    "for i in range(0,input_len):\n",
    "    result_1_str += str(result_1[i])\n",
    "print('result_1_str:',result_1_str)    \n",
    "#print('result_1_int:',int(result_1_str,2))    "
   ]
  },
  {
   "cell_type": "code",
   "execution_count": 85,
   "metadata": {},
   "outputs": [
    {
     "data": {
      "text/html": [
       "<div>\n",
       "<style scoped>\n",
       "    .dataframe tbody tr th:only-of-type {\n",
       "        vertical-align: middle;\n",
       "    }\n",
       "\n",
       "    .dataframe tbody tr th {\n",
       "        vertical-align: top;\n",
       "    }\n",
       "\n",
       "    .dataframe thead th {\n",
       "        text-align: right;\n",
       "    }\n",
       "</style>\n",
       "<table border=\"1\" class=\"dataframe\">\n",
       "  <thead>\n",
       "    <tr style=\"text-align: right;\">\n",
       "      <th></th>\n",
       "      <th>0</th>\n",
       "      <th>1</th>\n",
       "      <th>2</th>\n",
       "      <th>3</th>\n",
       "      <th>4</th>\n",
       "    </tr>\n",
       "  </thead>\n",
       "  <tbody>\n",
       "    <tr>\n",
       "      <th>6</th>\n",
       "      <td>0</td>\n",
       "      <td>0</td>\n",
       "      <td>1</td>\n",
       "      <td>1</td>\n",
       "      <td>1</td>\n",
       "    </tr>\n",
       "  </tbody>\n",
       "</table>\n",
       "</div>"
      ],
      "text/plain": [
       "   0  1  2  3  4\n",
       "6  0  0  1  1  1"
      ]
     },
     "execution_count": 85,
     "metadata": {},
     "output_type": "execute_result"
    }
   ],
   "source": [
    "helper_df = df\n",
    "validateDF_2(helper_df,0)"
   ]
  },
  {
   "cell_type": "code",
   "execution_count": 95,
   "metadata": {},
   "outputs": [
    {
     "data": {
      "text/html": [
       "<div>\n",
       "<style scoped>\n",
       "    .dataframe tbody tr th:only-of-type {\n",
       "        vertical-align: middle;\n",
       "    }\n",
       "\n",
       "    .dataframe tbody tr th {\n",
       "        vertical-align: top;\n",
       "    }\n",
       "\n",
       "    .dataframe thead th {\n",
       "        text-align: right;\n",
       "    }\n",
       "</style>\n",
       "<table border=\"1\" class=\"dataframe\">\n",
       "  <thead>\n",
       "    <tr style=\"text-align: right;\">\n",
       "      <th></th>\n",
       "      <th>0</th>\n",
       "      <th>1</th>\n",
       "      <th>2</th>\n",
       "      <th>3</th>\n",
       "      <th>4</th>\n",
       "    </tr>\n",
       "  </thead>\n",
       "  <tbody>\n",
       "    <tr>\n",
       "      <th>0</th>\n",
       "      <td>0</td>\n",
       "      <td>0</td>\n",
       "      <td>1</td>\n",
       "      <td>0</td>\n",
       "      <td>0</td>\n",
       "    </tr>\n",
       "    <tr>\n",
       "      <th>1</th>\n",
       "      <td>1</td>\n",
       "      <td>1</td>\n",
       "      <td>1</td>\n",
       "      <td>1</td>\n",
       "      <td>0</td>\n",
       "    </tr>\n",
       "    <tr>\n",
       "      <th>2</th>\n",
       "      <td>1</td>\n",
       "      <td>0</td>\n",
       "      <td>1</td>\n",
       "      <td>1</td>\n",
       "      <td>0</td>\n",
       "    </tr>\n",
       "    <tr>\n",
       "      <th>3</th>\n",
       "      <td>1</td>\n",
       "      <td>0</td>\n",
       "      <td>1</td>\n",
       "      <td>1</td>\n",
       "      <td>1</td>\n",
       "    </tr>\n",
       "    <tr>\n",
       "      <th>4</th>\n",
       "      <td>1</td>\n",
       "      <td>0</td>\n",
       "      <td>1</td>\n",
       "      <td>0</td>\n",
       "      <td>1</td>\n",
       "    </tr>\n",
       "    <tr>\n",
       "      <th>5</th>\n",
       "      <td>0</td>\n",
       "      <td>1</td>\n",
       "      <td>1</td>\n",
       "      <td>1</td>\n",
       "      <td>1</td>\n",
       "    </tr>\n",
       "    <tr>\n",
       "      <th>6</th>\n",
       "      <td>0</td>\n",
       "      <td>0</td>\n",
       "      <td>1</td>\n",
       "      <td>1</td>\n",
       "      <td>1</td>\n",
       "    </tr>\n",
       "    <tr>\n",
       "      <th>7</th>\n",
       "      <td>1</td>\n",
       "      <td>1</td>\n",
       "      <td>1</td>\n",
       "      <td>0</td>\n",
       "      <td>0</td>\n",
       "    </tr>\n",
       "    <tr>\n",
       "      <th>8</th>\n",
       "      <td>1</td>\n",
       "      <td>0</td>\n",
       "      <td>0</td>\n",
       "      <td>0</td>\n",
       "      <td>0</td>\n",
       "    </tr>\n",
       "    <tr>\n",
       "      <th>9</th>\n",
       "      <td>1</td>\n",
       "      <td>1</td>\n",
       "      <td>0</td>\n",
       "      <td>0</td>\n",
       "      <td>1</td>\n",
       "    </tr>\n",
       "    <tr>\n",
       "      <th>10</th>\n",
       "      <td>0</td>\n",
       "      <td>0</td>\n",
       "      <td>0</td>\n",
       "      <td>1</td>\n",
       "      <td>0</td>\n",
       "    </tr>\n",
       "    <tr>\n",
       "      <th>11</th>\n",
       "      <td>0</td>\n",
       "      <td>1</td>\n",
       "      <td>0</td>\n",
       "      <td>1</td>\n",
       "      <td>0</td>\n",
       "    </tr>\n",
       "  </tbody>\n",
       "</table>\n",
       "</div>"
      ],
      "text/plain": [
       "    0  1  2  3  4\n",
       "0   0  0  1  0  0\n",
       "1   1  1  1  1  0\n",
       "2   1  0  1  1  0\n",
       "3   1  0  1  1  1\n",
       "4   1  0  1  0  1\n",
       "5   0  1  1  1  1\n",
       "6   0  0  1  1  1\n",
       "7   1  1  1  0  0\n",
       "8   1  0  0  0  0\n",
       "9   1  1  0  0  1\n",
       "10  0  0  0  1  0\n",
       "11  0  1  0  1  0"
      ]
     },
     "execution_count": 95,
     "metadata": {},
     "output_type": "execute_result"
    }
   ],
   "source": [
    "df"
   ]
  },
  {
   "cell_type": "code",
   "execution_count": 98,
   "metadata": {},
   "outputs": [
    {
     "data": {
      "text/plain": [
       "False"
      ]
     },
     "execution_count": 98,
     "metadata": {},
     "output_type": "execute_result"
    }
   ],
   "source": [
    "df[1].sum() / df[1].count() >= 0.5 "
   ]
  },
  {
   "cell_type": "code",
   "execution_count": 97,
   "metadata": {},
   "outputs": [
    {
     "data": {
      "text/html": [
       "<div>\n",
       "<style scoped>\n",
       "    .dataframe tbody tr th:only-of-type {\n",
       "        vertical-align: middle;\n",
       "    }\n",
       "\n",
       "    .dataframe tbody tr th {\n",
       "        vertical-align: top;\n",
       "    }\n",
       "\n",
       "    .dataframe thead th {\n",
       "        text-align: right;\n",
       "    }\n",
       "</style>\n",
       "<table border=\"1\" class=\"dataframe\">\n",
       "  <thead>\n",
       "    <tr style=\"text-align: right;\">\n",
       "      <th></th>\n",
       "      <th>0</th>\n",
       "      <th>1</th>\n",
       "      <th>2</th>\n",
       "      <th>3</th>\n",
       "      <th>4</th>\n",
       "    </tr>\n",
       "  </thead>\n",
       "  <tbody>\n",
       "    <tr>\n",
       "      <th>0</th>\n",
       "      <td>0</td>\n",
       "      <td>0</td>\n",
       "      <td>1</td>\n",
       "      <td>0</td>\n",
       "      <td>0</td>\n",
       "    </tr>\n",
       "    <tr>\n",
       "      <th>5</th>\n",
       "      <td>0</td>\n",
       "      <td>1</td>\n",
       "      <td>1</td>\n",
       "      <td>1</td>\n",
       "      <td>1</td>\n",
       "    </tr>\n",
       "    <tr>\n",
       "      <th>6</th>\n",
       "      <td>0</td>\n",
       "      <td>0</td>\n",
       "      <td>1</td>\n",
       "      <td>1</td>\n",
       "      <td>1</td>\n",
       "    </tr>\n",
       "    <tr>\n",
       "      <th>10</th>\n",
       "      <td>0</td>\n",
       "      <td>0</td>\n",
       "      <td>0</td>\n",
       "      <td>1</td>\n",
       "      <td>0</td>\n",
       "    </tr>\n",
       "    <tr>\n",
       "      <th>11</th>\n",
       "      <td>0</td>\n",
       "      <td>1</td>\n",
       "      <td>0</td>\n",
       "      <td>1</td>\n",
       "      <td>0</td>\n",
       "    </tr>\n",
       "  </tbody>\n",
       "</table>\n",
       "</div>"
      ],
      "text/plain": [
       "    0  1  2  3  4\n",
       "0   0  0  1  0  0\n",
       "5   0  1  1  1  1\n",
       "6   0  0  1  1  1\n",
       "10  0  0  0  1  0\n",
       "11  0  1  0  1  0"
      ]
     },
     "execution_count": 97,
     "metadata": {},
     "output_type": "execute_result"
    }
   ],
   "source": [
    "df[df[0]==0]"
   ]
  },
  {
   "cell_type": "code",
   "execution_count": null,
   "metadata": {},
   "outputs": [],
   "source": []
  }
 ],
 "metadata": {
  "interpreter": {
   "hash": "bf8782ad878a65491fc6c9a2885f80b229bd085d21d8e07fc5ecd6e3b336a5da"
  },
  "kernelspec": {
   "display_name": "Python 3.8.8 64-bit",
   "name": "python3"
  },
  "language_info": {
   "codemirror_mode": {
    "name": "ipython",
    "version": 3
   },
   "file_extension": ".py",
   "mimetype": "text/x-python",
   "name": "python",
   "nbconvert_exporter": "python",
   "pygments_lexer": "ipython3",
   "version": "3.8.8"
  },
  "orig_nbformat": 4
 },
 "nbformat": 4,
 "nbformat_minor": 2
}
