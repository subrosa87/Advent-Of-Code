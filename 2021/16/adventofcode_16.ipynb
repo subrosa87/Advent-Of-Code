{
 "cells": [
  {
   "cell_type": "code",
   "execution_count": null,
   "metadata": {},
   "outputs": [],
   "source": [
    "import pandas as pd\n",
    "import re\n",
    "import matplotlib.pyplot as plt\n",
    "import numpy as np\n",
    "import random\n",
    "from collections import Counter\n",
    "import itertools\n",
    "import copy\n",
    "import networkx as nx\n",
    "import binascii"
   ]
  },
  {
   "cell_type": "code",
   "execution_count": null,
   "metadata": {},
   "outputs": [],
   "source": [
    "def split(word):\n",
    "    return [char for char in word]"
   ]
  },
  {
   "cell_type": "code",
   "execution_count": null,
   "metadata": {},
   "outputs": [],
   "source": [
    "# Using readlines()\n",
    "file1 = open('aoc-16', 'r')\n",
    "file1 = open('aoc-16-ex', 'r')\n",
    "Lines = file1.readlines()\n",
    "print(Lines)"
   ]
  },
  {
   "cell_type": "code",
   "execution_count": null,
   "metadata": {},
   "outputs": [],
   "source": [
    "conventions = {'0' : '0000',\n",
    "'1' : '0001',\n",
    "'2' : '0010',\n",
    "'3' : '0011',\n",
    "'4' : '0100',\n",
    "'5' : '0101',\n",
    "'6' : '0110',\n",
    "'7' : '0111',\n",
    "'8' : '1000',\n",
    "'9' : '1001',\n",
    "'A' : '1010',\n",
    "'B' : '1011',\n",
    "'C' : '1100',\n",
    "'D' : '1101',\n",
    "'E' : '1110',\n",
    "'F' : '1111'}\n",
    "\n",
    "typeConversion = {\n",
    "    0 : '+',\n",
    "    1 : '*',\n",
    "    2 : 'min()',\n",
    "    3 : 'max()',\n",
    "    5 : 'grt()',\n",
    "    6 : 'lt()',\n",
    "    7 : '='\n",
    "}"
   ]
  },
  {
   "cell_type": "code",
   "execution_count": null,
   "metadata": {},
   "outputs": [],
   "source": [
    "def covnertHexToBin(input):\n",
    "    r = ''\n",
    "    for i in range(0,len(input)):\n",
    "        r += conventions[input[i]]\n",
    "    return r"
   ]
  },
  {
   "cell_type": "code",
   "execution_count": 27,
   "metadata": {},
   "outputs": [],
   "source": [
    "def convertBinToOjb(input):\n",
    "    r = {   #package structure\n",
    "        'version': None,\n",
    "        'type': None,\n",
    "        'lengthTypeId': None,\n",
    "        'length': None,\n",
    "        'sublength': None,\n",
    "        'subCnt': None,\n",
    "        'hdrLen': 0,\n",
    "        'sub': None,\n",
    "        'value': None,\n",
    "        'data': [],\n",
    "    }\n",
    "\n",
    "    r['version'] = int(input[0:3],2)\n",
    "    r['type'] = int(input[3:6],2)\n",
    "\n",
    "    if r['type'] == 4:\n",
    "        r['hdrLen'] = 6\n",
    "        i = 6\n",
    "        done = False\n",
    "        while not done:\n",
    "            done = (input[i] == '0')\n",
    "            r['data'].append((input[i+1:i+5]))\n",
    "            i += 5\n",
    "        h = ''\n",
    "        for ele in r['data']:\n",
    "            h += str(ele)\n",
    "        r['value'] = int(h,2)\n",
    "        r['length'] = i #- 1 #protential Error works for now\n",
    "    else:\n",
    "        r['lengthTypeId'] = (input[6] == '0')\n",
    "        if r['lengthTypeId']:\n",
    "            r['hdrLen'] = 22\n",
    "            r['length'] = int(input[7:22],2) + r['hdrLen']\n",
    "            r['sublength'] = int(input[7:22],2)\n",
    "            r['sub'] = input[22:]\n",
    "            offset = 0\n",
    "            while offset != r['sublength']:\n",
    "                sub = convertBinToOjb(r['sub'][offset:r['sublength']+offset])\n",
    "                offset += sub['length']\n",
    "                r['data'].append(sub)\n",
    "            r['value'] = dataToValue(r['type'],r['data'])\n",
    "        else:\n",
    "            r['hdrLen'] = 18\n",
    "            r['length'] = r['hdrLen']\n",
    "            r['subCnt'] = int(input[7:18],2)\n",
    "            r['sub'] = input[18:]\n",
    "            offset = 0\n",
    "            for i in range(0,r['subCnt']):\n",
    "                #print(i,'covnerting:',r['sub'][offset:])\n",
    "                sub = convertBinToOjb(r['sub'][offset:])\n",
    "                #print(i,'result: ',sub)\n",
    "                offset += sub['length']\n",
    "                #r['length'] += offset\n",
    "                r['data'].append(sub)\n",
    "                # print(sub['length'])\n",
    "            r['value'] = dataToValue(r['type'],r['data'])\n",
    "            for ele in r['data']:\n",
    "                r['length'] += ele['length']\n",
    "\n",
    "    return r"
   ]
  },
  {
   "cell_type": "code",
   "execution_count": 36,
   "metadata": {},
   "outputs": [],
   "source": [
    "#typeConversion = {\n",
    "#    0 : '+',\n",
    "#    1 : '*',\n",
    "#    2 : 'min()',\n",
    "#    3 : 'max()',\n",
    "#    5 : 'grt()',\n",
    "#    6 : 'lt()',\n",
    "#    7 : '='\n",
    "def dataToValue(type,data):\n",
    "    r = 0\n",
    "    if type == 0:\n",
    "        for ele in data:\n",
    "            r += ele['value']\n",
    "    if type == 1:\n",
    "        r = 1\n",
    "        for ele in data:\n",
    "            r *= ele['value']\n",
    "    if type == 2:\n",
    "        values = [x['value'] for x in data]\n",
    "        r = min(values)\n",
    "    if type == 3:\n",
    "        values = [x['value'] for x in data]\n",
    "        r = max(values)\n",
    "    if type == 5:\n",
    "        r = data[0]['value'] > data[1]['value']\n",
    "    if type == 6:\n",
    "        r = data[0]['value'] < data[1]['value']\n",
    "    if type == 7:\n",
    "        r = data[0]['value'] == data[1]['value']\n",
    "    return r "
   ]
  },
  {
   "cell_type": "code",
   "execution_count": null,
   "metadata": {},
   "outputs": [],
   "source": [
    "def resolve(r):\n",
    "    #print(r)\n",
    "    helper = r.copy()\n",
    "    #for i in range(len(helper)-1,0,-1):\n",
    "    for i in range(1,len(helper)):\n",
    "        if type(helper[i]) is list:\n",
    "            r[i] = resolve(helper[i])\n",
    "            #print(r)\n",
    "\n",
    "    if r[0] == '+':\n",
    "        #print('sum',r)\n",
    "        return sum(r[1:])\n",
    "    if r[0] == '*':\n",
    "        #print('prod',r)\n",
    "        return np.prod(r[1:]) \n",
    "    if r[0] == 'min()':\n",
    "        #print('min',min(r[1:]),r)\n",
    "        return min(r[1:])\n",
    "    if r[0] == 'max()':\n",
    "        #print('max',max(r[1:]),r)\n",
    "        return max(r[1:])        \n",
    "    if r[0] == 'grt()':\n",
    "        #print('grt()',r)\n",
    "        return int(r[1] > r[2])\n",
    "    if r[0] == 'lt()':\n",
    "        #print('lt()',r)\n",
    "        return int(r[1] < r[2])  \n",
    "    if r[0] == '=':\n",
    "        #print('==',r)\n",
    "        return int(r[1] == r[2]) \n",
    "#\n",
    "    return -1       "
   ]
  },
  {
   "cell_type": "code",
   "execution_count": null,
   "metadata": {},
   "outputs": [],
   "source": [
    "def getEQ(sub):\n",
    "    r = []\n",
    "    if sub['type'] != 4:\n",
    "        r.append(typeConversion[sub['type']])\n",
    "    for ele in sub['data']:\n",
    "        if ele['type'] != 4:\n",
    "            r.append(getEQ(ele))\n",
    "        else:\n",
    "            r.append(ele['value']) \n",
    "\n",
    "    return r      "
   ]
  },
  {
   "cell_type": "code",
   "execution_count": null,
   "metadata": {},
   "outputs": [],
   "source": [
    "#typeConversion = {\n",
    "#    0 : '+',\n",
    "#    1 : '*',\n",
    "#    2 : 'min()',\n",
    "#    3 : 'max()',\n",
    "#    5 : 'grt()',\n",
    "#    6 : 'lt()',\n",
    "#    7 : '='\n",
    "\n",
    "def calcTree(sub):\n",
    "\n",
    "    r = 0\n",
    "\n",
    "    for i,ele in enumerate(sub['data']):\n",
    "        print(i,sub['data'])\n",
    "        #sub['data'][i] = calcTree(ele)\n",
    "\n",
    "    if sub['type'] == 0:\n",
    "        for ele in sub['data']:\n",
    "            r += ele['value']\n",
    "\n",
    "    if sub['type'] == 1:\n",
    "        r = 1\n",
    "        for ele in sub['data']:\n",
    "            r *= ele['value']\n",
    "\n",
    "    if sub['type'] == 2:\n",
    "        h = []\n",
    "        for ele in sub['data']:\n",
    "            h.append(ele['value'])\n",
    "        r = min(h)\n",
    "\n",
    "    if sub['type'] == 3:\n",
    "        h = []\n",
    "        for ele in sub['data']:\n",
    "            h.append(ele['value'])\n",
    "        r = max(h)\n",
    "    if sub['type'] == 5:\n",
    "        r = int(sub['data'][0]['value'] > sub['data'][1]['value'])\n",
    "    if sub['type'] == 6:\n",
    "        r = int(sub['data'][0]['value'] < sub['data'][1]['value'])\n",
    "    if sub['type'] == 7: \n",
    "        r = int(sub['data'][0]['value'] == sub['data'][1]['value'])\n",
    "\n",
    "    if sub['type'] == 4:\n",
    "        return sub\n",
    "    sub['value'] = r\n",
    "    return sub "
   ]
  },
  {
   "cell_type": "code",
   "execution_count": null,
   "metadata": {},
   "outputs": [],
   "source": [
    "def printSub(sub):\n",
    "    if sub['type'] != 4:\n",
    "        print('(',end='')\n",
    "    if sub['type'] == 0:\n",
    "        print('+',end='')\n",
    "    if sub['type'] == 1:\n",
    "        print('*',end='')\n",
    "    if sub['type'] == 2:\n",
    "        print('min',end='')\n",
    "    if sub['type'] == 3:\n",
    "        print('max',end='')\n",
    "    if sub['type'] == 5:\n",
    "        print('>',end='')        \n",
    "    if sub['type'] == 6:\n",
    "        print('<',end='')   \n",
    "    if sub['type'] == 7:\n",
    "        print('=',end='')        \n",
    "    for ele in sub['data']:\n",
    "        if ele['type'] != 4:\n",
    "            printSub(ele)\n",
    "        else:\n",
    "            print(ele['value'],' ',end='')     \n",
    "    if sub['type'] != 4:\n",
    "        print(')',end='')                                "
   ]
  },
  {
   "cell_type": "code",
   "execution_count": 28,
   "metadata": {},
   "outputs": [
    {
     "name": "stdout",
     "output_type": "stream",
     "text": [
      "{'version': 6, 'type': 0, 'lengthTypeId': False, 'length': 40, 'sublength': None, 'subCnt': 2, 'hdrLen': 18, 'sub': '1101000000101010000010', 'value': 3, 'data': [{'version': 6, 'type': 4, 'lengthTypeId': None, 'length': 11, 'sublength': None, 'subCnt': None, 'hdrLen': 6, 'sub': None, 'value': 1, 'data': ['0001']}, {'version': 2, 'type': 4, 'lengthTypeId': None, 'length': 11, 'sublength': None, 'subCnt': None, 'hdrLen': 6, 'sub': None, 'value': 2, 'data': ['0010']}]}\n"
     ]
    }
   ],
   "source": [
    "#print(getEQ(convertBinToOjb(covnertHexToBin('C200B40A82'))))\n",
    "#print(getEQ(convertBinToOjb(covnertHexToBin('04005AC33890'))))\n",
    "#print(getEQ(convertBinToOjb(covnertHexToBin('880086C3E88112'))))\n",
    "#print(getEQ(convertBinToOjb(covnertHexToBin('CE00C43D881120'))))\n",
    "#print(getEQ(convertBinToOjb(covnertHexToBin('D8005AC2A8F0'))))\n",
    "#print(getEQ(convertBinToOjb(covnertHexToBin('F600BC2D8F'))))\n",
    "#print(getEQ(convertBinToOjb(covnertHexToBin('9C005AC2F8F0'))))\n",
    "#print(getEQ(convertBinToOjb(covnertHexToBin('9C0141080250320F1802104A08'))))\n",
    "#print(resolve(getEQ(convertBinToOjb(covnertHexToBin('9C0141080250320F1802104A08')))))\n",
    "#print(getEQ(convertBinToOjb(covnertHexToBin('9C0141080250320F1802104A08'))))\n",
    "#print(resolve(getEQ(convertBinToOjb(covnertHexToBin('6051639005B56008C1D9BB3CC9DAD5BE97A4A9104700AE76E672DC95AAE91425EF6AD8BA5591C00F92073004AC0171007E0BC248BE0008645982B1CA680A7A0CC60096802723C94C265E5B9699E7E94D6070C016958F99AC015100760B45884600087C6E88B091C014959C83E740440209FC89C2896A50765A59CE299F3640D300827902547661964D2239180393AF92A8B28F4401BCC8ED52C01591D7E9D2591D7E9D273005A5D127C99802C095B044D5A19A73DC0E9C553004F000DE953588129E372008F2C0169FDB44FA6C9219803E00085C378891F00010E8FF1AE398803D1BE25C743005A6477801F59CC4FA1F3989F420C0149ED9CF006A000084C5386D1F4401F87310E313804D33B4095AFBED32ABF2CA28007DC9D3D713300524BCA940097CA8A4AF9F4C00F9B6D00088654867A7BC8BCA4829402F9D6895B2E4DF7E373189D9BE6BF86B200B7E3C68021331CD4AE6639A974232008E663C3FE00A4E0949124ED69087A848002749002151561F45B3007218C7A8FE600FC228D50B8C01097EEDD7001CF9DE5C0E62DEB089805330ED30CD3C0D3A3F367A40147E8023221F221531C9681100C717002100B36002A19809D15003900892601F950073630024805F400150D400A70028C00F5002C00252600698400A700326C0E44590039687B313BF669F35C9EF974396EF0A647533F2011B340151007637C46860200D43085712A7E4FE60086003E5234B5A56129C91FC93F1802F12EC01292BD754BCED27B92BD754BCED27B100264C4C40109D578CA600AC9AB5802B238E67495391D5CFC402E8B325C1E86F266F250B77ECC600BE006EE00085C7E8DF044001088E31420BCB08A003A72BF87D7A36C994CE76545030047801539F649BF4DEA52CBCA00B4EF3DE9B9CFEE379F14608')))))\n",
    "# false == 176703 too low\n",
    "#printSub(convertBinToOjb(covnertHexToBin('6051639005B56008C1D9BB3CC9DAD5BE97A4A9104700AE76E672DC95AAE91425EF6AD8BA5591C00F92073004AC0171007E0BC248BE0008645982B1CA680A7A0CC60096802723C94C265E5B9699E7E94D6070C016958F99AC015100760B45884600087C6E88B091C014959C83E740440209FC89C2896A50765A59CE299F3640D300827902547661964D2239180393AF92A8B28F4401BCC8ED52C01591D7E9D2591D7E9D273005A5D127C99802C095B044D5A19A73DC0E9C553004F000DE953588129E372008F2C0169FDB44FA6C9219803E00085C378891F00010E8FF1AE398803D1BE25C743005A6477801F59CC4FA1F3989F420C0149ED9CF006A000084C5386D1F4401F87310E313804D33B4095AFBED32ABF2CA28007DC9D3D713300524BCA940097CA8A4AF9F4C00F9B6D00088654867A7BC8BCA4829402F9D6895B2E4DF7E373189D9BE6BF86B200B7E3C68021331CD4AE6639A974232008E663C3FE00A4E0949124ED69087A848002749002151561F45B3007218C7A8FE600FC228D50B8C01097EEDD7001CF9DE5C0E62DEB089805330ED30CD3C0D3A3F367A40147E8023221F221531C9681100C717002100B36002A19809D15003900892601F950073630024805F400150D400A70028C00F5002C00252600698400A700326C0E44590039687B313BF669F35C9EF974396EF0A647533F2011B340151007637C46860200D43085712A7E4FE60086003E5234B5A56129C91FC93F1802F12EC01292BD754BCED27B92BD754BCED27B100264C4C40109D578CA600AC9AB5802B238E67495391D5CFC402E8B325C1E86F266F250B77ECC600BE006EE00085C7E8DF044001088E31420BCB08A003A72BF87D7A36C994CE76545030047801539F649BF4DEA52CBCA00B4EF3DE9B9CFEE379F14608')))\n",
    "#convertBinToOjb(covnertHexToBin('9C0141080250320F1802104A08'))\n",
    "#print(convertBinToOjb(covnertHexToBin('9C0141080250320F1802104A08')))\n",
    "#printSub(convertBinToOjb(covnertHexToBin('9C0141080250320F1802104A08')))\n",
    "#resolve(convertBinToOjb(covnertHexToBin('6051639005B56008C1D9BB3CC9DAD5BE97A4A9104700AE76E672DC95AAE91425EF6AD8BA5591C00F92073004AC0171007E0BC248BE0008645982B1CA680A7A0CC60096802723C94C265E5B9699E7E94D6070C016958F99AC015100760B45884600087C6E88B091C014959C83E740440209FC89C2896A50765A59CE299F3640D300827902547661964D2239180393AF92A8B28F4401BCC8ED52C01591D7E9D2591D7E9D273005A5D127C99802C095B044D5A19A73DC0E9C553004F000DE953588129E372008F2C0169FDB44FA6C9219803E00085C378891F00010E8FF1AE398803D1BE25C743005A6477801F59CC4FA1F3989F420C0149ED9CF006A000084C5386D1F4401F87310E313804D33B4095AFBED32ABF2CA28007DC9D3D713300524BCA940097CA8A4AF9F4C00F9B6D00088654867A7BC8BCA4829402F9D6895B2E4DF7E373189D9BE6BF86B200B7E3C68021331CD4AE6639A974232008E663C3FE00A4E0949124ED69087A848002749002151561F45B3007218C7A8FE600FC228D50B8C01097EEDD7001CF9DE5C0E62DEB089805330ED30CD3C0D3A3F367A40147E8023221F221531C9681100C717002100B36002A19809D15003900892601F950073630024805F400150D400A70028C00F5002C00252600698400A700326C0E44590039687B313BF669F35C9EF974396EF0A647533F2011B340151007637C46860200D43085712A7E4FE60086003E5234B5A56129C91FC93F1802F12EC01292BD754BCED27B92BD754BCED27B100264C4C40109D578CA600AC9AB5802B238E67495391D5CFC402E8B325C1E86F266F250B77ECC600BE006EE00085C7E8DF044001088E31420BCB08A003A72BF87D7A36C994CE76545030047801539F649BF4DEA52CBCA00B4EF3DE9B9CFEE379F14608')))\n",
    "\n",
    "#print(getEQ(convertBinToOjb(covnertHexToBin('9C0141080250320F1802104A08'))))\n",
    "#resolve(convertBinToOjb(covnertHexToBin('6051639005B56008C1D9BB3CC9DAD5BE97A4A9104700AE76E672DC95AAE91425EF6AD8BA5591C00F92073004AC0171007E0BC248BE0008645982B1CA680A7A0CC60096802723C94C265E5B9699E7E94D6070C016958F99AC015100760B45884600087C6E88B091C014959C83E740440209FC89C2896A50765A59CE299F3640D300827902547661964D2239180393AF92A8B28F4401BCC8ED52C01591D7E9D2591D7E9D273005A5D127C99802C095B044D5A19A73DC0E9C553004F000DE953588129E372008F2C0169FDB44FA6C9219803E00085C378891F00010E8FF1AE398803D1BE25C743005A6477801F59CC4FA1F3989F420C0149ED9CF006A000084C5386D1F4401F87310E313804D33B4095AFBED32ABF2CA28007DC9D3D713300524BCA940097CA8A4AF9F4C00F9B6D00088654867A7BC8BCA4829402F9D6895B2E4DF7E373189D9BE6BF86B200B7E3C68021331CD4AE6639A974232008E663C3FE00A4E0949124ED69087A848002749002151561F45B3007218C7A8FE600FC228D50B8C01097EEDD7001CF9DE5C0E62DEB089805330ED30CD3C0D3A3F367A40147E8023221F221531C9681100C717002100B36002A19809D15003900892601F950073630024805F400150D400A70028C00F5002C00252600698400A700326C0E44590039687B313BF669F35C9EF974396EF0A647533F2011B340151007637C46860200D43085712A7E4FE60086003E5234B5A56129C91FC93F1802F12EC01292BD754BCED27B92BD754BCED27B100264C4C40109D578CA600AC9AB5802B238E67495391D5CFC402E8B325C1E86F266F250B77ECC600BE006EE00085C7E8DF044001088E31420BCB08A003A72BF87D7A36C994CE76545030047801539F649BF4DEA52CBCA00B4EF3DE9B9CFEE379F14608')))\n",
    "#print(resolve(getEQ(convertBinToOjb(covnertHexToBin('6051639005B56008C1D9BB3CC9DAD5BE97A4A9104700AE76E672DC95AAE91425EF6AD8BA5591C00F92073004AC0171007E0BC248BE0008645982B1CA680A7A0CC60096802723C94C265E5B9699E7E94D6070C016958F99AC015100760B45884600087C6E88B091C014959C83E740440209FC89C2896A50765A59CE299F3640D300827902547661964D2239180393AF92A8B28F4401BCC8ED52C01591D7E9D2591D7E9D273005A5D127C99802C095B044D5A19A73DC0E9C553004F000DE953588129E372008F2C0169FDB44FA6C9219803E00085C378891F00010E8FF1AE398803D1BE25C743005A6477801F59CC4FA1F3989F420C0149ED9CF006A000084C5386D1F4401F87310E313804D33B4095AFBED32ABF2CA28007DC9D3D713300524BCA940097CA8A4AF9F4C00F9B6D00088654867A7BC8BCA4829402F9D6895B2E4DF7E373189D9BE6BF86B200B7E3C68021331CD4AE6639A974232008E663C3FE00A4E0949124ED69087A848002749002151561F45B3007218C7A8FE600FC228D50B8C01097EEDD7001CF9DE5C0E62DEB089805330ED30CD3C0D3A3F367A40147E8023221F221531C9681100C717002100B36002A19809D15003900892601F950073630024805F400150D400A70028C00F5002C00252600698400A700326C0E44590039687B313BF669F35C9EF974396EF0A647533F2011B340151007637C46860200D43085712A7E4FE60086003E5234B5A56129C91FC93F1802F12EC01292BD754BCED27B92BD754BCED27B100264C4C40109D578CA600AC9AB5802B238E67495391D5CFC402E8B325C1E86F266F250B77ECC600BE006EE00085C7E8DF044001088E31420BCB08A003A72BF87D7A36C994CE76545030047801539F649BF4DEA52CBCA00B4EF3DE9B9CFEE379F14608')))))\n",
    "#print(printSub(convertBinToOjb(covnertHexToBin('6051639005B56008C1D9BB3CC9DAD5BE97A4A9104700AE76E672DC95AAE91425EF6AD8BA5591C00F92073004AC0171007E0BC248BE0008645982B1CA680A7A0CC60096802723C94C265E5B9699E7E94D6070C016958F99AC015100760B45884600087C6E88B091C014959C83E740440209FC89C2896A50765A59CE299F3640D300827902547661964D2239180393AF92A8B28F4401BCC8ED52C01591D7E9D2591D7E9D273005A5D127C99802C095B044D5A19A73DC0E9C553004F000DE953588129E372008F2C0169FDB44FA6C9219803E00085C378891F00010E8FF1AE398803D1BE25C743005A6477801F59CC4FA1F3989F420C0149ED9CF006A000084C5386D1F4401F87310E313804D33B4095AFBED32ABF2CA28007DC9D3D713300524BCA940097CA8A4AF9F4C00F9B6D00088654867A7BC8BCA4829402F9D6895B2E4DF7E373189D9BE6BF86B200B7E3C68021331CD4AE6639A974232008E663C3FE00A4E0949124ED69087A848002749002151561F45B3007218C7A8FE600FC228D50B8C01097EEDD7001CF9DE5C0E62DEB089805330ED30CD3C0D3A3F367A40147E8023221F221531C9681100C717002100B36002A19809D15003900892601F950073630024805F400150D400A70028C00F5002C00252600698400A700326C0E44590039687B313BF669F35C9EF974396EF0A647533F2011B340151007637C46860200D43085712A7E4FE60086003E5234B5A56129C91FC93F1802F12EC01292BD754BCED27B92BD754BCED27B100264C4C40109D578CA600AC9AB5802B238E67495391D5CFC402E8B325C1E86F266F250B77ECC600BE006EE00085C7E8DF044001088E31420BCB08A003A72BF87D7A36C994CE76545030047801539F649BF4DEA52CBCA00B4EF3DE9B9CFEE379F14608'))))\n",
    "#print(calcTree(convertBinToOjb(covnertHexToBin('6051639005B56008C1D9BB3CC9DAD5BE97A4A9104700AE76E672DC95AAE91425EF6AD8BA5591C00F92073004AC0171007E0BC248BE0008645982B1CA680A7A0CC60096802723C94C265E5B9699E7E94D6070C016958F99AC015100760B45884600087C6E88B091C014959C83E740440209FC89C2896A50765A59CE299F3640D300827902547661964D2239180393AF92A8B28F4401BCC8ED52C01591D7E9D2591D7E9D273005A5D127C99802C095B044D5A19A73DC0E9C553004F000DE953588129E372008F2C0169FDB44FA6C9219803E00085C378891F00010E8FF1AE398803D1BE25C743005A6477801F59CC4FA1F3989F420C0149ED9CF006A000084C5386D1F4401F87310E313804D33B4095AFBED32ABF2CA28007DC9D3D713300524BCA940097CA8A4AF9F4C00F9B6D00088654867A7BC8BCA4829402F9D6895B2E4DF7E373189D9BE6BF86B200B7E3C68021331CD4AE6639A974232008E663C3FE00A4E0949124ED69087A848002749002151561F45B3007218C7A8FE600FC228D50B8C01097EEDD7001CF9DE5C0E62DEB089805330ED30CD3C0D3A3F367A40147E8023221F221531C9681100C717002100B36002A19809D15003900892601F950073630024805F400150D400A70028C00F5002C00252600698400A700326C0E44590039687B313BF669F35C9EF974396EF0A647533F2011B340151007637C46860200D43085712A7E4FE60086003E5234B5A56129C91FC93F1802F12EC01292BD754BCED27B92BD754BCED27B100264C4C40109D578CA600AC9AB5802B238E67495391D5CFC402E8B325C1E86F266F250B77ECC600BE006EE00085C7E8DF044001088E31420BCB08A003A72BF87D7A36C994CE76545030047801539F649BF4DEA52CBCA00B4EF3DE9B9CFEE379F14608'))))\n",
    "#print(calcTree(convertBinToOjb(covnertHexToBin('9C0141080250320F1802104A08'))))\n"
   ]
  },
  {
   "cell_type": "code",
   "execution_count": 35,
   "metadata": {},
   "outputs": [
    {
     "name": "stdout",
     "output_type": "stream",
     "text": [
      "3 True\n",
      "54 True\n",
      "7 True\n",
      "8 False\n",
      "True True\n",
      "False True\n",
      "False True\n",
      "True True\n"
     ]
    }
   ],
   "source": [
    "print((convertBinToOjb(covnertHexToBin('C200B40A82')))['value'], (convertBinToOjb(covnertHexToBin('C200B40A82')))['value'] == 3)\n",
    "print((convertBinToOjb(covnertHexToBin('04005AC33890')))['value'], (convertBinToOjb(covnertHexToBin('04005AC33890')))['value'] == 54)\n",
    "print((convertBinToOjb(covnertHexToBin('880086C3E88112')))['value'], (convertBinToOjb(covnertHexToBin('880086C3E88112')))['value']==7)\n",
    "print((convertBinToOjb(covnertHexToBin('CE00C43D881120')))['value'], (convertBinToOjb(covnertHexToBin('CE00C43D881120')))['value']==9)\n",
    "print((convertBinToOjb(covnertHexToBin('D8005AC2A8F0')))['value'], (convertBinToOjb(covnertHexToBin('D8005AC2A8F0')))['value']==1)\n",
    "print((convertBinToOjb(covnertHexToBin('F600BC2D8F')))['value'], (convertBinToOjb(covnertHexToBin('F600BC2D8F')))['value']==0)\n",
    "print((convertBinToOjb(covnertHexToBin('9C005AC2F8F0')))['value'], (convertBinToOjb(covnertHexToBin('9C005AC2F8F0')))['value']==0)\n",
    "print((convertBinToOjb(covnertHexToBin('9C0141080250320F1802104A08')))['value'], (convertBinToOjb(covnertHexToBin('9C0141080250320F1802104A08')))['value']==1)"
   ]
  },
  {
   "cell_type": "code",
   "execution_count": null,
   "metadata": {},
   "outputs": [],
   "source": [
    "#wrong: 74963238664"
   ]
  },
  {
   "cell_type": "code",
   "execution_count": 38,
   "metadata": {},
   "outputs": [
    {
     "data": {
      "text/plain": [
       "246761930504"
      ]
     },
     "execution_count": 38,
     "metadata": {},
     "output_type": "execute_result"
    }
   ],
   "source": [
    "convertBinToOjb(covnertHexToBin('6051639005B56008C1D9BB3CC9DAD5BE97A4A9104700AE76E672DC95AAE91425EF6AD8BA5591C00F92073004AC0171007E0BC248BE0008645982B1CA680A7A0CC60096802723C94C265E5B9699E7E94D6070C016958F99AC015100760B45884600087C6E88B091C014959C83E740440209FC89C2896A50765A59CE299F3640D300827902547661964D2239180393AF92A8B28F4401BCC8ED52C01591D7E9D2591D7E9D273005A5D127C99802C095B044D5A19A73DC0E9C553004F000DE953588129E372008F2C0169FDB44FA6C9219803E00085C378891F00010E8FF1AE398803D1BE25C743005A6477801F59CC4FA1F3989F420C0149ED9CF006A000084C5386D1F4401F87310E313804D33B4095AFBED32ABF2CA28007DC9D3D713300524BCA940097CA8A4AF9F4C00F9B6D00088654867A7BC8BCA4829402F9D6895B2E4DF7E373189D9BE6BF86B200B7E3C68021331CD4AE6639A974232008E663C3FE00A4E0949124ED69087A848002749002151561F45B3007218C7A8FE600FC228D50B8C01097EEDD7001CF9DE5C0E62DEB089805330ED30CD3C0D3A3F367A40147E8023221F221531C9681100C717002100B36002A19809D15003900892601F950073630024805F400150D400A70028C00F5002C00252600698400A700326C0E44590039687B313BF669F35C9EF974396EF0A647533F2011B340151007637C46860200D43085712A7E4FE60086003E5234B5A56129C91FC93F1802F12EC01292BD754BCED27B92BD754BCED27B100264C4C40109D578CA600AC9AB5802B238E67495391D5CFC402E8B325C1E86F266F250B77ECC600BE006EE00085C7E8DF044001088E31420BCB08A003A72BF87D7A36C994CE76545030047801539F649BF4DEA52CBCA00B4EF3DE9B9CFEE379F14608'))['value']"
   ]
  },
  {
   "cell_type": "code",
   "execution_count": null,
   "metadata": {},
   "outputs": [],
   "source": []
  }
 ],
 "metadata": {
  "interpreter": {
   "hash": "f21f743cc6c41fc33e520d2d26f99532d48e5b1bbd397170bfb0442f3e446286"
  },
  "kernelspec": {
   "display_name": "Python 3.9.1 64-bit",
   "name": "python3"
  },
  "language_info": {
   "codemirror_mode": {
    "name": "ipython",
    "version": 3
   },
   "file_extension": ".py",
   "mimetype": "text/x-python",
   "name": "python",
   "nbconvert_exporter": "python",
   "pygments_lexer": "ipython3",
   "version": "3.8.1"
  },
  "orig_nbformat": 4
 },
 "nbformat": 4,
 "nbformat_minor": 2
}
