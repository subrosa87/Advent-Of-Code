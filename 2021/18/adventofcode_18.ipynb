{
 "cells": [
  {
   "cell_type": "code",
   "execution_count": 1,
   "metadata": {},
   "outputs": [],
   "source": [
    "import pandas as pd\n",
    "import re\n",
    "import matplotlib.pyplot as plt\n",
    "import numpy as np\n",
    "import random\n",
    "from collections import Counter\n",
    "import itertools\n",
    "import networkx as nx\n",
    "import ast\n",
    "import math"
   ]
  },
  {
   "cell_type": "code",
   "execution_count": 2,
   "metadata": {},
   "outputs": [],
   "source": [
    "def split(word):\n",
    "    return [char for char in word]"
   ]
  },
  {
   "cell_type": "code",
   "execution_count": 52,
   "metadata": {},
   "outputs": [
    {
     "name": "stdout",
     "output_type": "stream",
     "text": [
      "[[[[0, [5, 8]], [[1, 7], [9, 6]]], [[4, [1, 2]], [[1, 4], 2]]], [[[5, [2, 8]], 4], [5, [[9, 9], 0]]], [6, [[[6, 2], [5, 6]], [[7, 6], [4, 7]]]], [[[6, [0, 7]], [0, 9]], [4, [9, [9, 0]]]], [[[7, [6, 4]], [3, [1, 3]]], [[[5, 5], 1], 9]], [[6, [[7, 3], [3, 2]]], [[[3, 8], [5, 7]], 4]], [[[[5, 4], [7, 7]], 8], [[8, 3], 8]], [[9, 3], [[9, 9], [6, [4, 9]]]], [[2, [[7, 7], 7]], [[5, 8], [[9, 3], [0, 2]]]], [[[[5, 2], 5], [8, [3, 7]]], [[5, [7, 5]], [4, 4]]]]\n"
     ]
    }
   ],
   "source": [
    "# Using readlines()\n",
    "file1 = open('aoc-18', 'r')\n",
    "file1 = open('aoc-18-ex', 'r')\n",
    "Lines = file1.readlines()\n",
    "Lines = [ast.literal_eval(x.replace('\\n','')) for x in Lines]\n",
    "print(Lines)"
   ]
  },
  {
   "cell_type": "code",
   "execution_count": 4,
   "metadata": {},
   "outputs": [],
   "source": [
    "def add(x,y):\n",
    "    r = []\n",
    "    r.append(x)\n",
    "    r.append(y)\n",
    "    return r"
   ]
  },
  {
   "cell_type": "code",
   "execution_count": 5,
   "metadata": {},
   "outputs": [],
   "source": [
    "def printList2(input,level):\n",
    "    r = []\n",
    "    for x in input:\n",
    "        if type(x) is list:\n",
    "            r.append(printList(x,level+1))\n",
    "        else:\n",
    "            r.append(x)\n",
    "    \n",
    "    check = [x for x in input if type(x) is list]\n",
    "\n",
    "    if level == 3 and check:\n",
    "        r = [None]*2\n",
    "        if type(input[0]) is list:\n",
    "            r[0] = 0 \n",
    "            r[1] = input[0][1] + input[1] \n",
    "        if type(input[-1]) is list:\n",
    "            r[0] = input[0] + input[1][0]\n",
    "            r[1] = 0             \n",
    "        #print('explode',input,check)\n",
    "        return r\n",
    "\n",
    "\n",
    "    return r"
   ]
  },
  {
   "cell_type": "code",
   "execution_count": 6,
   "metadata": {},
   "outputs": [],
   "source": [
    "def printList(input):\n",
    "    r = ''\n",
    "    r += '['\n",
    "    for i,x in enumerate(input):\n",
    "        if type(x) is list:\n",
    "            r += (printList(x)) + ','\n",
    "        else:\n",
    "            if i == len(input)-1:\n",
    "                r += str(x) \n",
    "            else:\n",
    "                r += str(x) + ','\n",
    "    r += ']'\n",
    "    return r.replace('],]',']]')"
   ]
  },
  {
   "cell_type": "code",
   "execution_count": 7,
   "metadata": {},
   "outputs": [],
   "source": [
    "def explode(input):\n",
    "    openCnt = 0\n",
    "    result = None\n",
    "    for i in range(len(input)):\n",
    "        if input[i] == '[':\n",
    "            openCnt += 1\n",
    "        if input[i] == ']':\n",
    "            openCnt -= 1\n",
    "        if openCnt == 5:\n",
    "            for k in range(i,len(input)):\n",
    "                if input[k] == ']':\n",
    "                    #\\\\TODO!\n",
    "                    number_str = ''.join(input)[i+1:k].split(',')\n",
    "                    number_left = int(number_str[0])\n",
    "                    number_right = int(number_str[1])\n",
    "\n",
    "                    left = ''.join(reversed(input[:i]))\n",
    "                    right = ''.join(input[k+1:])\n",
    "                    #number to the left\n",
    "\n",
    "                    #print(''.join(reversed(left)),'<>',right)\n",
    "\n",
    "                    if len(re.findall('\\d+',''.join(input)[:i])) > 0:\n",
    "                        numberToLeft = int(re.findall('\\d+',''.join(input)[:i])[-1])\n",
    "                        numberToLeft_rev = int(re.findall('\\d+',left)[0])\n",
    "                        sumLeft = int(number_left+numberToLeft)\n",
    "                        left = left.replace(str(numberToLeft_rev),''.join(reversed(str(sumLeft))),1)\n",
    "\n",
    "\n",
    "                    if len(re.findall('\\d+',''.join(input)[k:])) > 0:\n",
    "                        numberToRight = int(re.findall('\\d+',''.join(input)[k:])[0])\n",
    "                        sumRight = int(number_right+numberToRight)\n",
    "                        right = right.replace(str(numberToRight),str(sumRight),1)\n",
    "\n",
    "\n",
    "                    result = ''.join(reversed(left)) + '0' + right\n",
    "                    #result = result.replace('['+str(number_left)+','+str(number_right)+']','0',1)\n",
    "                    #print('explode:','['+str(number_left)+','+str(number_right)+']')\n",
    "                    return result\n",
    "            openCnt = 0\n",
    "    return result\n",
    "        "
   ]
  },
  {
   "cell_type": "code",
   "execution_count": 9,
   "metadata": {},
   "outputs": [],
   "source": [
    "def split(input):\n",
    "    result = None\n",
    "    for i in range(len(input)-1):\n",
    "        #\n",
    "        #\\\\TODO für zahlen mehr als 2 Stellen\n",
    "        if str(input[i]).isnumeric() and str(input[i+1]).isnumeric():\n",
    "        #   print(input[i:i+2],int(input[i]+input[i+1]))\n",
    "            number = None \n",
    "            for k in range(i,len(input)-1):\n",
    "                if input[k] == ',' or input[k] == ']':\n",
    "                    #print(''.join(input[i:k]))\n",
    "                    number = int(''.join(input[i:k]))\n",
    "                    break\n",
    "            if number % 2 == 0:\n",
    "                h = int(number / 2) \n",
    "                result = ''.join(input).replace(str(number),'['+str(h)+','+str(h)+']',1)\n",
    "                break\n",
    "            else:\n",
    "                ceil = int(math.ceil(number / 2) )\n",
    "                floor = int(math.floor(number / 2) )\n",
    "                result = ''.join(input).replace(str(number),'['+str(floor)+','+str(ceil)+']',1) \n",
    "                break               \n",
    "    return result \n",
    "                "
   ]
  },
  {
   "cell_type": "code",
   "execution_count": 10,
   "metadata": {},
   "outputs": [
    {
     "name": "stdout",
     "output_type": "stream",
     "text": [
      "[[[[0,9],2],3],4] True\n",
      "[7,[6,[5,[7,0]]]] True\n",
      "[[6,[5,[7,0]]],3] True\n",
      "[[3,[2,[8,0]]],[9,[5,[4,[3,2]]]]] True\n",
      "[[3,[2,[8,0]]],[9,[5,[7,0]]]] True\n"
     ]
    }
   ],
   "source": [
    "#print(split(list('[[[[0,7],4],[15,[0,13]]],[1,1]]')))\n",
    "#print(split(list('[[[[0,7],4],[[7,8],[0,13]]],[1,1]]')))\n",
    "##\n",
    "#print(printList([[[[[9,8],1],2],3],4]))  # [[[[0,9],2],3],4]\n",
    "#print(printList([7,[6,[5,[4,[3,2]]]]]))  # [7,[6,[5,[7,0]]]]\n",
    "#print(printList([[6,[5,[4,[3,2]]]],1]))  # [[6,[5,[7,0]]],3]\n",
    "###\n",
    "#print(add([[[[4,3],4],4],[7,[[8,4],9]]],[1,1]))\n",
    "#print(explode(list('[[[[[4,3],4],4],[7,[[8,4],9]]],[1,1]]')))\n",
    "#print(explode(list('[[[[0,7],4],[7,[[8,4],9]]],[1,1]]')))\n",
    "#print(split('[[[[0,7],4],[15,[0,13]]],[1,1]]'))\n",
    "#print(split('[[[[0,7],4],[[7,8],[0,13]]],[1,1]]'))\n",
    "#print(explode(list('[[[[0,7],4],[[7,8],[0,[6,7]]]],[1,1]]')))\n",
    "###\n",
    "# EXPLODE Examples\n",
    "###\n",
    "print(explode(list('[[[[[9,8],1],2],3],4]')), explode(list('[[[[[9,8],1],2],3],4]')) == '[[[[0,9],2],3],4]')                          \n",
    "print(explode(list('[7,[6,[5,[4,[3,2]]]]]')),explode(list('[7,[6,[5,[4,[3,2]]]]]')) == '[7,[6,[5,[7,0]]]]')                           \n",
    "print(explode(list('[[6,[5,[4,[3,2]]]],1]')),explode(list('[[6,[5,[4,[3,2]]]],1]')) == '[[6,[5,[7,0]]],3]')                           \n",
    "print(explode(list('[[3,[2,[1,[7,3]]]],[6,[5,[4,[3,2]]]]]')),explode(list('[[3,[2,[1,[7,3]]]],[6,[5,[4,[3,2]]]]]')) =='[[3,[2,[8,0]]],[9,[5,[4,[3,2]]]]]')          \n",
    "print(explode(list('[[3,[2,[8,0]]],[9,[5,[4,[3,2]]]]]')),explode(list('[[3,[2,[8,0]]],[9,[5,[4,[3,2]]]]]')) =='[[3,[2,[8,0]]],[9,[5,[7,0]]]]')               "
   ]
  },
  {
   "cell_type": "code",
   "execution_count": 11,
   "metadata": {},
   "outputs": [],
   "source": [
    "def checkMethod(input):\n",
    "    input = list(input)\n",
    "    bracketCnt = 0\n",
    "    for i in range(len(input)-1):\n",
    "        if input[i] == '[':\n",
    "            bracketCnt += 1\n",
    "        if input[i] == ']':\n",
    "            bracketCnt -= 1\n",
    "        if bracketCnt == 5: \n",
    "            return 'explode'\n",
    "    for i in range(len(input)-1):            \n",
    "        if str(input[i]).isnumeric() and str(input[i+1]).isnumeric():\n",
    "            return 'split'\n",
    "    return 'done' "
   ]
  },
  {
   "cell_type": "code",
   "execution_count": 17,
   "metadata": {},
   "outputs": [
    {
     "name": "stdout",
     "output_type": "stream",
     "text": [
      "[[[[0,7],4],[[7,8],[6,0]]],[8,1]] True\n"
     ]
    }
   ],
   "source": [
    "r_1 = '[[[[[4,3],4],4],[7,[[8,4],9]]],[1,1]]'.replace(' ','')\n",
    "r_2 = ''\n",
    "#after addition: [[[[[4,3],4],4],[7,[[8,4],9]]],[1,1]]\n",
    "#after explode:  [[[[0,7],4],[7,[[8,4],9]]],[1,1]]\n",
    "#after explode:  [[[[0,7],4],[15,[0,13]]],[1,1]]\n",
    "#after split:    [[[[0,7],4],[[7,8],[0,13]]],[1,1]]\n",
    "#after split:    [[[[0,7],4],[[7,8],[0,[6,7]]]],[1,1]]\n",
    "#after explode:  [[[[0,7],4],[[7,8],[6,0]]],[8,1]]\n",
    "\n",
    "def reduce(input):\n",
    "    method = 1\n",
    "    cnt = 0\n",
    "    while not method == 'done': #cnt != 50: # not method == 'done': # or method == 'done':\n",
    "        cnt += 1\n",
    "        method = checkMethod(input)\n",
    "        #print(method,input)\n",
    "        if method == 'explode':\n",
    "            input = explode(list(input))\n",
    "        if method == 'split':\n",
    "            input = split(input)\n",
    "        if method == 'done':\n",
    "            #print('DONE')\n",
    "            break\n",
    "    return input\n",
    "rd = reduce(r_1)\n",
    "print(rd,rd=='[[[[0,7],4],[[7,8],[6,0]]],[8,1]]')"
   ]
  },
  {
   "cell_type": "code",
   "execution_count": 55,
   "metadata": {},
   "outputs": [
    {
     "data": {
      "text/plain": [
       "'[[[[7,7],[7,7]],[[7,7],[7,7]]],[[[7,7],[0,7]],[[8,8],[8,8]]]]'"
      ]
     },
     "execution_count": 55,
     "metadata": {},
     "output_type": "execute_result"
    }
   ],
   "source": [
    "reduce(printList(add([[[0,[5,8]],[[1,7],[9,6]]],[[4,[1,2]],[[1,4],2]]],[[[5,[2,8]],4],[5,[[9,9],0]]])))"
   ]
  },
  {
   "cell_type": "code",
   "execution_count": 53,
   "metadata": {},
   "outputs": [
    {
     "name": "stdout",
     "output_type": "stream",
     "text": [
      "0 result: [[[[7,7],[7,7]],[[7,7],[7,7]]],[[[7,7],[0,7]],[[8,8],[8,8]]]]\n",
      "1 result: [[[[7,0],[7,7]],[[7,7],[7,7]]],[[[7,7],[7,8]],[[7,7],[7,7]]]]\n",
      "2 result: [[[[7,7],[7,7]],[[0,8],[8,8]]],[[[8,8],[9,9]],[[8,7],[8,9]]]]\n",
      "3 result: [[[[7,7],[7,7]],[[7,7],[8,8]]],[[[8,7],[7,7]],[[0,8],[8,9]]]]\n",
      "4 result: [[[[7,6],[7,7]],[[7,7],[7,7]]],[[[7,8],[7,7]],[[8,0],[9,9]]]]\n",
      "5 result: [[[[6,7],[7,7]],[[7,7],[0,7]]],[[[7,8],[8,8]],[[8,8],[8,7]]]]\n",
      "6 result: [[[[7,7],[7,7]],[[8,7],[7,7]]],[[[8,8],[8,9]],[[7,7],[0,7]]]]\n",
      "7 result: [[[[7,6],[7,7]],[[7,7],[7,7]]],[[[7,7],[8,0]],[[8,8],[8,8]]]]\n",
      "8 result: [[[[6,6],[6,6]],[[6,7],[7,7]]],[[[7,7],[8,7]],[[9,7],[0,7]]]]\n"
     ]
    }
   ],
   "source": [
    "res = ''\n",
    "for i in range(len(Lines)-1):\n",
    "#    print(i,res,'+',Lines[i+1])\n",
    "    if i == 0:\n",
    "        res = reduce(printList(add(Lines[i],Lines[i+1])))\n",
    "    else:\n",
    "        res = reduce(printList(add(res,Lines[i+1])))\n",
    "    print(i,'result:',res)"
   ]
  },
  {
   "cell_type": "code",
   "execution_count": 46,
   "metadata": {},
   "outputs": [],
   "source": [
    "def calcMagnitude(input):\n",
    "    r = 0\n",
    "    print(input)\n",
    "    if type(input[0]) is int and type(input[1]) is int:\n",
    "        r += input[0] * 3 + input[1] * 2\n",
    "    else:\n",
    "        for ele in input:\n",
    "            if type(ele) is list:\n",
    "                r += calcMagnitude(ele)\n",
    "    return r"
   ]
  },
  {
   "cell_type": "code",
   "execution_count": 49,
   "metadata": {},
   "outputs": [
    {
     "name": "stdout",
     "output_type": "stream",
     "text": [
      "[[1, 2], [[3, 4], 5]]\n",
      "[1, 2]\n",
      "[[3, 4], 5]\n",
      "[3, 4]\n",
      "24\n"
     ]
    }
   ],
   "source": [
    "print(calcMagnitude([[1,2],[[3,4],5]]))"
   ]
  },
  {
   "cell_type": "code",
   "execution_count": 31,
   "metadata": {},
   "outputs": [
    {
     "data": {
      "text/plain": [
       "False"
      ]
     },
     "execution_count": 31,
     "metadata": {},
     "output_type": "execute_result"
    }
   ],
   "source": [
    "[] in [1,[1,2]]"
   ]
  },
  {
   "cell_type": "code",
   "execution_count": 33,
   "metadata": {},
   "outputs": [
    {
     "name": "stdout",
     "output_type": "stream",
     "text": [
      "1\n",
      "[1, 2]\n"
     ]
    }
   ],
   "source": [
    "for ele in [1,[1,2]]:\n",
    "    print( ele)"
   ]
  },
  {
   "cell_type": "code",
   "execution_count": null,
   "metadata": {},
   "outputs": [],
   "source": []
  }
 ],
 "metadata": {
  "interpreter": {
   "hash": "f21f743cc6c41fc33e520d2d26f99532d48e5b1bbd397170bfb0442f3e446286"
  },
  "kernelspec": {
   "display_name": "Python 3.9.1 64-bit",
   "name": "python3"
  },
  "language_info": {
   "codemirror_mode": {
    "name": "ipython",
    "version": 3
   },
   "file_extension": ".py",
   "mimetype": "text/x-python",
   "name": "python",
   "nbconvert_exporter": "python",
   "pygments_lexer": "ipython3",
   "version": "3.8.1"
  },
  "orig_nbformat": 4
 },
 "nbformat": 4,
 "nbformat_minor": 2
}
