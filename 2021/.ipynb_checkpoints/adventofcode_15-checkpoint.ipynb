{
 "cells": [
  {
   "cell_type": "code",
   "execution_count": 1,
   "metadata": {},
   "outputs": [],
   "source": [
    "import pandas as pd\n",
    "import re\n",
    "import matplotlib.pyplot as plt\n",
    "import numpy as np\n",
    "import random\n",
    "from collections import Counter\n",
    "import itertools\n",
    "import copy\n",
    "import networkx as nx"
   ]
  },
  {
   "cell_type": "code",
   "execution_count": 2,
   "metadata": {},
   "outputs": [],
   "source": [
    "def split(word):\n",
    "    return [char for char in word]"
   ]
  },
  {
   "cell_type": "code",
   "execution_count": 6,
   "metadata": {},
   "outputs": [],
   "source": [
    "# Using readlines()\n",
    "#file1 = open('aoc-15-ex', 'r')\n",
    "file1 = open('aoc-15', 'r')\n",
    "#file1 = open('aoc-15-ex2', 'r')\n",
    "#file1 = open('input.txt', 'r')\n",
    "Lines = file1.readlines()\n",
    "Lines = [[int(y) for y in split(x.replace('\\n',''))] for x in Lines]\n",
    "#print(Lines)\n",
    "m = np.matrix(Lines)\n"
   ]
  },
  {
   "cell_type": "code",
   "execution_count": 7,
   "metadata": {},
   "outputs": [],
   "source": [
    "def getNeighbours(point,matrix):\n",
    "    r = [(point[0]+1,point[1]) , (point[0],point[1]-1), (point[0],point[1]+1) , (point[0]-1,point[1])]\n",
    "    r_2 = []\n",
    "    for ele in r:\n",
    "        if  (0<=ele[0]<matrix.shape[0] and 0<=ele[1]<matrix.shape[1]):\n",
    "            r_2.append(ele)\n",
    "    return r_2"
   ]
  },
  {
   "cell_type": "code",
   "execution_count": 13,
   "metadata": {},
   "outputs": [],
   "source": [
    "G = nx.DiGraph()\n",
    "for x in range(0,m.shape[0]):\n",
    "    for y in range(0,m.shape[1]):\n",
    "        name = '('+str(x)+','+str(y)+')'\n",
    "        G.add_node(name,value=m[x,y])\n",
    "\n",
    "for x in range(0,m.shape[0]):\n",
    "    for y in range(0,m.shape[1]):      \n",
    "        name = '('+str(x)+','+str(y)+')'\n",
    "        neighbours = getNeighbours((x,y),m)  \n",
    "        for n in neighbours:\n",
    "            name_1 = '('+str(n[0])+','+str(n[1])+')'\n",
    "            if not name == name_1:\n",
    "                G.add_edge(name,name_1,weight=m[n])\n",
    "##\n",
    "endPoint = '('+str(m.shape[0]-1)+','+str(m.shape[1]-1)+')'\n",
    "\n",
    "path = nx.shortest_path(G, source='(0,0)', target=endPoint, weight=\"weight\")\n",
    "path_weight = nx.path_weight(G, path, weight=\"weight\")\n",
    "print('result 15a: ',path_weight)\n"
   ]
  },
  {
   "cell_type": "code",
   "execution_count": 12,
   "metadata": {},
   "outputs": [
    {
     "name": "stdout",
     "output_type": "stream",
     "text": [
      "[[6 8 5 ... 3 4 3]\n",
      " [9 4 2 ... 1 3 5]\n",
      " [3 7 9 ... 4 2 2]\n",
      " ...\n",
      " [6 5 6 ... 9 8 6]\n",
      " [2 3 1 ... 1 1 6]\n",
      " [3 3 3 ... 2 8 3]]\n"
     ]
    }
   ],
   "source": [
    "m_big = m\n",
    "for i in range(0,4):\n",
    "    m_h = m_big[:,i*10:].copy()\n",
    "    m_h[m_h == 9] = 0\n",
    "    m_h += 1\n",
    "    m_big = np.hstack((m_big, m_h))\n",
    "\n",
    "for i in range(0,4):\n",
    "    m_h = m_big[i*10:,:].copy()\n",
    "    m_h[m_h == 9] = 0\n",
    "    m_h += 1\n",
    "    m_big = np.vstack((m_big, m_h))\n",
    "print(m_big)\n",
    "m = m_big"
   ]
  },
  {
   "cell_type": "code",
   "execution_count": 253,
   "metadata": {},
   "outputs": [
    {
     "ename": "ValueError",
     "evalue": "unsupported format character '%' (0x25) at index 2",
     "output_type": "error",
     "traceback": [
      "\u001b[1;31m---------------------------------------------------------------------------\u001b[0m",
      "\u001b[1;31mValueError\u001b[0m                                Traceback (most recent call last)",
      "\u001b[1;32m<ipython-input-253-52ad7563db90>\u001b[0m in \u001b[0;36m<module>\u001b[1;34m\u001b[0m\n\u001b[0;32m      1\u001b[0m \u001b[1;32mwith\u001b[0m \u001b[0mopen\u001b[0m\u001b[1;33m(\u001b[0m\u001b[1;34m'outfile.txt'\u001b[0m\u001b[1;33m,\u001b[0m\u001b[1;34m'wb'\u001b[0m\u001b[1;33m)\u001b[0m \u001b[1;32mas\u001b[0m \u001b[0mf\u001b[0m\u001b[1;33m:\u001b[0m\u001b[1;33m\u001b[0m\u001b[1;33m\u001b[0m\u001b[0m\n\u001b[0;32m      2\u001b[0m     \u001b[1;32mfor\u001b[0m \u001b[0mline\u001b[0m \u001b[1;32min\u001b[0m \u001b[0mm_big\u001b[0m\u001b[1;33m:\u001b[0m\u001b[1;33m\u001b[0m\u001b[1;33m\u001b[0m\u001b[0m\n\u001b[1;32m----> 3\u001b[1;33m         \u001b[0mnp\u001b[0m\u001b[1;33m.\u001b[0m\u001b[0msavetxt\u001b[0m\u001b[1;33m(\u001b[0m\u001b[0mf\u001b[0m\u001b[1;33m,\u001b[0m \u001b[0mline\u001b[0m\u001b[1;33m,\u001b[0m \u001b[0mfmt\u001b[0m\u001b[1;33m=\u001b[0m\u001b[1;34m'%'\u001b[0m\u001b[1;33m)\u001b[0m\u001b[1;33m\u001b[0m\u001b[1;33m\u001b[0m\u001b[0m\n\u001b[0m",
      "\u001b[1;32m<__array_function__ internals>\u001b[0m in \u001b[0;36msavetxt\u001b[1;34m(*args, **kwargs)\u001b[0m\n",
      "\u001b[1;32m~\\AppData\\Local\\Programs\\Python\\Python39\\lib\\site-packages\\numpy\\lib\\npyio.py\u001b[0m in \u001b[0;36msavetxt\u001b[1;34m(fname, X, fmt, delimiter, newline, header, footer, comments, encoding)\u001b[0m\n\u001b[0;32m   1422\u001b[0m             \u001b[1;32mfor\u001b[0m \u001b[0mrow\u001b[0m \u001b[1;32min\u001b[0m \u001b[0mX\u001b[0m\u001b[1;33m:\u001b[0m\u001b[1;33m\u001b[0m\u001b[1;33m\u001b[0m\u001b[0m\n\u001b[0;32m   1423\u001b[0m                 \u001b[1;32mtry\u001b[0m\u001b[1;33m:\u001b[0m\u001b[1;33m\u001b[0m\u001b[1;33m\u001b[0m\u001b[0m\n\u001b[1;32m-> 1424\u001b[1;33m                     \u001b[0mv\u001b[0m \u001b[1;33m=\u001b[0m \u001b[0mformat\u001b[0m \u001b[1;33m%\u001b[0m \u001b[0mtuple\u001b[0m\u001b[1;33m(\u001b[0m\u001b[0mrow\u001b[0m\u001b[1;33m)\u001b[0m \u001b[1;33m+\u001b[0m \u001b[0mnewline\u001b[0m\u001b[1;33m\u001b[0m\u001b[1;33m\u001b[0m\u001b[0m\n\u001b[0m\u001b[0;32m   1425\u001b[0m                 \u001b[1;32mexcept\u001b[0m \u001b[0mTypeError\u001b[0m\u001b[1;33m:\u001b[0m\u001b[1;33m\u001b[0m\u001b[1;33m\u001b[0m\u001b[0m\n\u001b[0;32m   1426\u001b[0m                     raise TypeError(\"Mismatch between array dtype ('%s') and \"\n",
      "\u001b[1;31mValueError\u001b[0m: unsupported format character '%' (0x25) at index 2"
     ]
    }
   ],
   "source": [
    "with open('outfile.txt','wb') as f:\n",
    "    for line in m_big:\n",
    "        np.savetxt(f, line, fmt='%.0f')"
   ]
  },
  {
   "cell_type": "code",
   "execution_count": 206,
   "metadata": {},
   "outputs": [
    {
     "name": "stdout",
     "output_type": "stream",
     "text": [
      "[[1 1 6 ... 2 8 6]\n",
      " [1 3 8 ... 1 2 6]\n",
      " [2 1 3 ... 7 6 3]\n",
      " ...\n",
      " [7 5 6 ... 5 2 8]\n",
      " [5 6 4 ... 4 1 9]\n",
      " [6 7 5 ... 4 7 9]]\n",
      "[[1 3 8 ... 1 2 6]\n",
      " [2 1 3 ... 7 6 3]\n",
      " [3 6 9 ... 9 1 4]\n",
      " ...\n",
      " [7 5 6 ... 5 2 8]\n",
      " [5 6 4 ... 4 1 9]\n",
      " [6 7 5 ... 4 7 9]]\n",
      "[[2 1 3 ... 7 6 3]\n",
      " [3 6 9 ... 9 1 4]\n",
      " [7 4 6 ... 5 5 5]\n",
      " ...\n",
      " [7 5 6 ... 5 2 8]\n",
      " [5 6 4 ... 4 1 9]\n",
      " [6 7 5 ... 4 7 9]]\n",
      "[[3 6 9 ... 9 1 4]\n",
      " [7 4 6 ... 5 5 5]\n",
      " [1 3 1 ... 5 7 2]\n",
      " ...\n",
      " [7 5 6 ... 5 2 8]\n",
      " [5 6 4 ... 4 1 9]\n",
      " [6 7 5 ... 4 7 9]]\n",
      "[[7 4 6 ... 5 5 5]\n",
      " [1 3 1 ... 5 7 2]\n",
      " [1 3 5 ... 8 6 5]\n",
      " ...\n",
      " [7 5 6 ... 5 2 8]\n",
      " [5 6 4 ... 4 1 9]\n",
      " [6 7 5 ... 4 7 9]]\n"
     ]
    }
   ],
   "source": [
    "for i in range(0,5):\n",
    "    print(m[i:,:])"
   ]
  },
  {
   "cell_type": "code",
   "execution_count": null,
   "metadata": {},
   "outputs": [],
   "source": []
  }
 ],
 "metadata": {
  "interpreter": {
   "hash": "f21f743cc6c41fc33e520d2d26f99532d48e5b1bbd397170bfb0442f3e446286"
  },
  "kernelspec": {
   "display_name": "Python 3",
   "language": "python",
   "name": "python3"
  },
  "language_info": {
   "codemirror_mode": {
    "name": "ipython",
    "version": 3
   },
   "file_extension": ".py",
   "mimetype": "text/x-python",
   "name": "python",
   "nbconvert_exporter": "python",
   "pygments_lexer": "ipython3",
   "version": "3.8.1"
  }
 },
 "nbformat": 4,
 "nbformat_minor": 2
}
