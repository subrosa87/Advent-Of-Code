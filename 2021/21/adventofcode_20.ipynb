{
 "cells": [
  {
   "cell_type": "code",
   "execution_count": 2,
   "metadata": {},
   "outputs": [],
   "source": [
    "import pandas as pd\n",
    "import re\n",
    "import matplotlib.pyplot as plt\n",
    "import numpy as np\n",
    "import random\n",
    "from collections import Counter\n",
    "import itertools\n",
    "import networkx as nx\n",
    "import ast\n",
    "import math"
   ]
  },
  {
   "cell_type": "code",
   "execution_count": 3,
   "metadata": {},
   "outputs": [],
   "source": [
    "def split(word):\n",
    "    return [char for char in word]"
   ]
  },
  {
   "cell_type": "code",
   "execution_count": 33,
   "metadata": {},
   "outputs": [],
   "source": [
    "def gameStep(diceValue,playerPos,playerScore):\n",
    "    playerPos += diceValue\n",
    "    if playerPos % 10 == 0:\n",
    "        playerPos = 10\n",
    "    else:\n",
    "        playerPos = playerPos % 10 \n",
    "    playerScore += playerPos\n",
    "    if playerScore >= 21:\n",
    "        return 1 \n",
    "    else:\n",
    "        return 0 "
   ]
  },
  {
   "cell_type": "code",
   "execution_count": 31,
   "metadata": {},
   "outputs": [
    {
     "name": "stdout",
     "output_type": "stream",
     "text": [
      "7 1\n",
      "17 5\n",
      "20 12\n",
      "26 22\n",
      "p1 won 26 22\n",
      "p2 won 26 22\n"
     ]
    }
   ],
   "source": [
    "#\n",
    "# example:\n",
    "#Player 1 starting position: 4\n",
    "#Player 2 starting position: 8\n",
    "p1_pos = 4\n",
    "p1_score = 0\n",
    "p2_pos = 8\n",
    "p2_score = 0\n",
    "p1_win = 0\n",
    "p2_win = 0\n",
    "\n",
    "#\n",
    "# real input\n",
    "#Player 1 starting position: 4\n",
    "#Player 2 starting position: 9\n",
    "\n",
    "playground = [x for x in range(1,11)]\n",
    "perm = [p for p in itertools.product([3,4,9,6,5,7,8], repeat=2)]\n",
    "\n",
    "gameDone = False\n",
    "\n",
    "for d in [3,4,9,6,5,7,8]: \n",
    "    "
   ]
  },
  {
   "cell_type": "code",
   "execution_count": 34,
   "metadata": {},
   "outputs": [
    {
     "data": {
      "text/plain": [
       "[(3, 3),\n",
       " (3, 4),\n",
       " (3, 9),\n",
       " (3, 6),\n",
       " (3, 5),\n",
       " (3, 7),\n",
       " (3, 8),\n",
       " (4, 3),\n",
       " (4, 4),\n",
       " (4, 9),\n",
       " (4, 6),\n",
       " (4, 5),\n",
       " (4, 7),\n",
       " (4, 8),\n",
       " (9, 3),\n",
       " (9, 4),\n",
       " (9, 9),\n",
       " (9, 6),\n",
       " (9, 5),\n",
       " (9, 7),\n",
       " (9, 8),\n",
       " (6, 3),\n",
       " (6, 4),\n",
       " (6, 9),\n",
       " (6, 6),\n",
       " (6, 5),\n",
       " (6, 7),\n",
       " (6, 8),\n",
       " (5, 3),\n",
       " (5, 4),\n",
       " (5, 9),\n",
       " (5, 6),\n",
       " (5, 5),\n",
       " (5, 7),\n",
       " (5, 8),\n",
       " (7, 3),\n",
       " (7, 4),\n",
       " (7, 9),\n",
       " (7, 6),\n",
       " (7, 5),\n",
       " (7, 7),\n",
       " (7, 8),\n",
       " (8, 3),\n",
       " (8, 4),\n",
       " (8, 9),\n",
       " (8, 6),\n",
       " (8, 5),\n",
       " (8, 7),\n",
       " (8, 8)]"
      ]
     },
     "execution_count": 34,
     "metadata": {},
     "output_type": "execute_result"
    }
   ],
   "source": [
    "perm"
   ]
  },
  {
   "cell_type": "code",
   "execution_count": 30,
   "metadata": {},
   "outputs": [
    {
     "name": "stdout",
     "output_type": "stream",
     "text": [
      "37 31\n",
      "p1 won 37 31\n",
      "p2 won 37 31\n"
     ]
    }
   ],
   "source": []
  },
  {
   "cell_type": "code",
   "execution_count": null,
   "metadata": {},
   "outputs": [],
   "source": []
  }
 ],
 "metadata": {
  "interpreter": {
   "hash": "f21f743cc6c41fc33e520d2d26f99532d48e5b1bbd397170bfb0442f3e446286"
  },
  "kernelspec": {
   "display_name": "Python 3.9.1 64-bit",
   "name": "python3"
  },
  "language_info": {
   "codemirror_mode": {
    "name": "ipython",
    "version": 3
   },
   "file_extension": ".py",
   "mimetype": "text/x-python",
   "name": "python",
   "nbconvert_exporter": "python",
   "pygments_lexer": "ipython3",
   "version": "3.9.1"
  },
  "orig_nbformat": 4
 },
 "nbformat": 4,
 "nbformat_minor": 2
}
